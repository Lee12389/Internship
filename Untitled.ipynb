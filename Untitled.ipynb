{
 "cells": [
  {
   "cell_type": "code",
   "execution_count": 4,
   "id": "e07e7fc1",
   "metadata": {},
   "outputs": [],
   "source": [
    "from bs4 import BeautifulSoup\n",
    "import requests as re"
   ]
  },
  {
   "cell_type": "code",
   "execution_count": 5,
   "id": "6ef1adf5",
   "metadata": {},
   "outputs": [],
   "source": [
    "res = re.get('https://www.wikipedia.org/')"
   ]
  },
  {
   "cell_type": "code",
   "execution_count": 9,
   "id": "01ec81ce",
   "metadata": {},
   "outputs": [],
   "source": [
    "soup = BeautifulSoup(res.text)"
   ]
  },
  {
   "cell_type": "code",
   "execution_count": null,
   "id": "ba71d2dd",
   "metadata": {},
   "outputs": [],
   "source": [
    "#list all html tags\n",
    "soup.find_all()"
   ]
  },
  {
   "cell_type": "code",
   "execution_count": 15,
   "id": "d90c23a5",
   "metadata": {},
   "outputs": [],
   "source": [
    "res = re.get(\"https://www.imdb.com/\")"
   ]
  },
  {
   "cell_type": "code",
   "execution_count": 16,
   "id": "4890530a",
   "metadata": {},
   "outputs": [
    {
     "data": {
      "text/plain": [
       "<Response [403]>"
      ]
     },
     "execution_count": 16,
     "metadata": {},
     "output_type": "execute_result"
    }
   ],
   "source": [
    "res"
   ]
  },
  {
   "cell_type": "code",
   "execution_count": 42,
   "id": "56db5291",
   "metadata": {},
   "outputs": [],
   "source": [
    "base_url = 'https://www.dineout.co.in'\n",
    "res = re.get(base_url)"
   ]
  },
  {
   "cell_type": "code",
   "execution_count": 43,
   "id": "a9d101b9",
   "metadata": {},
   "outputs": [],
   "source": [
    "soup = BeautifulSoup(res.text)"
   ]
  },
  {
   "cell_type": "code",
   "execution_count": 44,
   "id": "627683d8",
   "metadata": {},
   "outputs": [
    {
     "data": {
      "text/plain": [
       "'https://www.dineout.co.in/delhi'"
      ]
     },
     "execution_count": 44,
     "metadata": {},
     "output_type": "execute_result"
    }
   ],
   "source": [
    "items = soup.find_all('li')\n",
    "base_url+[li.a['href'] for li in items][0]"
   ]
  },
  {
   "cell_type": "code",
   "execution_count": 49,
   "id": "161d3d5a",
   "metadata": {
    "scrolled": true
   },
   "outputs": [],
   "source": [
    "res = re.get(base_url+[li.a['href'] for li in items][0])"
   ]
  },
  {
   "cell_type": "code",
   "execution_count": 50,
   "id": "868869a3",
   "metadata": {},
   "outputs": [],
   "source": [
    "soup = BeautifulSoup(res.text)"
   ]
  },
  {
   "cell_type": "code",
   "execution_count": 52,
   "id": "0d34946e",
   "metadata": {},
   "outputs": [],
   "source": [
    "ul_elements = soup.find_all('ul', class_='react-multi-carousel-track')"
   ]
  },
  {
   "cell_type": "code",
   "execution_count": 53,
   "id": "d88dd00c",
   "metadata": {},
   "outputs": [
    {
     "data": {
      "text/plain": [
       "[<ul class=\"react-multi-carousel-track\" style=\"transition:none;overflow:unset;transform:translate3d(0px,0,0)\"></ul>,\n",
       " <ul class=\"react-multi-carousel-track\" style=\"transition:none;overflow:unset;transform:translate3d(0px,0,0)\"></ul>,\n",
       " <ul class=\"react-multi-carousel-track\" style=\"transition:none;overflow:unset;transform:translate3d(0px,0,0)\"></ul>]"
      ]
     },
     "execution_count": 53,
     "metadata": {},
     "output_type": "execute_result"
    }
   ],
   "source": [
    "ul_elements"
   ]
  },
  {
   "cell_type": "code",
   "execution_count": 39,
   "id": "d2dcfb90",
   "metadata": {},
   "outputs": [],
   "source": [
    "items = [li.a for li in soup.find_all('li')]"
   ]
  },
  {
   "cell_type": "code",
   "execution_count": 40,
   "id": "91c9424c",
   "metadata": {},
   "outputs": [
    {
     "data": {
      "text/plain": [
       "[<a class=\"_1QafD\" href=\"/delhi\">Home</a>,\n",
       " <a href=\"/delhi-restaurants\">Book a Table</a>,\n",
       " <a href=\"https://www.dineout.co.in/blog\" rel=\"noopener\" target=\"_blank\">Blog</a>,\n",
       " <a aria-label=\"Delhi\" href=\"/mobilecityselect/delhi\">Delhi</a>,\n",
       " <a aria-label=\"Mumbai\" href=\"/mobilecityselect/mumbai\">Mumbai</a>,\n",
       " <a aria-label=\"Bangalore\" href=\"/mobilecityselect/bangalore\">Bangalore</a>,\n",
       " <a aria-label=\"Chennai\" href=\"/mobilecityselect/chennai\">Chennai</a>,\n",
       " <a aria-label=\"Hyderabad\" href=\"/mobilecityselect/hyderabad\">Hyderabad</a>,\n",
       " <a aria-label=\"Pune\" href=\"/mobilecityselect/pune\">Pune</a>,\n",
       " <a aria-label=\"Kolkata\" href=\"/mobilecityselect/kolkata\">Kolkata</a>,\n",
       " <a aria-label=\"Ahmedabad\" href=\"/mobilecityselect/ahmedabad\">Ahmedabad</a>,\n",
       " <a aria-label=\"Chandigarh\" href=\"/mobilecityselect/chandigarh\">Chandigarh</a>,\n",
       " <a aria-label=\"Goa\" href=\"/mobilecityselect/goa\">Goa</a>,\n",
       " <a aria-label=\"Jaipur\" href=\"/mobilecityselect/jaipur\">Jaipur</a>,\n",
       " <a aria-label=\"Lucknow\" href=\"/mobilecityselect/lucknow\">Lucknow</a>,\n",
       " <a aria-label=\"Indore\" href=\"/mobilecityselect/indore\">Indore</a>,\n",
       " <a aria-label=\"Udaipur\" href=\"/mobilecityselect/udaipur\">Udaipur</a>,\n",
       " <a aria-label=\"Agra\" href=\"/mobilecityselect/agra\">Agra</a>,\n",
       " <a aria-label=\"Vadodara\" href=\"/mobilecityselect/vadodara\">Vadodara</a>,\n",
       " <a aria-label=\"Nagpur\" href=\"/mobilecityselect/nagpur\">Nagpur</a>,\n",
       " <a aria-label=\"Kochi\" href=\"/mobilecityselect/kochi\">Kochi</a>,\n",
       " <a aria-label=\"Surat\" href=\"/mobilecityselect/surat\">Surat</a>,\n",
       " <a aria-label=\"Ludhiana\" href=\"/mobilecityselect/ludhiana\">Ludhiana</a>,\n",
       " <a class=\"_1Ukp-\" href=\"/delhi-restaurants/buffet-special\"><span><img alt=\"Buffet\" class=\"lazy-img no-img\" data-src=\"https://im1.dineout.co.in/images/uploads/misc/2020/May/8/bffet.png\" title=\"Buffet\"/></span><span>Buffet</span></a>,\n",
       " <a class=\"_1Ukp-\" href=\"/delhi-restaurants/value-for-money\"><span><img alt=\"Pocket Friendly\" class=\"lazy-img no-img\" data-src=\"https://im1.dineout.co.in/images/uploads/misc/2020/May/8/pocket_friendly.png\" title=\"Pocket Friendly\"/></span><span>Pocket Friendly</span></a>,\n",
       " <a class=\"_1Ukp-\" href=\"/delhi-restaurants/pedigree-sponsored\"><span><img alt=\"Pet Friendly\" class=\"lazy-img no-img\" data-src=\"https://im1.dineout.co.in/images/uploads/misc/2020/May/8/pet_friendly.png\" title=\"Pet Friendly\"/></span><span>Pet Friendly</span></a>,\n",
       " <a class=\"_1Ukp-\" href=\"/delhi-restaurants/hidden-gems\"><span><img alt=\"Must Visit\" class=\"lazy-img no-img\" data-src=\"https://im1.dineout.co.in/images/uploads/misc/2020/May/8/must_visit.png\" title=\"Must Visit\"/></span><span>Must Visit</span></a>,\n",
       " <a class=\"_1Ukp-\" href=\"/delhi-restaurants/family-dining\"><span><img alt=\"Family Time\" class=\"lazy-img no-img\" data-src=\"https://im1.dineout.co.in/images/uploads/misc/2020/May/8/family_time.png\" title=\"Family Time\"/></span><span>Family Time</span></a>,\n",
       " <a class=\"_1Ukp-\" href=\"/delhi-restaurants/shudh-shakahari\"><span><img alt=\"Pure Veg\" class=\"lazy-img no-img\" data-src=\"https://im1.dineout.co.in/images/uploads/misc/2020/May/8/pure_veg.png\" title=\"Pure Veg\"/></span><span>Pure Veg</span></a>,\n",
       " <a class=\"_1Ukp-\" href=\"/delhi-restaurants/new-on-dineout\"><span><img alt=\"New On Dineout\" class=\"lazy-img no-img\" data-src=\"https://im1.dineout.co.in/images/uploads/misc/2020/May/8/new_on_dineout.png\" title=\"New On Dineout\"/></span><span>New On Dineout</span></a>,\n",
       " <a class=\"_1Ukp-\" href=\"/delhi-restaurants/happiest-hour\"><span><img alt=\"Happiest Hours\" class=\"lazy-img no-img\" data-src=\"https://im1.dineout.co.in/images/uploads/misc/2020/May/8/happiest_hour.png\" title=\"Happiest Hours\"/></span><span>Happiest Hours</span></a>,\n",
       " <a href=\"/delhi\">Delhi</a>,\n",
       " <a href=\"/mumbai\">Mumbai</a>,\n",
       " <a href=\"/bangalore\">Bangalore</a>,\n",
       " <a href=\"/chennai\">Chennai</a>,\n",
       " <a href=\"/hyderabad\">Hyderabad</a>,\n",
       " <a href=\"/pune\">Pune</a>,\n",
       " <a href=\"/kolkata\">Kolkata</a>,\n",
       " <a href=\"/ahmedabad\">Ahmedabad</a>,\n",
       " <a href=\"/chandigarh\">Chandigarh</a>,\n",
       " <a href=\"/goa\">Goa</a>,\n",
       " <a href=\"/jaipur\">Jaipur</a>,\n",
       " <a href=\"/lucknow\">Lucknow</a>,\n",
       " <a href=\"/indore\">Indore</a>,\n",
       " <a href=\"/udaipur\">Udaipur</a>,\n",
       " <a href=\"/agra\">Agra</a>,\n",
       " <a href=\"/vadodara\">Vadodara</a>,\n",
       " <a href=\"/nagpur\">Nagpur</a>,\n",
       " <a href=\"/kochi\">Kochi</a>,\n",
       " <a href=\"/surat\">Surat</a>,\n",
       " <a href=\"/ludhiana\">Ludhiana</a>,\n",
       " <a href=\"/delhi-restaurants\">Trending Restaurants</a>,\n",
       " <a href=\"/aboutus\">About Us</a>,\n",
       " <a href=\"https://www.dineout.co.in/blog\" rel=\"noopener\" target=\"_blank\">Blog</a>,\n",
       " <a href=\"/termsandconditions\">Terms &amp; Conditions</a>,\n",
       " <a href=\"/privacy-policy\">Privacy Policy</a>,\n",
       " <a href=\"/delhi-restaurants/chinese-cuisine\">Chinese</a>,\n",
       " <a href=\"/delhi-restaurants/italian-cuisine\">Italian</a>,\n",
       " <a href=\"/delhi-restaurants/south-indian-cuisine\">South Indian</a>,\n",
       " <a href=\"/delhi-restaurants/mexican-cuisine\">Mexican</a>,\n",
       " <a href=\"/delhi-restaurants/bengali-cuisine\">Bengali</a>,\n",
       " <a href=\"/delhi-restaurants/thai-cuisine\">Thai</a>,\n",
       " <a href=\"/delhi-restaurants/fine-dining\">Fine Dining</a>,\n",
       " <a href=\"/delhi-restaurants/5-star\">5 Star</a>,\n",
       " <a href=\"/delhi-restaurants/roof-top-feature\">Rooftop</a>,\n",
       " <a href=\"/delhi-restaurants/west-delhi/rajouri-garden\">Rajouri Garden</a>,\n",
       " <a href=\"/delhi-restaurants/south-delhi/hauz-khas-village\">Hauz Khas Village</a>,\n",
       " <a href=\"/delhi-restaurants/gurgaon/dlf-cyber-city\">DLF Cyber City</a>,\n",
       " <a href=\"/delhi-restaurants/central-delhi/connaught-place\">Connaught Place</a>,\n",
       " <a href=\"/delhi-restaurants/central-delhi/khan-market\">Khan Market</a>,\n",
       " <a href=\"/delhi-restaurants/west-delhi/dwarka\">Dwarka</a>,\n",
       " <a href=\"https://www.youtube.com/channel/UCj_gwlpeh01QMdzbwGLxWTw\" rel=\"noopener\" target=\"_blank\"><svg height=\"30\" viewbox=\"0 0 30 30\" width=\"30\" xmlns=\"http://www.w3.org/2000/svg\"><path d=\"M14.81 0c8.18 0 14.81 6.63 14.81 14.81s-6.63 14.81-14.81 14.81S0 22.99 0 14.81 6.63 0 14.81 0zm5.504 9.704H9.774a2.247 2.247 0 0 0-2.247 2.248v6.028a2.247 2.247 0 0 0 2.246 2.248h10.54a2.247 2.247 0 0 0 2.248-2.248v-6.028a2.247 2.247 0 0 0-2.247-2.248zm-6.774 2.144l4.293 2.83-4.293 2.831v-5.661z\" fill=\"#D42428\" fill-rule=\"nonzero\"></path></svg></a>,\n",
       " <a href=\"https://www.facebook.com/dineout.co.in/\" rel=\"noopener\" target=\"_blank\"><svg height=\"30\" viewbox=\"0 0 30 30\" width=\"30\" xmlns=\"http://www.w3.org/2000/svg\"><path d=\"M14.81 0c8.18 0 14.81 6.63 14.81 14.81s-6.63 14.81-14.81 14.81S0 22.99 0 14.81 6.63 0 14.81 0zm3.18 8H15.69c-3.09 0-3.184 2.117-3.185 2.64v2H10.99v2.356h1.513V22h3.108v-7.004h2.086s.195-1.13.29-2.366h-2.364v-1.612c0-.24.338-.564.674-.564h1.693V8z\" fill=\"#3A5A98\" fill-rule=\"nonzero\"></path></svg></a>,\n",
       " <a href=\"https://www.instagram.com/dineout_india\" rel=\"noopener\" target=\"_blank\"><svg height=\"30\" viewbox=\"0 0 30 30\" width=\"30\" xmlns=\"http://www.w3.org/2000/svg\"><defs><lineargradient id=\"a\" x1=\"50%\" x2=\"50%\" y1=\"99.709%\" y2=\".777%\"><stop offset=\"0%\" stop-color=\"#E09B3D\"></stop><stop offset=\"30%\" stop-color=\"#C74C4D\"></stop><stop offset=\"60%\" stop-color=\"#C21975\"></stop><stop offset=\"100%\" stop-color=\"#7024C4\"></stop></lineargradient></defs><path d=\"M15 0c8.284 0 15 6.716 15 15 0 8.284-6.716 15-15 15-8.284 0-15-6.716-15-15C0 6.716 6.716 0 15 0zm3.234 7h-6.468l-.212.005A4.772 4.772 0 0 0 7 11.766v6.468l.005.212A4.772 4.772 0 0 0 11.766 23h6.468l.212-.005A4.772 4.772 0 0 0 23 18.234v-6.468l-.005-.212A4.772 4.772 0 0 0 18.234 7zm0 1.61a3.157 3.157 0 0 1 3.156 3.156v6.468l-.005.179a3.157 3.157 0 0 1-3.151 2.977h-6.468l-.179-.005a3.157 3.157 0 0 1-2.977-3.151v-6.468l.005-.179a3.157 3.157 0 0 1 3.151-2.977zM15 10.862A4.143 4.143 0 0 0 10.862 15 4.143 4.143 0 0 0 15 19.138 4.143 4.143 0 0 0 19.138 15 4.143 4.143 0 0 0 15 10.862zm0 1.61a2.529 2.529 0 1 1 0 5.057 2.529 2.529 0 0 1 0-5.058zm4.146-2.57a.992.992 0 1 0 0 1.982.992.992 0 0 0 0-1.983z\" fill=\"url(#a)\" fill-rule=\"nonzero\"></path></svg></a>,\n",
       " <a href=\"https://twitter.com/dineout_india\" rel=\"noopener\" target=\"_blank\"><svg height=\"30\" viewbox=\"0 0 30 30\" width=\"30\" xmlns=\"http://www.w3.org/2000/svg\"><g fill=\"none\" fill-rule=\"evenodd\" id=\"Page-1\" stroke=\"none\" stroke-width=\"1\"><g fill=\"#76A9EA\" fill-rule=\"nonzero\" id=\"1.Home-Page\" transform=\"translate(-762.000000, -6663.000000)\"><g id=\"Footer\" transform=\"translate(1.000000, 6015.000000)\"><g id=\"Group-61\" transform=\"translate(647.000000, 648.000000)\"><g id=\"ic-twitter\" transform=\"translate(114.000000, 0.000000)\"><path d=\"M15,4.08562073e-14 C23.2842712,4.08562073e-14 30,6.71572875 30,15 C30,23.2842712 23.2842712,30 15,30 C6.71572875,30 2.84217094e-14,23.2842712 2.84217094e-14,15 C2.84217094e-14,6.71572875 6.71572875,4.08562073e-14 15,4.08562073e-14 Z M17.9167988,9 C17.5526436,9 17.1849777,9.05970578 16.8239823,9.17747594 C15.7054976,9.54239931 14.842487,10.5129157 14.571721,11.7103141 C14.4701399,12.1594411 14.4426381,12.6089784 14.4899178,13.0464105 C14.4953401,13.0966782 14.4727535,13.1317631 14.4588271,13.1482181 C14.434368,13.1770656 14.3996884,13.1936027 14.3636825,13.1936027 C14.3596645,13.1936027 14.3555295,13.1933975 14.3514335,13.1929871 C12.0051231,12.9636824 9.87971943,11.8145993 8.33315225,9.94694179 L8.13473814,9.69927573 C8.06652698,9.61123829 7.94466401,9.60791697 7.87129401,9.68083587 L7.83912299,9.72360943 C7.53352137,10.2751185 7.37202141,10.905907 7.37202141,11.5477749 C7.37202141,12.5314635 7.74772337,13.4584829 8.40031586,14.1342867 C8.19449118,14.0829521 7.9936256,14.0094816 7.80196508,13.9151392 L7.61353017,13.8138862 C7.50908182,13.7528468 7.38357741,13.8138638 7.35270957,13.9262874 L7.34561187,13.9774103 C7.32852564,15.4387452 8.14187691,16.7390591 9.36030441,17.3245861 C9.33576734,17.3252016 9.31123027,17.3254888 9.28665419,17.3254888 C9.15789633,17.3254888 9.02806353,17.3167712 8.89878554,17.299494 L8.70548838,17.2671782 C8.58786452,17.2435524 8.48669725,17.3433025 8.49120607,17.4604538 L8.4998685,17.511418 C8.89534836,18.8102136 9.95843942,19.7675578 11.2306222,19.9849197 C10.174787,20.7304828 8.94524171,21.1237613 7.66553004,21.1237613 L7.26657831,21.123515 C7.1436589,21.123515 7.03969817,21.2078007 7.00837342,21.3330392 C6.97751678,21.4563902 7.03435385,21.5865118 7.13917279,21.6506494 C8.58120362,22.5334332 10.2260456,23 11.896595,23 C13.3588719,23 14.7267063,22.6947414 15.9621421,22.0927594 C17.0947093,21.540881 18.095541,20.7519851 18.9368232,19.7479842 C19.7205271,18.8127167 20.3333687,17.7330475 20.7582619,16.5390139 C21.1632991,15.4008289 21.3773841,14.18636 21.3773841,13.0268779 L21.3773841,12.9716449 C21.3773451,12.7854695 21.4573929,12.6102916 21.5970474,12.4910441 C22.0386692,12.113865 22.432748,11.6810038 22.771834,11.2010332 L22.9686268,10.9074663 C23.0689987,10.749523 22.9106975,10.5515706 22.7455306,10.6286342 C22.3900357,10.7944562 22.0210044,10.9252754 21.6423376,11.019984 C22.007429,10.6550401 22.2932539,10.2100134 22.4775729,9.71437337 L22.5502873,9.49894335 C22.5951918,9.35118124 22.4645624,9.22118672 22.3347584,9.25663412 L22.286465,9.27797041 C21.7596787,9.60665996 21.1922443,9.85323868 20.5998827,10.0109358 C20.5655152,10.0200866 20.5300554,10.0247235 20.4944786,10.0247235 C20.3865779,10.0247235 20.2816809,9.98258068 20.1991755,9.90609163 C19.5689356,9.32179569 18.758354,9 17.9167988,9 Z\" id=\"Combined-Shape\"></path></g></g></g></g></g></svg></a>]"
      ]
     },
     "execution_count": 40,
     "metadata": {},
     "output_type": "execute_result"
    }
   ],
   "source": [
    "items"
   ]
  },
  {
   "cell_type": "markdown",
   "id": "1e8b6031",
   "metadata": {},
   "source": [
    "    ## Unable to process using raw bs4 since the site is using scripting mostly. using driver"
   ]
  },
  {
   "cell_type": "markdown",
   "id": "f071fbb1",
   "metadata": {},
   "source": []
  },
  {
   "cell_type": "code",
   "execution_count": 7,
   "id": "4966ce3a",
   "metadata": {},
   "outputs": [],
   "source": [
    "from selenium import webdriver\n"
   ]
  },
  {
   "cell_type": "code",
   "execution_count": 8,
   "id": "e3b3d365",
   "metadata": {},
   "outputs": [],
   "source": [
    "driver = webdriver.Firefox()"
   ]
  },
  {
   "cell_type": "code",
   "execution_count": 9,
   "id": "9be8de07",
   "metadata": {},
   "outputs": [
    {
     "ename": "NameError",
     "evalue": "name 'url' is not defined",
     "output_type": "error",
     "traceback": [
      "\u001b[1;31m---------------------------------------------------------------------------\u001b[0m",
      "\u001b[1;31mNameError\u001b[0m                                 Traceback (most recent call last)",
      "Cell \u001b[1;32mIn[9], line 1\u001b[0m\n\u001b[1;32m----> 1\u001b[0m driver\u001b[38;5;241m.\u001b[39mget(url)\n",
      "\u001b[1;31mNameError\u001b[0m: name 'url' is not defined"
     ]
    }
   ],
   "source": [
    "driver.get(url)"
   ]
  }
 ],
 "metadata": {
  "kernelspec": {
   "display_name": "Python 3 (ipykernel)",
   "language": "python",
   "name": "python3"
  },
  "language_info": {
   "codemirror_mode": {
    "name": "ipython",
    "version": 3
   },
   "file_extension": ".py",
   "mimetype": "text/x-python",
   "name": "python",
   "nbconvert_exporter": "python",
   "pygments_lexer": "ipython3",
   "version": "3.11.5"
  }
 },
 "nbformat": 4,
 "nbformat_minor": 5
}
