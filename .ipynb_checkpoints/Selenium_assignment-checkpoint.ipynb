{
 "cells": [
  {
   "cell_type": "code",
   "execution_count": 45,
   "id": "c4440b97",
   "metadata": {},
   "outputs": [],
   "source": [
    "import selenium\n",
    "from selenium.webdriver.common.by import By\n",
    "import os\n",
    "from selenium import webdriver\n",
    "from selenium.webdriver.support.ui import WebDriverWait\n",
    "from selenium.webdriver.support import expected_conditions as EC\n",
    "driver_path = r'D:\\Downloads\\chrome-win64\\chrome-win64\\chrome.exe'\n",
    "os.environ[\"PATH\"] += os.pathsep + driver_path\n",
    "import time\n",
    "import requests as re\n",
    "import pandas as pd"
   ]
  },
  {
   "cell_type": "code",
   "execution_count": 5,
   "id": "d7f46e2c",
   "metadata": {},
   "outputs": [],
   "source": [
    "def create_driver(url):\n",
    "    driver = webdriver.Chrome()\n",
    "    driver.get(url)\n",
    "    return driver"
   ]
  },
  {
   "cell_type": "markdown",
   "id": "4172c55d",
   "metadata": {},
   "source": [
    "# Question 1"
   ]
  },
  {
   "cell_type": "code",
   "execution_count": null,
   "id": "7f11f0b5",
   "metadata": {},
   "outputs": [],
   "source": [
    "driver = create_driver(\"https://www.naukri.com/\")\n",
    "driver.maximize_window()\n",
    "time.sleep(4)\n",
    "search = driver.find_element('xpath','/html/body/div[1]/div[7]/div/div/div[1]/div/div/div/div[1]/div/input')\n",
    "search.send_keys('Data Scientist')\n",
    "button = driver.find_element('xpath','/html/body/div[1]/div[7]/div/div/div[6]')\n",
    "button.click()\n",
    "time.sleep(5)\n",
    "delhi = driver.find_element('xpath','/html/body/div/div/main/div[1]/div[1]/div/div/div[2]/div[5]/div[2]/div[3]/label/p/span[1]')\n",
    "delhi.click()\n",
    "time.sleep(5)\n",
    "package = driver.find_element('xpath','/html/body/div/div/main/div[1]/div[1]/div/div/div[2]/div[6]/div[2]/div[2]/label/p/span[1]')\n",
    "package.click()\n",
    "time.sleep(5)\n",
    "import pandas as pd\n",
    "df = pd.DataFrame()\n",
    "\n",
    "#Role\n",
    "all_jobs = driver.find_elements('xpath',\"//div[contains(@class,'cust-job-tuple layout-wrapper lay-2 sjw__tuple ')]/div/a\")\n",
    "for i,job in enumerate(all_jobs[:10]):\n",
    "    df.loc[i,'Role'] = job.text\n",
    "#Role\n",
    "all_jobs = driver.find_elements('xpath',\"//div[contains(@class,'cust-job-tuple layout-wrapper lay-2 sjw__tuple ')]/div[2]/span\")\n",
    "for i,job in enumerate(all_jobs[:10]):\n",
    "    df.loc[i,'Company'] = job.text.split('\\n')[0]\n",
    "\n",
    "#Role\n",
    "all_jobs = driver.find_elements('xpath',\"//div[contains(@class,'cust-job-tuple layout-wrapper lay-2 sjw__tuple ')]/div[3]\")\n",
    "for i,job in enumerate(all_jobs[:10]):\n",
    "    df.loc[i,'Experience'] = job.text.split('\\n')[0]\n",
    "    df.loc[i,'Location'] = job.text.split('\\n')[2]\n",
    "    \n",
    "driver.quit()"
   ]
  },
  {
   "cell_type": "markdown",
   "id": "894c87d5",
   "metadata": {},
   "source": [
    "# Question 2"
   ]
  },
  {
   "cell_type": "code",
   "execution_count": 17,
   "id": "f5f2a60c",
   "metadata": {},
   "outputs": [],
   "source": [
    "driver.quit()"
   ]
  },
  {
   "cell_type": "code",
   "execution_count": 18,
   "id": "651ae828",
   "metadata": {},
   "outputs": [],
   "source": [
    "chrome_options = webdriver.ChromeOptions()\n",
    "chrome_options.add_argument(\"--disable-notifications\")\n",
    "\n",
    "driver = webdriver.Chrome(options=chrome_options)\n",
    "url = 'https://www.shine.com/'\n",
    "driver.get(url)\n",
    "\n",
    "driver.maximize_window()\n",
    "time.sleep(4)"
   ]
  },
  {
   "cell_type": "code",
   "execution_count": 19,
   "id": "7554d5e1",
   "metadata": {},
   "outputs": [],
   "source": [
    "button = driver.find_element('xpath','/html/body/div[1]/header/div[3]/div/div/div[1]/div/span')\n",
    "button.click()\n",
    "time.sleep(2)\n"
   ]
  },
  {
   "cell_type": "code",
   "execution_count": 20,
   "id": "0fe32794",
   "metadata": {},
   "outputs": [],
   "source": [
    "search = driver.find_element('xpath','/html/body/div/div[4]/div/div[2]/div[2]/div/form/div/div[1]/ul/li[1]/div/input')\n",
    "search.send_keys('Data Scientist')\n",
    "time.sleep(2)\n",
    "loc = driver.find_element('xpath','/html/body/div/div[4]/div/div[2]/div[2]/div/form/div/div[1]/ul/li[2]/div/input')\n",
    "loc.send_keys('Banglore')\n",
    "time.sleep(2)\n",
    "btn = driver.find_element('xpath','/html/body/div/div[4]/div/div[2]/div[2]/div/form/div/div[2]/div/button')\n",
    "btn.click()\n",
    "time.sleep(5)"
   ]
  },
  {
   "cell_type": "code",
   "execution_count": 23,
   "id": "7512af86",
   "metadata": {},
   "outputs": [
    {
     "ename": "NoSuchElementException",
     "evalue": "Message: no such element: Unable to locate element: {\"method\":\"xpath\",\"selector\":\"/html/body/div[3]/div/div/div/div[3]/div/div/div/ul/li/input\"}\n  (Session info: chrome=122.0.6261.129); For documentation on this error, please visit: https://www.selenium.dev/documentation/webdriver/troubleshooting/errors#no-such-element-exception\nStacktrace:\n\tGetHandleVerifier [0x00007FF7F5A9AD02+56930]\n\t(No symbol) [0x00007FF7F5A0F602]\n\t(No symbol) [0x00007FF7F58C42E5]\n\t(No symbol) [0x00007FF7F59098ED]\n\t(No symbol) [0x00007FF7F5909A2C]\n\t(No symbol) [0x00007FF7F594A967]\n\t(No symbol) [0x00007FF7F592BCDF]\n\t(No symbol) [0x00007FF7F59481E2]\n\t(No symbol) [0x00007FF7F592BA43]\n\t(No symbol) [0x00007FF7F58FD438]\n\t(No symbol) [0x00007FF7F58FE4D1]\n\tGetHandleVerifier [0x00007FF7F5E16F8D+3711213]\n\tGetHandleVerifier [0x00007FF7F5E704CD+4077101]\n\tGetHandleVerifier [0x00007FF7F5E6865F+4044735]\n\tGetHandleVerifier [0x00007FF7F5B39736+706710]\n\t(No symbol) [0x00007FF7F5A1B8DF]\n\t(No symbol) [0x00007FF7F5A16AC4]\n\t(No symbol) [0x00007FF7F5A16C1C]\n\t(No symbol) [0x00007FF7F5A068D4]\n\tBaseThreadInitThunk [0x00007FFD25B67344+20]\n\tRtlUserThreadStart [0x00007FFD271226B1+33]\n",
     "output_type": "error",
     "traceback": [
      "\u001b[1;31m---------------------------------------------------------------------------\u001b[0m",
      "\u001b[1;31mNoSuchElementException\u001b[0m                    Traceback (most recent call last)",
      "Cell \u001b[1;32mIn[23], line 1\u001b[0m\n\u001b[1;32m----> 1\u001b[0m driver\u001b[38;5;241m.\u001b[39mfind_element(\u001b[38;5;124m'\u001b[39m\u001b[38;5;124mxpath\u001b[39m\u001b[38;5;124m'\u001b[39m,\u001b[38;5;124m'\u001b[39m\u001b[38;5;124m/html/body/div[3]/div/div/div/div[3]/div/div/div/ul/li/input\u001b[39m\u001b[38;5;124m'\u001b[39m)\u001b[38;5;241m.\u001b[39msend_keys(\u001b[38;5;124m'\u001b[39m\u001b[38;5;124mBangalore\u001b[39m\u001b[38;5;124m'\u001b[39m)\n\u001b[0;32m      2\u001b[0m time\u001b[38;5;241m.\u001b[39msleep(\u001b[38;5;241m2\u001b[39m)\n",
      "File \u001b[1;32m~\\AppData\\Roaming\\Python\\Python311\\site-packages\\selenium\\webdriver\\remote\\webdriver.py:741\u001b[0m, in \u001b[0;36mWebDriver.find_element\u001b[1;34m(self, by, value)\u001b[0m\n\u001b[0;32m    738\u001b[0m     by \u001b[38;5;241m=\u001b[39m By\u001b[38;5;241m.\u001b[39mCSS_SELECTOR\n\u001b[0;32m    739\u001b[0m     value \u001b[38;5;241m=\u001b[39m \u001b[38;5;124mf\u001b[39m\u001b[38;5;124m'\u001b[39m\u001b[38;5;124m[name=\u001b[39m\u001b[38;5;124m\"\u001b[39m\u001b[38;5;132;01m{\u001b[39;00mvalue\u001b[38;5;132;01m}\u001b[39;00m\u001b[38;5;124m\"\u001b[39m\u001b[38;5;124m]\u001b[39m\u001b[38;5;124m'\u001b[39m\n\u001b[1;32m--> 741\u001b[0m \u001b[38;5;28;01mreturn\u001b[39;00m \u001b[38;5;28mself\u001b[39m\u001b[38;5;241m.\u001b[39mexecute(Command\u001b[38;5;241m.\u001b[39mFIND_ELEMENT, {\u001b[38;5;124m\"\u001b[39m\u001b[38;5;124musing\u001b[39m\u001b[38;5;124m\"\u001b[39m: by, \u001b[38;5;124m\"\u001b[39m\u001b[38;5;124mvalue\u001b[39m\u001b[38;5;124m\"\u001b[39m: value})[\u001b[38;5;124m\"\u001b[39m\u001b[38;5;124mvalue\u001b[39m\u001b[38;5;124m\"\u001b[39m]\n",
      "File \u001b[1;32m~\\AppData\\Roaming\\Python\\Python311\\site-packages\\selenium\\webdriver\\remote\\webdriver.py:347\u001b[0m, in \u001b[0;36mWebDriver.execute\u001b[1;34m(self, driver_command, params)\u001b[0m\n\u001b[0;32m    345\u001b[0m response \u001b[38;5;241m=\u001b[39m \u001b[38;5;28mself\u001b[39m\u001b[38;5;241m.\u001b[39mcommand_executor\u001b[38;5;241m.\u001b[39mexecute(driver_command, params)\n\u001b[0;32m    346\u001b[0m \u001b[38;5;28;01mif\u001b[39;00m response:\n\u001b[1;32m--> 347\u001b[0m     \u001b[38;5;28mself\u001b[39m\u001b[38;5;241m.\u001b[39merror_handler\u001b[38;5;241m.\u001b[39mcheck_response(response)\n\u001b[0;32m    348\u001b[0m     response[\u001b[38;5;124m\"\u001b[39m\u001b[38;5;124mvalue\u001b[39m\u001b[38;5;124m\"\u001b[39m] \u001b[38;5;241m=\u001b[39m \u001b[38;5;28mself\u001b[39m\u001b[38;5;241m.\u001b[39m_unwrap_value(response\u001b[38;5;241m.\u001b[39mget(\u001b[38;5;124m\"\u001b[39m\u001b[38;5;124mvalue\u001b[39m\u001b[38;5;124m\"\u001b[39m, \u001b[38;5;28;01mNone\u001b[39;00m))\n\u001b[0;32m    349\u001b[0m     \u001b[38;5;28;01mreturn\u001b[39;00m response\n",
      "File \u001b[1;32m~\\AppData\\Roaming\\Python\\Python311\\site-packages\\selenium\\webdriver\\remote\\errorhandler.py:229\u001b[0m, in \u001b[0;36mErrorHandler.check_response\u001b[1;34m(self, response)\u001b[0m\n\u001b[0;32m    227\u001b[0m         alert_text \u001b[38;5;241m=\u001b[39m value[\u001b[38;5;124m\"\u001b[39m\u001b[38;5;124malert\u001b[39m\u001b[38;5;124m\"\u001b[39m]\u001b[38;5;241m.\u001b[39mget(\u001b[38;5;124m\"\u001b[39m\u001b[38;5;124mtext\u001b[39m\u001b[38;5;124m\"\u001b[39m)\n\u001b[0;32m    228\u001b[0m     \u001b[38;5;28;01mraise\u001b[39;00m exception_class(message, screen, stacktrace, alert_text)  \u001b[38;5;66;03m# type: ignore[call-arg]  # mypy is not smart enough here\u001b[39;00m\n\u001b[1;32m--> 229\u001b[0m \u001b[38;5;28;01mraise\u001b[39;00m exception_class(message, screen, stacktrace)\n",
      "\u001b[1;31mNoSuchElementException\u001b[0m: Message: no such element: Unable to locate element: {\"method\":\"xpath\",\"selector\":\"/html/body/div[3]/div/div/div/div[3]/div/div/div/ul/li/input\"}\n  (Session info: chrome=122.0.6261.129); For documentation on this error, please visit: https://www.selenium.dev/documentation/webdriver/troubleshooting/errors#no-such-element-exception\nStacktrace:\n\tGetHandleVerifier [0x00007FF7F5A9AD02+56930]\n\t(No symbol) [0x00007FF7F5A0F602]\n\t(No symbol) [0x00007FF7F58C42E5]\n\t(No symbol) [0x00007FF7F59098ED]\n\t(No symbol) [0x00007FF7F5909A2C]\n\t(No symbol) [0x00007FF7F594A967]\n\t(No symbol) [0x00007FF7F592BCDF]\n\t(No symbol) [0x00007FF7F59481E2]\n\t(No symbol) [0x00007FF7F592BA43]\n\t(No symbol) [0x00007FF7F58FD438]\n\t(No symbol) [0x00007FF7F58FE4D1]\n\tGetHandleVerifier [0x00007FF7F5E16F8D+3711213]\n\tGetHandleVerifier [0x00007FF7F5E704CD+4077101]\n\tGetHandleVerifier [0x00007FF7F5E6865F+4044735]\n\tGetHandleVerifier [0x00007FF7F5B39736+706710]\n\t(No symbol) [0x00007FF7F5A1B8DF]\n\t(No symbol) [0x00007FF7F5A16AC4]\n\t(No symbol) [0x00007FF7F5A16C1C]\n\t(No symbol) [0x00007FF7F5A068D4]\n\tBaseThreadInitThunk [0x00007FFD25B67344+20]\n\tRtlUserThreadStart [0x00007FFD271226B1+33]\n"
     ]
    }
   ],
   "source": [
    "driver.find_element('xpath','/html/body/div[3]/div/div/div/div[3]/div/div/div/ul/li/input').send_keys('Bangalore')\n",
    "time.sleep(2)"
   ]
  },
  {
   "cell_type": "code",
   "execution_count": 21,
   "id": "bce30dc2",
   "metadata": {},
   "outputs": [
    {
     "ename": "NoSuchElementException",
     "evalue": "Message: no such element: Unable to locate element: {\"method\":\"xpath\",\"selector\":\"/html/body/div[3]/div/div/div/div[3]/div/div/div/ul/li/input\"}\n  (Session info: chrome=122.0.6261.129); For documentation on this error, please visit: https://www.selenium.dev/documentation/webdriver/troubleshooting/errors#no-such-element-exception\nStacktrace:\n\tGetHandleVerifier [0x00007FF7F5A9AD02+56930]\n\t(No symbol) [0x00007FF7F5A0F602]\n\t(No symbol) [0x00007FF7F58C42E5]\n\t(No symbol) [0x00007FF7F59098ED]\n\t(No symbol) [0x00007FF7F5909A2C]\n\t(No symbol) [0x00007FF7F594A967]\n\t(No symbol) [0x00007FF7F592BCDF]\n\t(No symbol) [0x00007FF7F59481E2]\n\t(No symbol) [0x00007FF7F592BA43]\n\t(No symbol) [0x00007FF7F58FD438]\n\t(No symbol) [0x00007FF7F58FE4D1]\n\tGetHandleVerifier [0x00007FF7F5E16F8D+3711213]\n\tGetHandleVerifier [0x00007FF7F5E704CD+4077101]\n\tGetHandleVerifier [0x00007FF7F5E6865F+4044735]\n\tGetHandleVerifier [0x00007FF7F5B39736+706710]\n\t(No symbol) [0x00007FF7F5A1B8DF]\n\t(No symbol) [0x00007FF7F5A16AC4]\n\t(No symbol) [0x00007FF7F5A16C1C]\n\t(No symbol) [0x00007FF7F5A068D4]\n\tBaseThreadInitThunk [0x00007FFD25B67344+20]\n\tRtlUserThreadStart [0x00007FFD271226B1+33]\n",
     "output_type": "error",
     "traceback": [
      "\u001b[1;31m---------------------------------------------------------------------------\u001b[0m",
      "\u001b[1;31mNoSuchElementException\u001b[0m                    Traceback (most recent call last)",
      "Cell \u001b[1;32mIn[21], line 1\u001b[0m\n\u001b[1;32m----> 1\u001b[0m driver\u001b[38;5;241m.\u001b[39mfind_element(\u001b[38;5;124m'\u001b[39m\u001b[38;5;124mxpath\u001b[39m\u001b[38;5;124m'\u001b[39m,\u001b[38;5;124m'\u001b[39m\u001b[38;5;124m/html/body/div[3]/div/div/div/div[3]/div/div/div/ul/li/input\u001b[39m\u001b[38;5;124m'\u001b[39m)\u001b[38;5;241m.\u001b[39msend_keys(\u001b[38;5;124m'\u001b[39m\u001b[38;5;124mBangalore\u001b[39m\u001b[38;5;124m'\u001b[39m)\n\u001b[0;32m      2\u001b[0m time\u001b[38;5;241m.\u001b[39msleep(\u001b[38;5;241m2\u001b[39m)\n\u001b[0;32m      3\u001b[0m blr \u001b[38;5;241m=\u001b[39m driver\u001b[38;5;241m.\u001b[39mfind_element(\u001b[38;5;124m'\u001b[39m\u001b[38;5;124mxpath\u001b[39m\u001b[38;5;124m'\u001b[39m,\u001b[38;5;124m'\u001b[39m\u001b[38;5;124m/html/body/div[1]/div[2]/div[3]/div/div[1]/div/div[2]/div/ul/li[1]/button\u001b[39m\u001b[38;5;124m'\u001b[39m)\n",
      "File \u001b[1;32m~\\AppData\\Roaming\\Python\\Python311\\site-packages\\selenium\\webdriver\\remote\\webdriver.py:741\u001b[0m, in \u001b[0;36mWebDriver.find_element\u001b[1;34m(self, by, value)\u001b[0m\n\u001b[0;32m    738\u001b[0m     by \u001b[38;5;241m=\u001b[39m By\u001b[38;5;241m.\u001b[39mCSS_SELECTOR\n\u001b[0;32m    739\u001b[0m     value \u001b[38;5;241m=\u001b[39m \u001b[38;5;124mf\u001b[39m\u001b[38;5;124m'\u001b[39m\u001b[38;5;124m[name=\u001b[39m\u001b[38;5;124m\"\u001b[39m\u001b[38;5;132;01m{\u001b[39;00mvalue\u001b[38;5;132;01m}\u001b[39;00m\u001b[38;5;124m\"\u001b[39m\u001b[38;5;124m]\u001b[39m\u001b[38;5;124m'\u001b[39m\n\u001b[1;32m--> 741\u001b[0m \u001b[38;5;28;01mreturn\u001b[39;00m \u001b[38;5;28mself\u001b[39m\u001b[38;5;241m.\u001b[39mexecute(Command\u001b[38;5;241m.\u001b[39mFIND_ELEMENT, {\u001b[38;5;124m\"\u001b[39m\u001b[38;5;124musing\u001b[39m\u001b[38;5;124m\"\u001b[39m: by, \u001b[38;5;124m\"\u001b[39m\u001b[38;5;124mvalue\u001b[39m\u001b[38;5;124m\"\u001b[39m: value})[\u001b[38;5;124m\"\u001b[39m\u001b[38;5;124mvalue\u001b[39m\u001b[38;5;124m\"\u001b[39m]\n",
      "File \u001b[1;32m~\\AppData\\Roaming\\Python\\Python311\\site-packages\\selenium\\webdriver\\remote\\webdriver.py:347\u001b[0m, in \u001b[0;36mWebDriver.execute\u001b[1;34m(self, driver_command, params)\u001b[0m\n\u001b[0;32m    345\u001b[0m response \u001b[38;5;241m=\u001b[39m \u001b[38;5;28mself\u001b[39m\u001b[38;5;241m.\u001b[39mcommand_executor\u001b[38;5;241m.\u001b[39mexecute(driver_command, params)\n\u001b[0;32m    346\u001b[0m \u001b[38;5;28;01mif\u001b[39;00m response:\n\u001b[1;32m--> 347\u001b[0m     \u001b[38;5;28mself\u001b[39m\u001b[38;5;241m.\u001b[39merror_handler\u001b[38;5;241m.\u001b[39mcheck_response(response)\n\u001b[0;32m    348\u001b[0m     response[\u001b[38;5;124m\"\u001b[39m\u001b[38;5;124mvalue\u001b[39m\u001b[38;5;124m\"\u001b[39m] \u001b[38;5;241m=\u001b[39m \u001b[38;5;28mself\u001b[39m\u001b[38;5;241m.\u001b[39m_unwrap_value(response\u001b[38;5;241m.\u001b[39mget(\u001b[38;5;124m\"\u001b[39m\u001b[38;5;124mvalue\u001b[39m\u001b[38;5;124m\"\u001b[39m, \u001b[38;5;28;01mNone\u001b[39;00m))\n\u001b[0;32m    349\u001b[0m     \u001b[38;5;28;01mreturn\u001b[39;00m response\n",
      "File \u001b[1;32m~\\AppData\\Roaming\\Python\\Python311\\site-packages\\selenium\\webdriver\\remote\\errorhandler.py:229\u001b[0m, in \u001b[0;36mErrorHandler.check_response\u001b[1;34m(self, response)\u001b[0m\n\u001b[0;32m    227\u001b[0m         alert_text \u001b[38;5;241m=\u001b[39m value[\u001b[38;5;124m\"\u001b[39m\u001b[38;5;124malert\u001b[39m\u001b[38;5;124m\"\u001b[39m]\u001b[38;5;241m.\u001b[39mget(\u001b[38;5;124m\"\u001b[39m\u001b[38;5;124mtext\u001b[39m\u001b[38;5;124m\"\u001b[39m)\n\u001b[0;32m    228\u001b[0m     \u001b[38;5;28;01mraise\u001b[39;00m exception_class(message, screen, stacktrace, alert_text)  \u001b[38;5;66;03m# type: ignore[call-arg]  # mypy is not smart enough here\u001b[39;00m\n\u001b[1;32m--> 229\u001b[0m \u001b[38;5;28;01mraise\u001b[39;00m exception_class(message, screen, stacktrace)\n",
      "\u001b[1;31mNoSuchElementException\u001b[0m: Message: no such element: Unable to locate element: {\"method\":\"xpath\",\"selector\":\"/html/body/div[3]/div/div/div/div[3]/div/div/div/ul/li/input\"}\n  (Session info: chrome=122.0.6261.129); For documentation on this error, please visit: https://www.selenium.dev/documentation/webdriver/troubleshooting/errors#no-such-element-exception\nStacktrace:\n\tGetHandleVerifier [0x00007FF7F5A9AD02+56930]\n\t(No symbol) [0x00007FF7F5A0F602]\n\t(No symbol) [0x00007FF7F58C42E5]\n\t(No symbol) [0x00007FF7F59098ED]\n\t(No symbol) [0x00007FF7F5909A2C]\n\t(No symbol) [0x00007FF7F594A967]\n\t(No symbol) [0x00007FF7F592BCDF]\n\t(No symbol) [0x00007FF7F59481E2]\n\t(No symbol) [0x00007FF7F592BA43]\n\t(No symbol) [0x00007FF7F58FD438]\n\t(No symbol) [0x00007FF7F58FE4D1]\n\tGetHandleVerifier [0x00007FF7F5E16F8D+3711213]\n\tGetHandleVerifier [0x00007FF7F5E704CD+4077101]\n\tGetHandleVerifier [0x00007FF7F5E6865F+4044735]\n\tGetHandleVerifier [0x00007FF7F5B39736+706710]\n\t(No symbol) [0x00007FF7F5A1B8DF]\n\t(No symbol) [0x00007FF7F5A16AC4]\n\t(No symbol) [0x00007FF7F5A16C1C]\n\t(No symbol) [0x00007FF7F5A068D4]\n\tBaseThreadInitThunk [0x00007FFD25B67344+20]\n\tRtlUserThreadStart [0x00007FFD271226B1+33]\n"
     ]
    }
   ],
   "source": [
    "\n",
    "blr = driver.find_element('xpath','/html/body/div[1]/div[2]/div[3]/div/div[1]/div/div[2]/div/ul/li[1]/button')\n",
    "blr.click()\n",
    "driver.find_element('xpath','/html/body/div[3]/div/div/div/div[3]/div/div/div/ul/li[2]/span/label').click()"
   ]
  },
  {
   "cell_type": "code",
   "execution_count": 11,
   "id": "6b0aaf5b",
   "metadata": {},
   "outputs": [],
   "source": [
    "driver.find_element('xpath','/html/body/div[3]/div/div/div/div[4]/button[2]').click()"
   ]
  },
  {
   "cell_type": "code",
   "execution_count": 12,
   "id": "469ffddc",
   "metadata": {},
   "outputs": [
    {
     "ename": "NoSuchElementException",
     "evalue": "Message: no such element: Unable to locate element: {\"method\":\"xpath\",\"selector\":\"/html/body/div/div[4]/div/div[2]/div[2]/div/form/div/div[2]/div/button\"}\n  (Session info: chrome=122.0.6261.129); For documentation on this error, please visit: https://www.selenium.dev/documentation/webdriver/troubleshooting/errors#no-such-element-exception\nStacktrace:\n\tGetHandleVerifier [0x00007FF7F5A9AD02+56930]\n\t(No symbol) [0x00007FF7F5A0F602]\n\t(No symbol) [0x00007FF7F58C42E5]\n\t(No symbol) [0x00007FF7F59098ED]\n\t(No symbol) [0x00007FF7F5909A2C]\n\t(No symbol) [0x00007FF7F594A967]\n\t(No symbol) [0x00007FF7F592BCDF]\n\t(No symbol) [0x00007FF7F59481E2]\n\t(No symbol) [0x00007FF7F592BA43]\n\t(No symbol) [0x00007FF7F58FD438]\n\t(No symbol) [0x00007FF7F58FE4D1]\n\tGetHandleVerifier [0x00007FF7F5E16F8D+3711213]\n\tGetHandleVerifier [0x00007FF7F5E704CD+4077101]\n\tGetHandleVerifier [0x00007FF7F5E6865F+4044735]\n\tGetHandleVerifier [0x00007FF7F5B39736+706710]\n\t(No symbol) [0x00007FF7F5A1B8DF]\n\t(No symbol) [0x00007FF7F5A16AC4]\n\t(No symbol) [0x00007FF7F5A16C1C]\n\t(No symbol) [0x00007FF7F5A068D4]\n\tBaseThreadInitThunk [0x00007FFD25B67344+20]\n\tRtlUserThreadStart [0x00007FFD271226B1+33]\n",
     "output_type": "error",
     "traceback": [
      "\u001b[1;31m---------------------------------------------------------------------------\u001b[0m",
      "\u001b[1;31mNoSuchElementException\u001b[0m                    Traceback (most recent call last)",
      "Cell \u001b[1;32mIn[12], line 1\u001b[0m\n\u001b[1;32m----> 1\u001b[0m btn \u001b[38;5;241m=\u001b[39m driver\u001b[38;5;241m.\u001b[39mfind_element(\u001b[38;5;124m'\u001b[39m\u001b[38;5;124mxpath\u001b[39m\u001b[38;5;124m'\u001b[39m,\u001b[38;5;124m'\u001b[39m\u001b[38;5;124m/html/body/div/div[4]/div/div[2]/div[2]/div/form/div/div[2]/div/button\u001b[39m\u001b[38;5;124m'\u001b[39m)\n\u001b[0;32m      2\u001b[0m btn\u001b[38;5;241m.\u001b[39mclick()\n\u001b[0;32m      3\u001b[0m time\u001b[38;5;241m.\u001b[39msleep(\u001b[38;5;241m4\u001b[39m)\n",
      "File \u001b[1;32m~\\AppData\\Roaming\\Python\\Python311\\site-packages\\selenium\\webdriver\\remote\\webdriver.py:741\u001b[0m, in \u001b[0;36mWebDriver.find_element\u001b[1;34m(self, by, value)\u001b[0m\n\u001b[0;32m    738\u001b[0m     by \u001b[38;5;241m=\u001b[39m By\u001b[38;5;241m.\u001b[39mCSS_SELECTOR\n\u001b[0;32m    739\u001b[0m     value \u001b[38;5;241m=\u001b[39m \u001b[38;5;124mf\u001b[39m\u001b[38;5;124m'\u001b[39m\u001b[38;5;124m[name=\u001b[39m\u001b[38;5;124m\"\u001b[39m\u001b[38;5;132;01m{\u001b[39;00mvalue\u001b[38;5;132;01m}\u001b[39;00m\u001b[38;5;124m\"\u001b[39m\u001b[38;5;124m]\u001b[39m\u001b[38;5;124m'\u001b[39m\n\u001b[1;32m--> 741\u001b[0m \u001b[38;5;28;01mreturn\u001b[39;00m \u001b[38;5;28mself\u001b[39m\u001b[38;5;241m.\u001b[39mexecute(Command\u001b[38;5;241m.\u001b[39mFIND_ELEMENT, {\u001b[38;5;124m\"\u001b[39m\u001b[38;5;124musing\u001b[39m\u001b[38;5;124m\"\u001b[39m: by, \u001b[38;5;124m\"\u001b[39m\u001b[38;5;124mvalue\u001b[39m\u001b[38;5;124m\"\u001b[39m: value})[\u001b[38;5;124m\"\u001b[39m\u001b[38;5;124mvalue\u001b[39m\u001b[38;5;124m\"\u001b[39m]\n",
      "File \u001b[1;32m~\\AppData\\Roaming\\Python\\Python311\\site-packages\\selenium\\webdriver\\remote\\webdriver.py:347\u001b[0m, in \u001b[0;36mWebDriver.execute\u001b[1;34m(self, driver_command, params)\u001b[0m\n\u001b[0;32m    345\u001b[0m response \u001b[38;5;241m=\u001b[39m \u001b[38;5;28mself\u001b[39m\u001b[38;5;241m.\u001b[39mcommand_executor\u001b[38;5;241m.\u001b[39mexecute(driver_command, params)\n\u001b[0;32m    346\u001b[0m \u001b[38;5;28;01mif\u001b[39;00m response:\n\u001b[1;32m--> 347\u001b[0m     \u001b[38;5;28mself\u001b[39m\u001b[38;5;241m.\u001b[39merror_handler\u001b[38;5;241m.\u001b[39mcheck_response(response)\n\u001b[0;32m    348\u001b[0m     response[\u001b[38;5;124m\"\u001b[39m\u001b[38;5;124mvalue\u001b[39m\u001b[38;5;124m\"\u001b[39m] \u001b[38;5;241m=\u001b[39m \u001b[38;5;28mself\u001b[39m\u001b[38;5;241m.\u001b[39m_unwrap_value(response\u001b[38;5;241m.\u001b[39mget(\u001b[38;5;124m\"\u001b[39m\u001b[38;5;124mvalue\u001b[39m\u001b[38;5;124m\"\u001b[39m, \u001b[38;5;28;01mNone\u001b[39;00m))\n\u001b[0;32m    349\u001b[0m     \u001b[38;5;28;01mreturn\u001b[39;00m response\n",
      "File \u001b[1;32m~\\AppData\\Roaming\\Python\\Python311\\site-packages\\selenium\\webdriver\\remote\\errorhandler.py:229\u001b[0m, in \u001b[0;36mErrorHandler.check_response\u001b[1;34m(self, response)\u001b[0m\n\u001b[0;32m    227\u001b[0m         alert_text \u001b[38;5;241m=\u001b[39m value[\u001b[38;5;124m\"\u001b[39m\u001b[38;5;124malert\u001b[39m\u001b[38;5;124m\"\u001b[39m]\u001b[38;5;241m.\u001b[39mget(\u001b[38;5;124m\"\u001b[39m\u001b[38;5;124mtext\u001b[39m\u001b[38;5;124m\"\u001b[39m)\n\u001b[0;32m    228\u001b[0m     \u001b[38;5;28;01mraise\u001b[39;00m exception_class(message, screen, stacktrace, alert_text)  \u001b[38;5;66;03m# type: ignore[call-arg]  # mypy is not smart enough here\u001b[39;00m\n\u001b[1;32m--> 229\u001b[0m \u001b[38;5;28;01mraise\u001b[39;00m exception_class(message, screen, stacktrace)\n",
      "\u001b[1;31mNoSuchElementException\u001b[0m: Message: no such element: Unable to locate element: {\"method\":\"xpath\",\"selector\":\"/html/body/div/div[4]/div/div[2]/div[2]/div/form/div/div[2]/div/button\"}\n  (Session info: chrome=122.0.6261.129); For documentation on this error, please visit: https://www.selenium.dev/documentation/webdriver/troubleshooting/errors#no-such-element-exception\nStacktrace:\n\tGetHandleVerifier [0x00007FF7F5A9AD02+56930]\n\t(No symbol) [0x00007FF7F5A0F602]\n\t(No symbol) [0x00007FF7F58C42E5]\n\t(No symbol) [0x00007FF7F59098ED]\n\t(No symbol) [0x00007FF7F5909A2C]\n\t(No symbol) [0x00007FF7F594A967]\n\t(No symbol) [0x00007FF7F592BCDF]\n\t(No symbol) [0x00007FF7F59481E2]\n\t(No symbol) [0x00007FF7F592BA43]\n\t(No symbol) [0x00007FF7F58FD438]\n\t(No symbol) [0x00007FF7F58FE4D1]\n\tGetHandleVerifier [0x00007FF7F5E16F8D+3711213]\n\tGetHandleVerifier [0x00007FF7F5E704CD+4077101]\n\tGetHandleVerifier [0x00007FF7F5E6865F+4044735]\n\tGetHandleVerifier [0x00007FF7F5B39736+706710]\n\t(No symbol) [0x00007FF7F5A1B8DF]\n\t(No symbol) [0x00007FF7F5A16AC4]\n\t(No symbol) [0x00007FF7F5A16C1C]\n\t(No symbol) [0x00007FF7F5A068D4]\n\tBaseThreadInitThunk [0x00007FFD25B67344+20]\n\tRtlUserThreadStart [0x00007FFD271226B1+33]\n"
     ]
    }
   ],
   "source": [
    "btn = driver.find_element('xpath','/html/body/div/div[4]/div/div[2]/div[2]/div/form/div/div[2]/div/button')\n",
    "btn.click()\n",
    "time.sleep(4)"
   ]
  },
  {
   "cell_type": "code",
   "execution_count": 5,
   "id": "a7389139",
   "metadata": {},
   "outputs": [],
   "source": [
    "\n",
    "search = driver.find_element('xpath','/html/body/div[1]/div[7]/div/div/div[1]/div/div/div/div[1]/div/input')\n",
    "search.send_keys('Data Scientist')\n",
    "button = driver.find_element('xpath','/html/body/div[1]/div[7]/div/div/div[6]')\n",
    "button.click()\n",
    "time.sleep(5)\n",
    "delhi = driver.find_element('xpath','/html/body/div/div/main/div[1]/div[1]/div/div/div[2]/div[5]/div[2]/div[3]/label/p/span[1]')\n",
    "delhi.click()\n",
    "time.sleep(5)\n",
    "package = driver.find_element('xpath','/html/body/div/div/main/div[1]/div[1]/div/div/div[2]/div[6]/div[2]/div[2]/label/p/span[1]')\n",
    "package.click()\n",
    "time.sleep(5)\n",
    "import pandas as pd\n",
    "df = pd.DataFrame()\n",
    "\n",
    "#Role\n",
    "all_jobs = driver.find_elements('xpath',\"//div[contains(@class,'cust-job-tuple layout-wrapper lay-2 sjw__tuple ')]/div/a\")\n",
    "for i,job in enumerate(all_jobs[:10]):\n",
    "    df.loc[i,'Role'] = job.text\n",
    "#Role\n",
    "all_jobs = driver.find_elements('xpath',\"//div[contains(@class,'cust-job-tuple layout-wrapper lay-2 sjw__tuple ')]/div[2]/span\")\n",
    "for i,job in enumerate(all_jobs[:10]):\n",
    "    df.loc[i,'Company'] = job.text.split('\\n')[0]\n",
    "\n",
    "#Role\n",
    "all_jobs = driver.find_elements('xpath',\"//div[contains(@class,'cust-job-tuple layout-wrapper lay-2 sjw__tuple ')]/div[3]\")\n",
    "for i,job in enumerate(all_jobs[:10]):\n",
    "    df.loc[i,'Experience'] = job.text.split('\\n')[0]\n",
    "    df.loc[i,'Location'] = job.text.split('\\n')[2]\n",
    "    \n",
    "driver.quit()"
   ]
  },
  {
   "cell_type": "code",
   "execution_count": 47,
   "id": "73959163",
   "metadata": {},
   "outputs": [
    {
     "data": {
      "text/plain": [
       "'D:\\\\learnings\\\\Internship'"
      ]
     },
     "execution_count": 47,
     "metadata": {},
     "output_type": "execute_result"
    }
   ],
   "source": [
    "pwd"
   ]
  },
  {
   "cell_type": "code",
   "execution_count": 16,
   "id": "c3a009aa",
   "metadata": {},
   "outputs": [
    {
     "data": {
      "text/plain": [
       "10"
      ]
     },
     "execution_count": 16,
     "metadata": {},
     "output_type": "execute_result"
    }
   ],
   "source": [
    "len(eles)"
   ]
  },
  {
   "cell_type": "markdown",
   "id": "8e7522b5",
   "metadata": {},
   "source": [
    "# Preply.com"
   ]
  },
  {
   "cell_type": "code",
   "execution_count": 1,
   "id": "b692901b",
   "metadata": {},
   "outputs": [],
   "source": [
    "from selenium import webdriver\n",
    "from selenium.webdriver.common.by import By\n",
    "from selenium.webdriver.common.keys import Keys\n",
    "import time\n",
    " \n"
   ]
  },
  {
   "cell_type": "code",
   "execution_count": 5,
   "id": "c940337d",
   "metadata": {},
   "outputs": [],
   "source": [
    "driver = create_driver(\"https://preply.com/en/online/artificial-tutors\")"
   ]
  },
  {
   "cell_type": "code",
   "execution_count": 6,
   "id": "7891a8b6",
   "metadata": {},
   "outputs": [
    {
     "name": "stdout",
     "output_type": "stream",
     "text": [
      "2,250\n",
      "1,500\n",
      "1,917\n",
      "2,084\n",
      "2,084\n",
      "1,667\n",
      "1,417\n",
      "2,084\n",
      "1,250\n",
      "834\n"
     ]
    }
   ],
   "source": [
    "search_results = driver.find_elements(By.XPATH,'//div[@class=\"_15uGWh X4eHUe _1o4EVj _1BOjPg _3EMNmq _1pwa5v _2x1aeM _1WH1_Q _2JlASK GWHMDM _3xRBBL\"]/div/h4[2]')\n",
    "for result in search_results:\n",
    "    print(result.text)"
   ]
  },
  {
   "cell_type": "code",
   "execution_count": 7,
   "id": "a7a33f65",
   "metadata": {},
   "outputs": [],
   "source": [
    "ele = driver.find_element('xpath','//*[@id=\"__next\"]/div[1]/main/div[2]/div[2]/ul/li[2]/section/div[3]/div/div/div[2]/div[1]/button/div/h4')"
   ]
  },
  {
   "cell_type": "code",
   "execution_count": 8,
   "id": "817fb729",
   "metadata": {},
   "outputs": [
    {
     "data": {
      "text/plain": [
       "'5'"
      ]
     },
     "execution_count": 8,
     "metadata": {},
     "output_type": "execute_result"
    }
   ],
   "source": [
    "ele"
   ]
  },
  {
   "cell_type": "code",
   "execution_count": 9,
   "id": "acde22da",
   "metadata": {},
   "outputs": [],
   "source": [
    "eles = driver.find_elements('xpath','//ul/li[contains(@class,\"styles_TutorCardWrapper__0Awqa\")]/section/div[3]/div/div/div[2]')"
   ]
  },
  {
   "cell_type": "code",
   "execution_count": 36,
   "id": "074f7cb5",
   "metadata": {},
   "outputs": [],
   "source": [
    "eles = driver.find_elements('xpath','//ul/li[contains(@class,\"styles_TutorCardWrapper__0Awqa\")]//section/div[1]/div/a/picture/img')"
   ]
  },
  {
   "cell_type": "code",
   "execution_count": 39,
   "id": "84645bc4",
   "metadata": {
    "scrolled": true
   },
   "outputs": [
    {
     "name": "stdout",
     "output_type": "stream",
     "text": [
      "https://avatars.preply.com/i/logos/i/logos/avatar_0zk2lsh0c2re.jpg\n",
      "https://avatars.preply.com/i/logos/i/logos/avatar_e177y5ljlab.jpg\n",
      "https://avatars.preply.com/i/logos/i/logos/avatar_6fz28fpd7dp.jpg\n",
      "https://avatars.preply.com/i/logos/i/logos/avatar_95axe40sz1p.jpg\n",
      "https://avatars.preply.com/i/logos/i/logos/avatar_yir15j49bj.jpg\n",
      "https://avatars.preply.com/i/logos/i/logos/avatar_mhhlr.jpg\n",
      "https://avatars.preply.com/i/logos/367604.9003390ebb.jpg\n",
      "https://avatars.preply.com/i/logos/i/logos/avatar_mf4uvd89j8.jpg\n",
      "https://avatars.preply.com/i/logos/i/logos/avatar_18ichlxyh5i.jpg\n",
      "https://avatars.preply.com/i/logos/i/logos/avatar_qo4562ar98s.jpg\n"
     ]
    }
   ],
   "source": [
    "for ele in eles:\n",
    "    print(ele.get_attribute('src'))"
   ]
  },
  {
   "cell_type": "code",
   "execution_count": 40,
   "id": "7066bbff",
   "metadata": {},
   "outputs": [],
   "source": [
    "import requests as re"
   ]
  },
  {
   "cell_type": "code",
   "execution_count": 43,
   "id": "15609045",
   "metadata": {},
   "outputs": [],
   "source": [
    "img = re.get('https://avatars.preply.com/i/logos/i/logos/avatar_0zk2lsh0c2re.jpg')"
   ]
  },
  {
   "cell_type": "code",
   "execution_count": 46,
   "id": "ddf087ba",
   "metadata": {},
   "outputs": [
    {
     "data": {
      "text/plain": [
       "22311"
      ]
     },
     "execution_count": 46,
     "metadata": {},
     "output_type": "execute_result"
    }
   ],
   "source": [
    "open('img1.jpg','wb').write(img.content)"
   ]
  },
  {
   "cell_type": "code",
   "execution_count": 42,
   "id": "6fe4dff6",
   "metadata": {},
   "outputs": [
    {
     "data": {
      "text/plain": [
       "'D:\\\\learnings\\\\Internship'"
      ]
     },
     "execution_count": 42,
     "metadata": {},
     "output_type": "execute_result"
    }
   ],
   "source": [
    "pwd"
   ]
  },
  {
   "cell_type": "code",
   "execution_count": 11,
   "id": "1bec472f",
   "metadata": {},
   "outputs": [],
   "source": [
    "# Launch Chrome browser\n",
    "driver = webdriver.Chrome()\n",
    " \n",
    "# Open Preply website\n",
    "driver.get(\"https://preply.com/en/online/artificial-tutors\")\n",
    " \n",
    "# Locate the search input field and enter the search query\n",
    "search_input = driver.find_element(By.XPATH,\"/html/body/div[2]/div[1]/main/div[2]/div[2]/ul/li[1]/section/div[3]/div/div/div[2]/div[2]/div[1]/div/h4[2]\")\n",
    "search_input.send_keys(\"artificial intelligence job role\")\n",
    " \n",
    "# Submit the search query\n",
    "search_input.send_keys(Keys.RETURN)\n",
    " \n",
    "# Wait for the search results to load\n",
    "time.sleep(2)  # You may need to adjust the wait time based on the website's loading speed\n",
    " \n",
    "# Parse the search results\n",
    "# Example: print the titles of the search results\n",
    "search_results = driver.find_elements(By.XPATH,'//div[@class=\"_15uGWh X4eHUe _1o4EVj _1BOjPg _3EMNmq _1pwa5v _2x1aeM _1WH1_Q _2JlASK GWHMDM _3xRBBL\"]/div/h4[2]')\n",
    "for result in search_results:\n",
    "    print(result.text)\n",
    " \n",
    "# Close the browser\n",
    "driver.quit()"
   ]
  },
  {
   "cell_type": "code",
   "execution_count": 21,
   "id": "aa61a74d",
   "metadata": {},
   "outputs": [],
   "source": [
    "driver.quit()"
   ]
  },
  {
   "cell_type": "code",
   "execution_count": 65,
   "id": "fcc839d9",
   "metadata": {},
   "outputs": [],
   "source": [
    "\n"
   ]
  },
  {
   "cell_type": "code",
   "execution_count": 66,
   "id": "d99f1763",
   "metadata": {},
   "outputs": [],
   "source": []
  },
  {
   "cell_type": "code",
   "execution_count": 164,
   "id": "1ffaab64",
   "metadata": {},
   "outputs": [],
   "source": [
    "driver = create_driver(\"https://www.asos.com/\")"
   ]
  },
  {
   "cell_type": "code",
   "execution_count": null,
   "id": "ab980011",
   "metadata": {},
   "outputs": [],
   "source": [
    "/html/body/div[1]/div/main/div/div/div[1]/div[2]/div/div[1]/section/article[1]"
   ]
  },
  {
   "cell_type": "code",
   "execution_count": 167,
   "id": "faaf8860",
   "metadata": {},
   "outputs": [
    {
     "data": {
      "text/plain": [
       "72"
      ]
     },
     "execution_count": 167,
     "metadata": {},
     "output_type": "execute_result"
    }
   ],
   "source": [
    "product_elements = driver.find_elements('xpath','//article[contains(@class,\"productTile_U0clN\")]')\n",
    "len(product_elements)"
   ]
  },
  {
   "cell_type": "code",
   "execution_count": 148,
   "id": "44d50b1e",
   "metadata": {},
   "outputs": [
    {
     "data": {
      "text/plain": [
       "'Miss Selfridge corset detail tiered maxi dress in red rose print'"
      ]
     },
     "execution_count": 148,
     "metadata": {},
     "output_type": "execute_result"
    }
   ],
   "source": [
    "desc = driver.find_elements('xpath','//article[contains(@class,\"productTile_U0clN\")]/a/p[1]')\n",
    "desc[1].text"
   ]
  },
  {
   "cell_type": "code",
   "execution_count": 149,
   "id": "d3b4de45",
   "metadata": {},
   "outputs": [
    {
     "data": {
      "text/plain": [
       "'£19.00'"
      ]
     },
     "execution_count": 149,
     "metadata": {},
     "output_type": "execute_result"
    }
   ],
   "source": [
    "prices = driver.find_elements('xpath','//article[contains(@class,\"productTile_U0clN\")]/a/p[2]/span/span')\n",
    "prices[71].text"
   ]
  },
  {
   "cell_type": "code",
   "execution_count": 150,
   "id": "2c436083",
   "metadata": {},
   "outputs": [],
   "source": [
    "prices = driver.find_elements('xpath','//article[contains(@class,\"productTile_U0clN\")]/a/p[2]/span/span')"
   ]
  },
  {
   "cell_type": "code",
   "execution_count": null,
   "id": "8101e96e",
   "metadata": {},
   "outputs": [],
   "source": []
  },
  {
   "cell_type": "code",
   "execution_count": null,
   "id": "0ac6c007",
   "metadata": {},
   "outputs": [],
   "source": [
    "imgs = driver.find_elements('xpath','//article[contains(@class,\"productTile_U0clN\")]/a/div')\n",
    "len(imgs)\n",
    "imgs[60].find_element(By.TAG_NAME,'img').get_attribute('src')"
   ]
  },
  {
   "cell_type": "code",
   "execution_count": null,
   "id": "b52b1a22",
   "metadata": {},
   "outputs": [],
   "source": [
    "for page in page count:\n",
    "    #wait till page loads or if it gets error, manually go to last image and right click, inspect\n",
    "    product_elements = driver.find_elements('xpath','//article[contains(@class,\"productTile_U0clN\")]')\n",
    "    desc = driver.find_elements('xpath','//article[contains(@class,\"productTile_U0clN\")]/a/p[1]')\n",
    "    prices = driver.find_elements('xpath','//article[contains(@class,\"productTile_U0clN\")]/a/p[2]/span/span')\n",
    "    imgs = driver.find_elements('xpath','//article[contains(@class,\"productTile_U0clN\")]/a/div')\n",
    "    index = 0\n",
    "    for i in range(1,len(product_elements)):\n",
    "        df.loc[index,'img_link'] = imgs[i].get_attribute('src')\n",
    "    #     img = imgs[i].get_attribute('src')\n",
    "        df.loc[index,'Description'] = desc[i].text\n",
    "        df.loc[index,'Price'] = prices[i].text\n",
    "        open(f'picturere{i}.jpg','wb').write(re.get(imgs[i].get_attribute('src')).content)\n",
    "        #click on next page"
   ]
  },
  {
   "cell_type": "code",
   "execution_count": 161,
   "id": "5ae50183",
   "metadata": {},
   "outputs": [
    {
     "ename": "TimeoutException",
     "evalue": "Message: \n",
     "output_type": "error",
     "traceback": [
      "\u001b[1;31m---------------------------------------------------------------------------\u001b[0m",
      "\u001b[1;31mTimeoutException\u001b[0m                          Traceback (most recent call last)",
      "Cell \u001b[1;32mIn[161], line 3\u001b[0m\n\u001b[0;32m      1\u001b[0m \u001b[38;5;66;03m# Wait for the images to load (adjust timeout as needed)\u001b[39;00m\n\u001b[0;32m      2\u001b[0m wait \u001b[38;5;241m=\u001b[39m WebDriverWait(driver, \u001b[38;5;241m30\u001b[39m)\n\u001b[1;32m----> 3\u001b[0m imgs \u001b[38;5;241m=\u001b[39m wait\u001b[38;5;241m.\u001b[39muntil(EC\u001b[38;5;241m.\u001b[39mpresence_of_all_elements_located((By\u001b[38;5;241m.\u001b[39mXPATH, \u001b[38;5;124m'\u001b[39m\u001b[38;5;124m//article[contains(@class,\u001b[39m\u001b[38;5;124m\"\u001b[39m\u001b[38;5;124mproductTile_U0clN\u001b[39m\u001b[38;5;124m\"\u001b[39m\u001b[38;5;124m)]/a/div/img\u001b[39m\u001b[38;5;124m'\u001b[39m)))\n\u001b[0;32m      5\u001b[0m \u001b[38;5;66;03m# Extract the image URLs\u001b[39;00m\n\u001b[0;32m      6\u001b[0m \u001b[38;5;28;01mfor\u001b[39;00m i, img \u001b[38;5;129;01min\u001b[39;00m \u001b[38;5;28menumerate\u001b[39m(imgs):\n",
      "File \u001b[1;32m~\\AppData\\Roaming\\Python\\Python311\\site-packages\\selenium\\webdriver\\support\\wait.py:105\u001b[0m, in \u001b[0;36mWebDriverWait.until\u001b[1;34m(self, method, message)\u001b[0m\n\u001b[0;32m    103\u001b[0m     \u001b[38;5;28;01mif\u001b[39;00m time\u001b[38;5;241m.\u001b[39mmonotonic() \u001b[38;5;241m>\u001b[39m end_time:\n\u001b[0;32m    104\u001b[0m         \u001b[38;5;28;01mbreak\u001b[39;00m\n\u001b[1;32m--> 105\u001b[0m \u001b[38;5;28;01mraise\u001b[39;00m TimeoutException(message, screen, stacktrace)\n",
      "\u001b[1;31mTimeoutException\u001b[0m: Message: \n"
     ]
    }
   ],
   "source": [
    "from selenium import webdriver\n",
    "from selenium.webdriver.common.by import By\n",
    "from selenium.webdriver.support.ui import WebDriverWait\n",
    "from selenium.webdriver.support import expected_conditions as EC\n",
    "\n",
    "# Initialize the WebDriver\n",
    "driver = webdriver.Chrome()\n",
    "\n",
    "# Navigate to the webpage\n",
    "url = \"your_website_url_here\"\n",
    "driver.get('https://www.asos.com/')\n",
    "# Wait for the images to load (adjust timeout as needed)\n",
    "wait = WebDriverWait(driver, 10)\n",
    "imgs = wait.until(EC.presence_of_all_elements_located((By.XPATH, '//article[contains(@class,\"productTile_U0clN\")]/a/div/img')))\n",
    "\n",
    "# Extract the image URLs\n",
    "for i, img in enumerate(imgs):\n",
    "    src = img.get_attribute('src')\n",
    "    print(f\"Image {i}: {src}\")\n",
    "\n",
    "\n"
   ]
  },
  {
   "cell_type": "code",
   "execution_count": 158,
   "id": "9b804991",
   "metadata": {},
   "outputs": [],
   "source": [
    "driver.quit()"
   ]
  },
  {
   "cell_type": "code",
   "execution_count": 181,
   "id": "7a2cf2e4",
   "metadata": {},
   "outputs": [
    {
     "data": {
      "text/plain": [
       "73"
      ]
     },
     "execution_count": 181,
     "metadata": {},
     "output_type": "execute_result"
    }
   ],
   "source": [
    "imgs = driver.find_elements('xpath','//section/article[contains(@class,\"productTile_U0clN\")]/a/div/div[1]/img')\n",
    "len(imgs)"
   ]
  },
  {
   "cell_type": "code",
   "execution_count": 185,
   "id": "0ef870ea",
   "metadata": {},
   "outputs": [
    {
     "data": {
      "text/plain": [
       "'https://images.asos-media.com/products/asos-design-cotton-dobby-midi-sundress-with-cut-out-in-purple/205570603-1-purple/?$n_480w$&wid=476&fit=constrain'"
      ]
     },
     "execution_count": 185,
     "metadata": {},
     "output_type": "execute_result"
    }
   ],
   "source": [
    "imgs[72].get_attribute('src')"
   ]
  },
  {
   "cell_type": "code",
   "execution_count": 69,
   "id": "090079b4",
   "metadata": {},
   "outputs": [
    {
     "data": {
      "text/plain": [
       "<Response [200]>"
      ]
     },
     "execution_count": 69,
     "metadata": {},
     "output_type": "execute_result"
    }
   ],
   "source": [
    "re.get(imgs[0].get_attribute('src'))"
   ]
  },
  {
   "cell_type": "code",
   "execution_count": 73,
   "id": "dcc28789",
   "metadata": {},
   "outputs": [
    {
     "data": {
      "text/plain": [
       "25621"
      ]
     },
     "execution_count": 73,
     "metadata": {},
     "output_type": "execute_result"
    }
   ],
   "source": [
    "open(f'picturere{i}.jpg','wb').write(re.get(imgs[0].get_attribute('src')).content)"
   ]
  },
  {
   "cell_type": "code",
   "execution_count": 46,
   "id": "1cc9233e",
   "metadata": {},
   "outputs": [],
   "source": [
    "df = pd.DataFrame()"
   ]
  },
  {
   "cell_type": "code",
   "execution_count": null,
   "id": "427d4ec6",
   "metadata": {},
   "outputs": [],
   "source": [
    "/section/article[contains(@class,\"productTile_U0clN\")]/a/div/div[1]/img[1]"
   ]
  },
  {
   "cell_type": "code",
   "execution_count": 76,
   "id": "312c0aa2",
   "metadata": {},
   "outputs": [],
   "source": [
    "import os\n",
    "os.chdir(r'D:\\learnings\\asos')\n",
    "os.mkdir('summer')\n",
    "os.chdir('summer')"
   ]
  },
  {
   "cell_type": "code",
   "execution_count": 77,
   "id": "5f365ed1",
   "metadata": {},
   "outputs": [
    {
     "data": {
      "text/plain": [
       "'D:\\\\learnings\\\\asos\\\\summer'"
      ]
     },
     "execution_count": 77,
     "metadata": {},
     "output_type": "execute_result"
    }
   ],
   "source": [
    "os.getcwd()"
   ]
  },
  {
   "cell_type": "code",
   "execution_count": 188,
   "id": "25ddcd46",
   "metadata": {},
   "outputs": [],
   "source": [
    "index = 0\n",
    "for i in range(1,len(product_elements)):\n",
    "    df.loc[index,'img_link'] = imgs[i].get_attribute('src')\n",
    "#     img = imgs[i].get_attribute('src')\n",
    "    df.loc[index,'Description'] = desc[i].text\n",
    "    df.loc[index,'Price'] = prices[i].text\n",
    "    open(f'picturere{i}.jpg','wb').write(re.get(imgs[i].get_attribute('src')).content)"
   ]
  },
  {
   "cell_type": "code",
   "execution_count": null,
   "id": "1f5cfd9c",
   "metadata": {},
   "outputs": [],
   "source": []
  },
  {
   "cell_type": "code",
   "execution_count": 82,
   "id": "9aeb4b4d",
   "metadata": {},
   "outputs": [
    {
     "data": {
      "text/plain": [
       "6"
      ]
     },
     "execution_count": 82,
     "metadata": {},
     "output_type": "execute_result"
    }
   ],
   "source": [
    "len(imgs)"
   ]
  },
  {
   "cell_type": "code",
   "execution_count": null,
   "id": "3be086af",
   "metadata": {},
   "outputs": [],
   "source": [
    "\n",
    "for i, product_element in enumerate(product_elements, start=1):\n",
    "    description = product_element.find_element_by_xpath('.//h3').text\n",
    "    product_descriptions.append(description)\n",
    "    price = product_element.find_element_by_xpath('.//span[contains(@class, \"price\")]').text\n",
    "    product_prices.append(price)\n",
    "    image_url = product_element.find_element_by_xpath('.//img').get_attribute('src')\n",
    "    image_urls.append(image_url)\n",
    "    image_path = os.path.join('Product_Data', 'images', f\"product_{i}.jpg\")\n",
    "    with open(image_path, 'wb') as image_file:\n",
    "        response = requests.get(image_url)\n",
    "        image_file.write(response.content)\n",
    "with open(os.path.join('Product_Data', 'product_data.txt'), 'w') as file:\n",
    "    for i, (description, price) in enumerate(zip(product_descriptions, product_prices), start=1):\n",
    "        file.write(f\"Product {i}:\\n\")\n",
    "        file.write(f\"Description: {description}, Price: {price}\\n\")"
   ]
  },
  {
   "cell_type": "code",
   "execution_count": 145,
   "id": "b2e6a637",
   "metadata": {},
   "outputs": [],
   "source": [
    "driver.quit()"
   ]
  },
  {
   "cell_type": "code",
   "execution_count": null,
   "id": "f0fd3eaa",
   "metadata": {},
   "outputs": [],
   "source": []
  },
  {
   "cell_type": "code",
   "execution_count": null,
   "id": "7468e1bf",
   "metadata": {},
   "outputs": [],
   "source": []
  }
 ],
 "metadata": {
  "kernelspec": {
   "display_name": "Python 3 (ipykernel)",
   "language": "python",
   "name": "python3"
  },
  "language_info": {
   "codemirror_mode": {
    "name": "ipython",
    "version": 3
   },
   "file_extension": ".py",
   "mimetype": "text/x-python",
   "name": "python",
   "nbconvert_exporter": "python",
   "pygments_lexer": "ipython3",
   "version": "3.11.5"
  }
 },
 "nbformat": 4,
 "nbformat_minor": 5
}
