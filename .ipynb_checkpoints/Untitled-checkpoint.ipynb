{
 "cells": [
  {
   "cell_type": "code",
   "execution_count": 4,
   "id": "e07e7fc1",
   "metadata": {},
   "outputs": [],
   "source": [
    "from bs4 import BeautifulSoup\n",
    "import requests as re"
   ]
  },
  {
   "cell_type": "code",
   "execution_count": 5,
   "id": "6ef1adf5",
   "metadata": {},
   "outputs": [],
   "source": [
    "res = re.get('https://www.wikipedia.org/')"
   ]
  },
  {
   "cell_type": "code",
   "execution_count": 9,
   "id": "1479fb08",
   "metadata": {},
   "outputs": [],
   "source": [
    "soup = BeautifulSoup(res.text)"
   ]
  },
  {
   "cell_type": "code",
   "execution_count": null,
   "id": "81afbea3",
   "metadata": {},
   "outputs": [],
   "source": [
    "#list all html tags\n",
    "soup.find_all()"
   ]
  },
  {
   "cell_type": "code",
   "execution_count": 15,
   "id": "cfea23e6",
   "metadata": {},
   "outputs": [],
   "source": [
    "res = re.get(\"https://www.imdb.com/\")"
   ]
  },
  {
   "cell_type": "code",
   "execution_count": 16,
   "id": "1fa065be",
   "metadata": {},
   "outputs": [
    {
     "data": {
      "text/plain": [
       "<Response [403]>"
      ]
     },
     "execution_count": 16,
     "metadata": {},
     "output_type": "execute_result"
    }
   ],
   "source": [
    "res"
   ]
  },
  {
   "cell_type": "code",
   "execution_count": 17,
   "id": "2e6d3a59",
   "metadata": {},
   "outputs": [],
   "source": [
    "res = re.get('https://www.dineout.co.in/')"
   ]
  },
  {
   "cell_type": "code",
   "execution_count": 18,
   "id": "a656e5b7",
   "metadata": {},
   "outputs": [
    {
     "data": {
      "text/plain": [
       "<Response [200]>"
      ]
     },
     "execution_count": 18,
     "metadata": {},
     "output_type": "execute_result"
    }
   ],
   "source": [
    "res"
   ]
  }
 ],
 "metadata": {
  "kernelspec": {
   "display_name": "Python 3 (ipykernel)",
   "language": "python",
   "name": "python3"
  },
  "language_info": {
   "codemirror_mode": {
    "name": "ipython",
    "version": 3
   },
   "file_extension": ".py",
   "mimetype": "text/x-python",
   "name": "python",
   "nbconvert_exporter": "python",
   "pygments_lexer": "ipython3",
   "version": "3.11.5"
  }
 },
 "nbformat": 4,
 "nbformat_minor": 5
}
