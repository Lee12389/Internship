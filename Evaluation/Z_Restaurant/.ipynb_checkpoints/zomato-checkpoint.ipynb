{
 "cells": [
  {
   "cell_type": "code",
   "execution_count": 1,
   "id": "bf221827",
   "metadata": {},
   "outputs": [],
   "source": [
    "file1= 'zomato.csv'\n",
    "file2= 'Country-Code.xlsx'\n",
    "import sklearn\n",
    "import pandas as pd\n",
    "import numpy as np\n",
    "import seaborn as sns\n",
    "import matplotlib.pyplot as plt\n",
    "%matplotlib inline\n",
    "from scipy import stats\n",
    "import os\n",
    "import time\n",
    "from statsmodels.stats.outliers_influence import variance_inflation_factor\n",
    "from sklearn.impute import KNNImputer\n",
    "from sklearn.preprocessing import OneHotEncoder, LabelEncoder, StandardScaler, OrdinalEncoder\n",
    "from sklearn.model_selection import GridSearchCV, train_test_split\n",
    "from sklearn.metrics import confusion_matrix, classification_report, r2_score, mean_absolute_error\n",
    "from imblearn.over_sampling import SMOTE\n",
    "from imblearn.under_sampling import NearMiss"
   ]
  },
  {
   "cell_type": "code",
   "execution_count": 2,
   "id": "7d65502f",
   "metadata": {},
   "outputs": [],
   "source": [
    "class EDA:\n",
    "    \n",
    "    def __init__(self):\n",
    "        \n",
    "        self.target = None\n",
    "        self.df = None\n",
    "        \n",
    "    def describe(self):\n",
    "        \n",
    "        sep = lambda x : '+=+'*15 + '     ' + str(x) + '     ' + '+=+' * 15\n",
    "        print(sep('INFO'))\n",
    "        print(self.df.info())\n",
    "        print(sep('DESCRIBE'))\n",
    "        print(self.df.describe())\n",
    "        print(sep('NULL VALUE COUNTS'))\n",
    "        print(self.df.isnull().sum())\n",
    "        \n",
    "        \n",
    "        \n",
    "    def all_val_cnts(self):\n",
    "        for col in self.df.columns:\n",
    "            print('=+'*30)\n",
    "            print(self.df[col].value_counts())\n",
    "            \n",
    "    def all_col_histplots(self,df = None):\n",
    "        \n",
    "        if df == None:\n",
    "            df = self.df\n",
    "        plt.figure(figsize=(20,100),facecolor='white')\n",
    "        plotnum = 1\n",
    "\n",
    "        for col in df.columns:\n",
    "            if plotnum < 14:\n",
    "                ax = plt.subplot(14,1,plotnum)\n",
    "                sns.histplot(df[col])\n",
    "                plt.xlabel(col)\n",
    "            plotnum += 1\n",
    "        plt.tight_layout()\n",
    "    def corr_plot(self, df = None):\n",
    "        \n",
    "        df_corr = df.corr()\n",
    "        plt.figure(figsize=(25,25))\n",
    "        sns.heatmap(df_corr, vmin=-1, vmax=1, annot=True, square=True, center=0,fmt='.2g',linewidths=0.1)\n",
    "        plt.tight_layout()\n",
    "        \n",
    "    def get_vif(self, df = None):\n",
    "        \n",
    "        \n",
    "        if type(df) != pd.DataFrame:\n",
    "            df = self.df\n",
    "        vif = pd.DataFrame()\n",
    "        vif['values'] = [variance_inflation_factor(df.values,i) for i in range(len(df.columns))] \n",
    "        vif['features'] = df.columns\n",
    "        print(vif)\n",
    "        return vif\n",
    "    \n",
    "    \n",
    "\n",
    "    \n",
    "    def check_skew(self, df = None):\n",
    "        \n",
    "        if type(df) != pd.DataFrame:\n",
    "            df = self.df[[col for col in self.df.columns if self.df[col].dtype == 'int' or self.df[col].dtype == 'float']]\n",
    "        print(self.df.skew())\n",
    "        \n",
    "    def reduce_skewness(self, X = None):\n",
    "        \n",
    "        if type(X) != pd.DataFrame:\n",
    "            X = self.df.drop(columns = [self.target])\n",
    "        for col,skew in dict(X.skew()).items():\n",
    "            print(col)\n",
    "            if skew > 0.5 or skew < 0.5:\n",
    "                X[col] = np.cbrt(X[col])\n",
    "                X[col].fillna(np.mean(X[col]),inplace=True)\n",
    "        return X\n",
    "\n",
    "        "
   ]
  },
  {
   "cell_type": "code",
   "execution_count": 3,
   "id": "4baeda06",
   "metadata": {},
   "outputs": [],
   "source": [
    "        \n",
    "class Encoder:\n",
    "    \n",
    "    def __init__(self,df):\n",
    "        self.df = df\n",
    "    \n",
    "    def label(self, df = None,cols = []):\n",
    "        if type(df) != pd.DataFrame:\n",
    "            df = self.df\n",
    "        encoder = LabelEncoder()\n",
    "        for col in cols:\n",
    "            self.df[col] = encoder.fit_transform(self.df[col])\n",
    "        return self.df\n",
    "    \n",
    "    def standard_scaler(self, df = None):\n",
    "        if type(df) != pd.DataFrame:\n",
    "            df = self.df\n",
    "        scalar = StandardScaler()\n",
    "        cols = df.columns\n",
    "        df = scalar.fit_transform(df)\n",
    "        df = pd.DataFrame(df, columns=cols)\n",
    "        return df\n",
    "    \n",
    "    def do_yeo(self, X = None):\n",
    "        for col in X.columns:\n",
    "            if X[col].skew() > 0.5:\n",
    "                X[col],_ = stats.yeojohnson(X[col])\n",
    "            elif X[col].skew() < -0.5:\n",
    "                X[col],_ = stats.yeojohnson(X[col])\n",
    "        return X\n",
    "    \n",
    "    def sqrt_transform(self, X):\n",
    "        if type(X) != pd.DataFrame:\n",
    "            X = self.df.drop(columns=[self.target])\n",
    "        for col in X.columns:\n",
    "            if X[col].skew() > 0.5:\n",
    "#                 while X[col].skew() > 1:\n",
    "                X[col] = np.sqrt(X[col])\n",
    "            elif X[col].skew() < -0.5:\n",
    "#                 while X[col].skew() < -1:\n",
    "                X[col] = np.sqrt(X[col])\n",
    "        return X\n",
    "    \n",
    "    def ordinal_encode(self, df):\n",
    "        encoder = OrdinalEncoder()\n",
    "        \n",
    "        df = encoder.fit_transform(df)\n",
    "        return df"
   ]
  },
  {
   "cell_type": "code",
   "execution_count": 4,
   "id": "62f71488",
   "metadata": {},
   "outputs": [],
   "source": [
    "from collections import OrderedDict"
   ]
  },
  {
   "cell_type": "code",
   "execution_count": 5,
   "id": "3684464c",
   "metadata": {},
   "outputs": [],
   "source": [
    "df = pd.read_csv('zomato.csv',encoding='ISO-8859-1')"
   ]
  },
  {
   "cell_type": "code",
   "execution_count": 6,
   "id": "e28a7e0f",
   "metadata": {},
   "outputs": [],
   "source": [
    "df1 = pd.read_excel('Country-Code.xlsx')"
   ]
  },
  {
   "cell_type": "code",
   "execution_count": 7,
   "id": "a5a9e5a9",
   "metadata": {},
   "outputs": [
    {
     "name": "stdout",
     "output_type": "stream",
     "text": [
      "<class 'pandas.core.frame.DataFrame'>\n",
      "RangeIndex: 9551 entries, 0 to 9550\n",
      "Data columns (total 21 columns):\n",
      " #   Column                Non-Null Count  Dtype  \n",
      "---  ------                --------------  -----  \n",
      " 0   Restaurant ID         9551 non-null   int64  \n",
      " 1   Restaurant Name       9551 non-null   object \n",
      " 2   Country Code          9551 non-null   int64  \n",
      " 3   City                  9551 non-null   object \n",
      " 4   Address               9551 non-null   object \n",
      " 5   Locality              9551 non-null   object \n",
      " 6   Locality Verbose      9551 non-null   object \n",
      " 7   Longitude             9551 non-null   float64\n",
      " 8   Latitude              9551 non-null   float64\n",
      " 9   Cuisines              9542 non-null   object \n",
      " 10  Average Cost for two  9551 non-null   int64  \n",
      " 11  Currency              9551 non-null   object \n",
      " 12  Has Table booking     9551 non-null   object \n",
      " 13  Has Online delivery   9551 non-null   object \n",
      " 14  Is delivering now     9551 non-null   object \n",
      " 15  Switch to order menu  9551 non-null   object \n",
      " 16  Price range           9551 non-null   int64  \n",
      " 17  Aggregate rating      9551 non-null   float64\n",
      " 18  Rating color          9551 non-null   object \n",
      " 19  Rating text           9551 non-null   object \n",
      " 20  Votes                 9551 non-null   int64  \n",
      "dtypes: float64(3), int64(5), object(13)\n",
      "memory usage: 1.5+ MB\n"
     ]
    }
   ],
   "source": [
    "df.info()"
   ]
  },
  {
   "cell_type": "code",
   "execution_count": 8,
   "id": "94b295d3",
   "metadata": {},
   "outputs": [
    {
     "name": "stdout",
     "output_type": "stream",
     "text": [
      "<class 'pandas.core.frame.DataFrame'>\n",
      "RangeIndex: 15 entries, 0 to 14\n",
      "Data columns (total 2 columns):\n",
      " #   Column        Non-Null Count  Dtype \n",
      "---  ------        --------------  ----- \n",
      " 0   Country Code  15 non-null     int64 \n",
      " 1   Country       15 non-null     object\n",
      "dtypes: int64(1), object(1)\n",
      "memory usage: 372.0+ bytes\n"
     ]
    }
   ],
   "source": [
    "df1.info()"
   ]
  },
  {
   "cell_type": "code",
   "execution_count": 9,
   "id": "7decc739",
   "metadata": {},
   "outputs": [
    {
     "data": {
      "text/plain": [
       "Index(['Country Code', 'Country'], dtype='object')"
      ]
     },
     "execution_count": 9,
     "metadata": {},
     "output_type": "execute_result"
    }
   ],
   "source": [
    "df1.columns"
   ]
  },
  {
   "cell_type": "code",
   "execution_count": 10,
   "id": "a18976ac",
   "metadata": {},
   "outputs": [
    {
     "data": {
      "text/plain": [
       "Index(['Restaurant ID', 'Restaurant Name', 'Country Code', 'City', 'Address',\n",
       "       'Locality', 'Locality Verbose', 'Longitude', 'Latitude', 'Cuisines',\n",
       "       'Average Cost for two', 'Currency', 'Has Table booking',\n",
       "       'Has Online delivery', 'Is delivering now', 'Switch to order menu',\n",
       "       'Price range', 'Aggregate rating', 'Rating color', 'Rating text',\n",
       "       'Votes'],\n",
       "      dtype='object')"
      ]
     },
     "execution_count": 10,
     "metadata": {},
     "output_type": "execute_result"
    }
   ],
   "source": [
    "df.columns"
   ]
  },
  {
   "cell_type": "code",
   "execution_count": 11,
   "id": "c96123db",
   "metadata": {},
   "outputs": [],
   "source": [
    "dfx = df.merge(df1,right_on='Country Code',left_on='Country Code',how='left')"
   ]
  },
  {
   "cell_type": "code",
   "execution_count": 12,
   "id": "fcf0ee91",
   "metadata": {},
   "outputs": [
    {
     "data": {
      "text/html": [
       "<div>\n",
       "<style scoped>\n",
       "    .dataframe tbody tr th:only-of-type {\n",
       "        vertical-align: middle;\n",
       "    }\n",
       "\n",
       "    .dataframe tbody tr th {\n",
       "        vertical-align: top;\n",
       "    }\n",
       "\n",
       "    .dataframe thead th {\n",
       "        text-align: right;\n",
       "    }\n",
       "</style>\n",
       "<table border=\"1\" class=\"dataframe\">\n",
       "  <thead>\n",
       "    <tr style=\"text-align: right;\">\n",
       "      <th></th>\n",
       "      <th>Restaurant ID</th>\n",
       "      <th>Restaurant Name</th>\n",
       "      <th>Country Code</th>\n",
       "      <th>City</th>\n",
       "      <th>Address</th>\n",
       "      <th>Locality</th>\n",
       "      <th>Locality Verbose</th>\n",
       "      <th>Longitude</th>\n",
       "      <th>Latitude</th>\n",
       "      <th>Cuisines</th>\n",
       "      <th>...</th>\n",
       "      <th>Has Table booking</th>\n",
       "      <th>Has Online delivery</th>\n",
       "      <th>Is delivering now</th>\n",
       "      <th>Switch to order menu</th>\n",
       "      <th>Price range</th>\n",
       "      <th>Aggregate rating</th>\n",
       "      <th>Rating color</th>\n",
       "      <th>Rating text</th>\n",
       "      <th>Votes</th>\n",
       "      <th>Country</th>\n",
       "    </tr>\n",
       "  </thead>\n",
       "  <tbody>\n",
       "    <tr>\n",
       "      <th>0</th>\n",
       "      <td>6317637</td>\n",
       "      <td>Le Petit Souffle</td>\n",
       "      <td>162</td>\n",
       "      <td>Makati City</td>\n",
       "      <td>Third Floor, Century City Mall, Kalayaan Avenu...</td>\n",
       "      <td>Century City Mall, Poblacion, Makati City</td>\n",
       "      <td>Century City Mall, Poblacion, Makati City, Mak...</td>\n",
       "      <td>121.027535</td>\n",
       "      <td>14.565443</td>\n",
       "      <td>French, Japanese, Desserts</td>\n",
       "      <td>...</td>\n",
       "      <td>Yes</td>\n",
       "      <td>No</td>\n",
       "      <td>No</td>\n",
       "      <td>No</td>\n",
       "      <td>3</td>\n",
       "      <td>4.8</td>\n",
       "      <td>Dark Green</td>\n",
       "      <td>Excellent</td>\n",
       "      <td>314</td>\n",
       "      <td>Phillipines</td>\n",
       "    </tr>\n",
       "    <tr>\n",
       "      <th>1</th>\n",
       "      <td>6304287</td>\n",
       "      <td>Izakaya Kikufuji</td>\n",
       "      <td>162</td>\n",
       "      <td>Makati City</td>\n",
       "      <td>Little Tokyo, 2277 Chino Roces Avenue, Legaspi...</td>\n",
       "      <td>Little Tokyo, Legaspi Village, Makati City</td>\n",
       "      <td>Little Tokyo, Legaspi Village, Makati City, Ma...</td>\n",
       "      <td>121.014101</td>\n",
       "      <td>14.553708</td>\n",
       "      <td>Japanese</td>\n",
       "      <td>...</td>\n",
       "      <td>Yes</td>\n",
       "      <td>No</td>\n",
       "      <td>No</td>\n",
       "      <td>No</td>\n",
       "      <td>3</td>\n",
       "      <td>4.5</td>\n",
       "      <td>Dark Green</td>\n",
       "      <td>Excellent</td>\n",
       "      <td>591</td>\n",
       "      <td>Phillipines</td>\n",
       "    </tr>\n",
       "    <tr>\n",
       "      <th>2</th>\n",
       "      <td>6300002</td>\n",
       "      <td>Heat - Edsa Shangri-La</td>\n",
       "      <td>162</td>\n",
       "      <td>Mandaluyong City</td>\n",
       "      <td>Edsa Shangri-La, 1 Garden Way, Ortigas, Mandal...</td>\n",
       "      <td>Edsa Shangri-La, Ortigas, Mandaluyong City</td>\n",
       "      <td>Edsa Shangri-La, Ortigas, Mandaluyong City, Ma...</td>\n",
       "      <td>121.056831</td>\n",
       "      <td>14.581404</td>\n",
       "      <td>Seafood, Asian, Filipino, Indian</td>\n",
       "      <td>...</td>\n",
       "      <td>Yes</td>\n",
       "      <td>No</td>\n",
       "      <td>No</td>\n",
       "      <td>No</td>\n",
       "      <td>4</td>\n",
       "      <td>4.4</td>\n",
       "      <td>Green</td>\n",
       "      <td>Very Good</td>\n",
       "      <td>270</td>\n",
       "      <td>Phillipines</td>\n",
       "    </tr>\n",
       "    <tr>\n",
       "      <th>3</th>\n",
       "      <td>6318506</td>\n",
       "      <td>Ooma</td>\n",
       "      <td>162</td>\n",
       "      <td>Mandaluyong City</td>\n",
       "      <td>Third Floor, Mega Fashion Hall, SM Megamall, O...</td>\n",
       "      <td>SM Megamall, Ortigas, Mandaluyong City</td>\n",
       "      <td>SM Megamall, Ortigas, Mandaluyong City, Mandal...</td>\n",
       "      <td>121.056475</td>\n",
       "      <td>14.585318</td>\n",
       "      <td>Japanese, Sushi</td>\n",
       "      <td>...</td>\n",
       "      <td>No</td>\n",
       "      <td>No</td>\n",
       "      <td>No</td>\n",
       "      <td>No</td>\n",
       "      <td>4</td>\n",
       "      <td>4.9</td>\n",
       "      <td>Dark Green</td>\n",
       "      <td>Excellent</td>\n",
       "      <td>365</td>\n",
       "      <td>Phillipines</td>\n",
       "    </tr>\n",
       "    <tr>\n",
       "      <th>4</th>\n",
       "      <td>6314302</td>\n",
       "      <td>Sambo Kojin</td>\n",
       "      <td>162</td>\n",
       "      <td>Mandaluyong City</td>\n",
       "      <td>Third Floor, Mega Atrium, SM Megamall, Ortigas...</td>\n",
       "      <td>SM Megamall, Ortigas, Mandaluyong City</td>\n",
       "      <td>SM Megamall, Ortigas, Mandaluyong City, Mandal...</td>\n",
       "      <td>121.057508</td>\n",
       "      <td>14.584450</td>\n",
       "      <td>Japanese, Korean</td>\n",
       "      <td>...</td>\n",
       "      <td>Yes</td>\n",
       "      <td>No</td>\n",
       "      <td>No</td>\n",
       "      <td>No</td>\n",
       "      <td>4</td>\n",
       "      <td>4.8</td>\n",
       "      <td>Dark Green</td>\n",
       "      <td>Excellent</td>\n",
       "      <td>229</td>\n",
       "      <td>Phillipines</td>\n",
       "    </tr>\n",
       "    <tr>\n",
       "      <th>...</th>\n",
       "      <td>...</td>\n",
       "      <td>...</td>\n",
       "      <td>...</td>\n",
       "      <td>...</td>\n",
       "      <td>...</td>\n",
       "      <td>...</td>\n",
       "      <td>...</td>\n",
       "      <td>...</td>\n",
       "      <td>...</td>\n",
       "      <td>...</td>\n",
       "      <td>...</td>\n",
       "      <td>...</td>\n",
       "      <td>...</td>\n",
       "      <td>...</td>\n",
       "      <td>...</td>\n",
       "      <td>...</td>\n",
       "      <td>...</td>\n",
       "      <td>...</td>\n",
       "      <td>...</td>\n",
       "      <td>...</td>\n",
       "      <td>...</td>\n",
       "    </tr>\n",
       "    <tr>\n",
       "      <th>9546</th>\n",
       "      <td>5915730</td>\n",
       "      <td>NamlÛ± Gurme</td>\n",
       "      <td>208</td>\n",
       "      <td>ÛÁstanbul</td>\n",
       "      <td>Kemankeô Karamustafa Paôa Mahallesi, RÛ±htÛ±...</td>\n",
       "      <td>Karakí_y</td>\n",
       "      <td>Karakí_y, ÛÁstanbul</td>\n",
       "      <td>28.977392</td>\n",
       "      <td>41.022793</td>\n",
       "      <td>Turkish</td>\n",
       "      <td>...</td>\n",
       "      <td>No</td>\n",
       "      <td>No</td>\n",
       "      <td>No</td>\n",
       "      <td>No</td>\n",
       "      <td>3</td>\n",
       "      <td>4.1</td>\n",
       "      <td>Green</td>\n",
       "      <td>Very Good</td>\n",
       "      <td>788</td>\n",
       "      <td>Turkey</td>\n",
       "    </tr>\n",
       "    <tr>\n",
       "      <th>9547</th>\n",
       "      <td>5908749</td>\n",
       "      <td>Ceviz AÛôacÛ±</td>\n",
       "      <td>208</td>\n",
       "      <td>ÛÁstanbul</td>\n",
       "      <td>Koôuyolu Mahallesi, Muhittin íìstí_ndaÛô Cadd...</td>\n",
       "      <td>Koôuyolu</td>\n",
       "      <td>Koôuyolu, ÛÁstanbul</td>\n",
       "      <td>29.041297</td>\n",
       "      <td>41.009847</td>\n",
       "      <td>World Cuisine, Patisserie, Cafe</td>\n",
       "      <td>...</td>\n",
       "      <td>No</td>\n",
       "      <td>No</td>\n",
       "      <td>No</td>\n",
       "      <td>No</td>\n",
       "      <td>3</td>\n",
       "      <td>4.2</td>\n",
       "      <td>Green</td>\n",
       "      <td>Very Good</td>\n",
       "      <td>1034</td>\n",
       "      <td>Turkey</td>\n",
       "    </tr>\n",
       "    <tr>\n",
       "      <th>9548</th>\n",
       "      <td>5915807</td>\n",
       "      <td>Huqqa</td>\n",
       "      <td>208</td>\n",
       "      <td>ÛÁstanbul</td>\n",
       "      <td>Kuruí_eôme Mahallesi, Muallim Naci Caddesi, N...</td>\n",
       "      <td>Kuruí_eôme</td>\n",
       "      <td>Kuruí_eôme, ÛÁstanbul</td>\n",
       "      <td>29.034640</td>\n",
       "      <td>41.055817</td>\n",
       "      <td>Italian, World Cuisine</td>\n",
       "      <td>...</td>\n",
       "      <td>No</td>\n",
       "      <td>No</td>\n",
       "      <td>No</td>\n",
       "      <td>No</td>\n",
       "      <td>4</td>\n",
       "      <td>3.7</td>\n",
       "      <td>Yellow</td>\n",
       "      <td>Good</td>\n",
       "      <td>661</td>\n",
       "      <td>Turkey</td>\n",
       "    </tr>\n",
       "    <tr>\n",
       "      <th>9549</th>\n",
       "      <td>5916112</td>\n",
       "      <td>Aôôk Kahve</td>\n",
       "      <td>208</td>\n",
       "      <td>ÛÁstanbul</td>\n",
       "      <td>Kuruí_eôme Mahallesi, Muallim Naci Caddesi, N...</td>\n",
       "      <td>Kuruí_eôme</td>\n",
       "      <td>Kuruí_eôme, ÛÁstanbul</td>\n",
       "      <td>29.036019</td>\n",
       "      <td>41.057979</td>\n",
       "      <td>Restaurant Cafe</td>\n",
       "      <td>...</td>\n",
       "      <td>No</td>\n",
       "      <td>No</td>\n",
       "      <td>No</td>\n",
       "      <td>No</td>\n",
       "      <td>4</td>\n",
       "      <td>4.0</td>\n",
       "      <td>Green</td>\n",
       "      <td>Very Good</td>\n",
       "      <td>901</td>\n",
       "      <td>Turkey</td>\n",
       "    </tr>\n",
       "    <tr>\n",
       "      <th>9550</th>\n",
       "      <td>5927402</td>\n",
       "      <td>Walter's Coffee Roastery</td>\n",
       "      <td>208</td>\n",
       "      <td>ÛÁstanbul</td>\n",
       "      <td>CafeaÛôa Mahallesi, BademaltÛ± Sokak, No 21/B,...</td>\n",
       "      <td>Moda</td>\n",
       "      <td>Moda, ÛÁstanbul</td>\n",
       "      <td>29.026016</td>\n",
       "      <td>40.984776</td>\n",
       "      <td>Cafe</td>\n",
       "      <td>...</td>\n",
       "      <td>No</td>\n",
       "      <td>No</td>\n",
       "      <td>No</td>\n",
       "      <td>No</td>\n",
       "      <td>2</td>\n",
       "      <td>4.0</td>\n",
       "      <td>Green</td>\n",
       "      <td>Very Good</td>\n",
       "      <td>591</td>\n",
       "      <td>Turkey</td>\n",
       "    </tr>\n",
       "  </tbody>\n",
       "</table>\n",
       "<p>9551 rows × 22 columns</p>\n",
       "</div>"
      ],
      "text/plain": [
       "      Restaurant ID           Restaurant Name  Country Code              City  \\\n",
       "0           6317637          Le Petit Souffle           162       Makati City   \n",
       "1           6304287          Izakaya Kikufuji           162       Makati City   \n",
       "2           6300002    Heat - Edsa Shangri-La           162  Mandaluyong City   \n",
       "3           6318506                      Ooma           162  Mandaluyong City   \n",
       "4           6314302               Sambo Kojin           162  Mandaluyong City   \n",
       "...             ...                       ...           ...               ...   \n",
       "9546        5915730              NamlÛ± Gurme           208         ÛÁstanbul   \n",
       "9547        5908749             Ceviz AÛôacÛ±           208         ÛÁstanbul   \n",
       "9548        5915807                     Huqqa           208         ÛÁstanbul   \n",
       "9549        5916112              Aôôk Kahve           208         ÛÁstanbul   \n",
       "9550        5927402  Walter's Coffee Roastery           208         ÛÁstanbul   \n",
       "\n",
       "                                                Address  \\\n",
       "0     Third Floor, Century City Mall, Kalayaan Avenu...   \n",
       "1     Little Tokyo, 2277 Chino Roces Avenue, Legaspi...   \n",
       "2     Edsa Shangri-La, 1 Garden Way, Ortigas, Mandal...   \n",
       "3     Third Floor, Mega Fashion Hall, SM Megamall, O...   \n",
       "4     Third Floor, Mega Atrium, SM Megamall, Ortigas...   \n",
       "...                                                 ...   \n",
       "9546  Kemankeô Karamustafa Paôa Mahallesi, RÛ±htÛ±...   \n",
       "9547  Koôuyolu Mahallesi, Muhittin íìstí_ndaÛô Cadd...   \n",
       "9548  Kuruí_eôme Mahallesi, Muallim Naci Caddesi, N...   \n",
       "9549  Kuruí_eôme Mahallesi, Muallim Naci Caddesi, N...   \n",
       "9550  CafeaÛôa Mahallesi, BademaltÛ± Sokak, No 21/B,...   \n",
       "\n",
       "                                        Locality  \\\n",
       "0      Century City Mall, Poblacion, Makati City   \n",
       "1     Little Tokyo, Legaspi Village, Makati City   \n",
       "2     Edsa Shangri-La, Ortigas, Mandaluyong City   \n",
       "3         SM Megamall, Ortigas, Mandaluyong City   \n",
       "4         SM Megamall, Ortigas, Mandaluyong City   \n",
       "...                                          ...   \n",
       "9546                                    Karakí_y   \n",
       "9547                                   Koôuyolu   \n",
       "9548                                 Kuruí_eôme   \n",
       "9549                                 Kuruí_eôme   \n",
       "9550                                        Moda   \n",
       "\n",
       "                                       Locality Verbose   Longitude  \\\n",
       "0     Century City Mall, Poblacion, Makati City, Mak...  121.027535   \n",
       "1     Little Tokyo, Legaspi Village, Makati City, Ma...  121.014101   \n",
       "2     Edsa Shangri-La, Ortigas, Mandaluyong City, Ma...  121.056831   \n",
       "3     SM Megamall, Ortigas, Mandaluyong City, Mandal...  121.056475   \n",
       "4     SM Megamall, Ortigas, Mandaluyong City, Mandal...  121.057508   \n",
       "...                                                 ...         ...   \n",
       "9546                                Karakí_y, ÛÁstanbul   28.977392   \n",
       "9547                               Koôuyolu, ÛÁstanbul   29.041297   \n",
       "9548                             Kuruí_eôme, ÛÁstanbul   29.034640   \n",
       "9549                             Kuruí_eôme, ÛÁstanbul   29.036019   \n",
       "9550                                    Moda, ÛÁstanbul   29.026016   \n",
       "\n",
       "       Latitude                          Cuisines  ...  Has Table booking  \\\n",
       "0     14.565443        French, Japanese, Desserts  ...                Yes   \n",
       "1     14.553708                          Japanese  ...                Yes   \n",
       "2     14.581404  Seafood, Asian, Filipino, Indian  ...                Yes   \n",
       "3     14.585318                   Japanese, Sushi  ...                 No   \n",
       "4     14.584450                  Japanese, Korean  ...                Yes   \n",
       "...         ...                               ...  ...                ...   \n",
       "9546  41.022793                           Turkish  ...                 No   \n",
       "9547  41.009847   World Cuisine, Patisserie, Cafe  ...                 No   \n",
       "9548  41.055817            Italian, World Cuisine  ...                 No   \n",
       "9549  41.057979                   Restaurant Cafe  ...                 No   \n",
       "9550  40.984776                              Cafe  ...                 No   \n",
       "\n",
       "     Has Online delivery Is delivering now Switch to order menu Price range  \\\n",
       "0                     No                No                   No           3   \n",
       "1                     No                No                   No           3   \n",
       "2                     No                No                   No           4   \n",
       "3                     No                No                   No           4   \n",
       "4                     No                No                   No           4   \n",
       "...                  ...               ...                  ...         ...   \n",
       "9546                  No                No                   No           3   \n",
       "9547                  No                No                   No           3   \n",
       "9548                  No                No                   No           4   \n",
       "9549                  No                No                   No           4   \n",
       "9550                  No                No                   No           2   \n",
       "\n",
       "     Aggregate rating  Rating color  Rating text Votes      Country  \n",
       "0                 4.8    Dark Green    Excellent   314  Phillipines  \n",
       "1                 4.5    Dark Green    Excellent   591  Phillipines  \n",
       "2                 4.4         Green    Very Good   270  Phillipines  \n",
       "3                 4.9    Dark Green    Excellent   365  Phillipines  \n",
       "4                 4.8    Dark Green    Excellent   229  Phillipines  \n",
       "...               ...           ...          ...   ...          ...  \n",
       "9546              4.1         Green    Very Good   788       Turkey  \n",
       "9547              4.2         Green    Very Good  1034       Turkey  \n",
       "9548              3.7        Yellow         Good   661       Turkey  \n",
       "9549              4.0         Green    Very Good   901       Turkey  \n",
       "9550              4.0         Green    Very Good   591       Turkey  \n",
       "\n",
       "[9551 rows x 22 columns]"
      ]
     },
     "execution_count": 12,
     "metadata": {},
     "output_type": "execute_result"
    }
   ],
   "source": [
    "dfx"
   ]
  },
  {
   "cell_type": "code",
   "execution_count": 13,
   "id": "e083a640",
   "metadata": {},
   "outputs": [],
   "source": [
    "eda = EDA()\n",
    "eda.df = dfx"
   ]
  },
  {
   "cell_type": "code",
   "execution_count": 14,
   "id": "02730106",
   "metadata": {},
   "outputs": [
    {
     "name": "stdout",
     "output_type": "stream",
     "text": [
      "=+=+=+=+=+=+=+=+=+=+=+=+=+=+=+=+=+=+=+=+=+=+=+=+=+=+=+=+=+=+\n",
      "Restaurant ID\n",
      "6317637     1\n",
      "18254520    1\n",
      "18462589    1\n",
      "18336474    1\n",
      "18336477    1\n",
      "           ..\n",
      "313059      1\n",
      "763         1\n",
      "7557        1\n",
      "525         1\n",
      "5927402     1\n",
      "Name: count, Length: 9551, dtype: int64\n",
      "=+=+=+=+=+=+=+=+=+=+=+=+=+=+=+=+=+=+=+=+=+=+=+=+=+=+=+=+=+=+\n",
      "Restaurant Name\n",
      "Cafe Coffee Day             83\n",
      "Domino's Pizza              79\n",
      "Subway                      63\n",
      "Green Chick Chop            51\n",
      "McDonald's                  48\n",
      "                            ..\n",
      "Odeon Social                 1\n",
      "Johnny Rockets               1\n",
      "House of Commons             1\n",
      "HotMess                      1\n",
      "Walter's Coffee Roastery     1\n",
      "Name: count, Length: 7446, dtype: int64\n",
      "=+=+=+=+=+=+=+=+=+=+=+=+=+=+=+=+=+=+=+=+=+=+=+=+=+=+=+=+=+=+\n",
      "Country Code\n",
      "1      8652\n",
      "216     434\n",
      "215      80\n",
      "30       60\n",
      "214      60\n",
      "189      60\n",
      "148      40\n",
      "208      34\n",
      "14       24\n",
      "162      22\n",
      "94       21\n",
      "184      20\n",
      "166      20\n",
      "191      20\n",
      "37        4\n",
      "Name: count, dtype: int64\n",
      "=+=+=+=+=+=+=+=+=+=+=+=+=+=+=+=+=+=+=+=+=+=+=+=+=+=+=+=+=+=+\n",
      "City\n",
      "New Delhi           5473\n",
      "Gurgaon             1118\n",
      "Noida               1080\n",
      "Faridabad            251\n",
      "Ghaziabad             25\n",
      "                    ... \n",
      "Panchkula              1\n",
      "Mc Millan              1\n",
      "Mayfield               1\n",
      "Macedon                1\n",
      "Vineland Station       1\n",
      "Name: count, Length: 141, dtype: int64\n",
      "=+=+=+=+=+=+=+=+=+=+=+=+=+=+=+=+=+=+=+=+=+=+=+=+=+=+=+=+=+=+\n",
      "Address\n",
      "Dilli Haat, INA, New Delhi                                                               11\n",
      "Sector 41, Noida                                                                         11\n",
      "Greater Kailash (GK) 1, New Delhi                                                        10\n",
      "The Imperial, Janpath, New Delhi                                                          9\n",
      "Cyber Hub, DLF Cyber City, Gurgaon                                                        8\n",
      "                                                                                         ..\n",
      "23-24, Defence Colony Market, Defence Colony, New Delhi                                   1\n",
      "28, Main Market, Defence Colony, New Delhi                                                1\n",
      "Daryaganj, New Delhi                                                                      1\n",
      "Ground Floor, E-23, Netaji Subhash Marg, Opposite Golcha Cinema, Daryaganj, New Delhi     1\n",
      "CafeaÛôa Mahallesi, BademaltÛ± Sokak, No 21/B, KadÛ±kí_y, ÛÁstanbul                       1\n",
      "Name: count, Length: 8918, dtype: int64\n",
      "=+=+=+=+=+=+=+=+=+=+=+=+=+=+=+=+=+=+=+=+=+=+=+=+=+=+=+=+=+=+\n",
      "Locality\n",
      "Connaught Place                                122\n",
      "Rajouri Garden                                  99\n",
      "Shahdara                                        87\n",
      "Defence Colony                                  86\n",
      "Malviya Nagar                                   85\n",
      "                                              ... \n",
      "Lemon Tree Premier, Sector 29                    1\n",
      "Omaxe Celebration Mall, Sohna Road, Gurgaon      1\n",
      "Park Inn, Sector 15, Gurgaon                     1\n",
      "Plaza Mall, MG Road                              1\n",
      "Moda                                             1\n",
      "Name: count, Length: 1208, dtype: int64\n",
      "=+=+=+=+=+=+=+=+=+=+=+=+=+=+=+=+=+=+=+=+=+=+=+=+=+=+=+=+=+=+\n",
      "Locality Verbose\n",
      "Connaught Place, New Delhi                    122\n",
      "Rajouri Garden, New Delhi                      99\n",
      "Shahdara, New Delhi                            87\n",
      "Defence Colony, New Delhi                      86\n",
      "Pitampura, New Delhi                           85\n",
      "                                             ... \n",
      "Ramada Gurgaon Central, Sector 44, Gurgaon      1\n",
      "Sector 5, Gurgaon                               1\n",
      "Sector 53, Gurgaon                              1\n",
      "The Claremont, MG Road, Gurgaon                 1\n",
      "Moda, ÛÁstanbul                                 1\n",
      "Name: count, Length: 1265, dtype: int64\n",
      "=+=+=+=+=+=+=+=+=+=+=+=+=+=+=+=+=+=+=+=+=+=+=+=+=+=+=+=+=+=+\n",
      "Longitude\n",
      "0.000000     498\n",
      "77.353663     19\n",
      "77.230412     12\n",
      "77.088688     10\n",
      "77.251426      9\n",
      "            ... \n",
      "77.227294      1\n",
      "77.225420      1\n",
      "77.230347      1\n",
      "77.230578      1\n",
      "29.026016      1\n",
      "Name: count, Length: 8120, dtype: int64\n",
      "=+=+=+=+=+=+=+=+=+=+=+=+=+=+=+=+=+=+=+=+=+=+=+=+=+=+=+=+=+=+\n",
      "Latitude\n",
      "0.000000     498\n",
      "28.574309     16\n",
      "28.551456      9\n",
      "28.574300      9\n",
      "28.597103      8\n",
      "            ... \n",
      "28.645175      1\n",
      "28.646194      1\n",
      "28.648280      1\n",
      "28.643514      1\n",
      "40.984776      1\n",
      "Name: count, Length: 8677, dtype: int64\n",
      "=+=+=+=+=+=+=+=+=+=+=+=+=+=+=+=+=+=+=+=+=+=+=+=+=+=+=+=+=+=+\n",
      "Cuisines\n",
      "North Indian                                             936\n",
      "North Indian, Chinese                                    511\n",
      "Chinese                                                  354\n",
      "Fast Food                                                354\n",
      "North Indian, Mughlai                                    334\n",
      "                                                        ... \n",
      "Bengali, Fast Food                                         1\n",
      "North Indian, Rajasthani, Asian                            1\n",
      "Chinese, Thai, Malaysian, Indonesian                       1\n",
      "Bakery, Desserts, North Indian, Bengali, South Indian      1\n",
      "Italian, World Cuisine                                     1\n",
      "Name: count, Length: 1825, dtype: int64\n",
      "=+=+=+=+=+=+=+=+=+=+=+=+=+=+=+=+=+=+=+=+=+=+=+=+=+=+=+=+=+=+\n",
      "Average Cost for two\n",
      "500       900\n",
      "300       897\n",
      "400       857\n",
      "200       687\n",
      "600       652\n",
      "         ... \n",
      "8000        1\n",
      "2350        1\n",
      "150000      1\n",
      "70000       1\n",
      "545         1\n",
      "Name: count, Length: 140, dtype: int64\n",
      "=+=+=+=+=+=+=+=+=+=+=+=+=+=+=+=+=+=+=+=+=+=+=+=+=+=+=+=+=+=+\n",
      "Currency\n",
      "Indian Rupees(Rs.)        8652\n",
      "Dollar($)                  482\n",
      "Pounds(£)                  80\n",
      "Brazilian Real(R$)          60\n",
      "Emirati Diram(AED)          60\n",
      "Rand(R)                     60\n",
      "NewZealand($)               40\n",
      "Turkish Lira(TL)            34\n",
      "Botswana Pula(P)            22\n",
      "Indonesian Rupiah(IDR)      21\n",
      "Qatari Rial(QR)             20\n",
      "Sri Lankan Rupee(LKR)       20\n",
      "Name: count, dtype: int64\n",
      "=+=+=+=+=+=+=+=+=+=+=+=+=+=+=+=+=+=+=+=+=+=+=+=+=+=+=+=+=+=+\n",
      "Has Table booking\n",
      "No     8393\n",
      "Yes    1158\n",
      "Name: count, dtype: int64\n",
      "=+=+=+=+=+=+=+=+=+=+=+=+=+=+=+=+=+=+=+=+=+=+=+=+=+=+=+=+=+=+\n",
      "Has Online delivery\n",
      "No     7100\n",
      "Yes    2451\n",
      "Name: count, dtype: int64\n",
      "=+=+=+=+=+=+=+=+=+=+=+=+=+=+=+=+=+=+=+=+=+=+=+=+=+=+=+=+=+=+\n",
      "Is delivering now\n",
      "No     9517\n",
      "Yes      34\n",
      "Name: count, dtype: int64\n",
      "=+=+=+=+=+=+=+=+=+=+=+=+=+=+=+=+=+=+=+=+=+=+=+=+=+=+=+=+=+=+\n",
      "Switch to order menu\n",
      "No    9551\n",
      "Name: count, dtype: int64\n",
      "=+=+=+=+=+=+=+=+=+=+=+=+=+=+=+=+=+=+=+=+=+=+=+=+=+=+=+=+=+=+\n",
      "Price range\n",
      "1    4444\n",
      "2    3113\n",
      "3    1408\n",
      "4     586\n",
      "Name: count, dtype: int64\n",
      "=+=+=+=+=+=+=+=+=+=+=+=+=+=+=+=+=+=+=+=+=+=+=+=+=+=+=+=+=+=+\n",
      "Aggregate rating\n",
      "0.0    2148\n",
      "3.2     522\n",
      "3.1     519\n",
      "3.4     498\n",
      "3.3     483\n",
      "3.5     480\n",
      "3.0     468\n",
      "3.6     458\n",
      "3.7     427\n",
      "3.8     400\n",
      "2.9     381\n",
      "3.9     335\n",
      "2.8     315\n",
      "4.1     274\n",
      "4.0     266\n",
      "2.7     250\n",
      "4.2     221\n",
      "2.6     191\n",
      "4.3     174\n",
      "4.4     144\n",
      "2.5     110\n",
      "4.5      95\n",
      "2.4      87\n",
      "4.6      78\n",
      "4.9      61\n",
      "2.3      47\n",
      "4.7      42\n",
      "2.2      27\n",
      "4.8      25\n",
      "2.1      15\n",
      "2.0       7\n",
      "1.9       2\n",
      "1.8       1\n",
      "Name: count, dtype: int64\n",
      "=+=+=+=+=+=+=+=+=+=+=+=+=+=+=+=+=+=+=+=+=+=+=+=+=+=+=+=+=+=+\n",
      "Rating color\n",
      "Orange        3737\n",
      "White         2148\n",
      "Yellow        2100\n",
      "Green         1079\n",
      "Dark Green     301\n",
      "Red            186\n",
      "Name: count, dtype: int64\n",
      "=+=+=+=+=+=+=+=+=+=+=+=+=+=+=+=+=+=+=+=+=+=+=+=+=+=+=+=+=+=+\n",
      "Rating text\n",
      "Average      3737\n",
      "Not rated    2148\n",
      "Good         2100\n",
      "Very Good    1079\n",
      "Excellent     301\n",
      "Poor          186\n",
      "Name: count, dtype: int64\n",
      "=+=+=+=+=+=+=+=+=+=+=+=+=+=+=+=+=+=+=+=+=+=+=+=+=+=+=+=+=+=+\n",
      "Votes\n",
      "0      1094\n",
      "1       483\n",
      "2       327\n",
      "3       244\n",
      "4       207\n",
      "       ... \n",
      "615       1\n",
      "538       1\n",
      "823       1\n",
      "650       1\n",
      "901       1\n",
      "Name: count, Length: 1012, dtype: int64\n",
      "=+=+=+=+=+=+=+=+=+=+=+=+=+=+=+=+=+=+=+=+=+=+=+=+=+=+=+=+=+=+\n",
      "Country\n",
      "India             8652\n",
      "United States      434\n",
      "United Kingdom      80\n",
      "Brazil              60\n",
      "UAE                 60\n",
      "South Africa        60\n",
      "New Zealand         40\n",
      "Turkey              34\n",
      "Australia           24\n",
      "Phillipines         22\n",
      "Indonesia           21\n",
      "Singapore           20\n",
      "Qatar               20\n",
      "Sri Lanka           20\n",
      "Canada               4\n",
      "Name: count, dtype: int64\n"
     ]
    }
   ],
   "source": [
    "eda.all_val_cnts()"
   ]
  },
  {
   "cell_type": "code",
   "execution_count": 15,
   "id": "16f29ffc",
   "metadata": {
    "scrolled": true
   },
   "outputs": [
    {
     "data": {
      "text/plain": [
       "0       No\n",
       "1       No\n",
       "2       No\n",
       "3       No\n",
       "4       No\n",
       "        ..\n",
       "9546    No\n",
       "9547    No\n",
       "9548    No\n",
       "9549    No\n",
       "9550    No\n",
       "Name: Switch to order menu, Length: 9551, dtype: object"
      ]
     },
     "execution_count": 15,
     "metadata": {},
     "output_type": "execute_result"
    }
   ],
   "source": [
    "df['Switch to order menu']"
   ]
  },
  {
   "cell_type": "code",
   "execution_count": 16,
   "id": "de3e69a6",
   "metadata": {},
   "outputs": [
    {
     "data": {
      "text/plain": [
       "9551"
      ]
     },
     "execution_count": 16,
     "metadata": {},
     "output_type": "execute_result"
    }
   ],
   "source": [
    "len(df)"
   ]
  },
  {
   "cell_type": "code",
   "execution_count": 17,
   "id": "8cca43f7",
   "metadata": {},
   "outputs": [
    {
     "data": {
      "text/plain": [
       "9551"
      ]
     },
     "execution_count": 17,
     "metadata": {},
     "output_type": "execute_result"
    }
   ],
   "source": [
    "len(df['Restaurant ID'].unique())"
   ]
  },
  {
   "cell_type": "code",
   "execution_count": 18,
   "id": "a41b597f",
   "metadata": {
    "scrolled": true
   },
   "outputs": [
    {
     "data": {
      "text/plain": [
       "Restaurant ID           0\n",
       "Restaurant Name         0\n",
       "Country Code            0\n",
       "City                    0\n",
       "Address                 0\n",
       "Locality                0\n",
       "Locality Verbose        0\n",
       "Longitude               0\n",
       "Latitude                0\n",
       "Cuisines                9\n",
       "Average Cost for two    0\n",
       "Currency                0\n",
       "Has Table booking       0\n",
       "Has Online delivery     0\n",
       "Is delivering now       0\n",
       "Switch to order menu    0\n",
       "Price range             0\n",
       "Aggregate rating        0\n",
       "Rating color            0\n",
       "Rating text             0\n",
       "Votes                   0\n",
       "dtype: int64"
      ]
     },
     "execution_count": 18,
     "metadata": {},
     "output_type": "execute_result"
    }
   ],
   "source": [
    "df.isnull().sum()"
   ]
  },
  {
   "cell_type": "markdown",
   "id": "4dd89e2f",
   "metadata": {},
   "source": [
    "only 9 fields are empty in Cuisines. No other fields have null values"
   ]
  },
  {
   "cell_type": "code",
   "execution_count": 19,
   "id": "369ade9e",
   "metadata": {},
   "outputs": [],
   "source": [
    "df.drop(columns=['Longitude','Latitude','Country Code','Rating color','Restaurant Name'],inplace=True)"
   ]
  },
  {
   "cell_type": "code",
   "execution_count": 20,
   "id": "3ba674db",
   "metadata": {},
   "outputs": [],
   "source": [
    "df.drop(columns=['Has Online delivery','Is delivering now','Switch to order menu'],inplace=True)"
   ]
  },
  {
   "cell_type": "code",
   "execution_count": 21,
   "id": "61833065",
   "metadata": {},
   "outputs": [],
   "source": [
    "cat_cols = [col for col in df.columns if df[col].dtype == 'object']"
   ]
  },
  {
   "cell_type": "code",
   "execution_count": 22,
   "id": "005495e8",
   "metadata": {},
   "outputs": [
    {
     "data": {
      "text/plain": [
       "['City',\n",
       " 'Address',\n",
       " 'Locality',\n",
       " 'Locality Verbose',\n",
       " 'Cuisines',\n",
       " 'Currency',\n",
       " 'Has Table booking',\n",
       " 'Rating text']"
      ]
     },
     "execution_count": 22,
     "metadata": {},
     "output_type": "execute_result"
    }
   ],
   "source": [
    "cat_cols"
   ]
  },
  {
   "cell_type": "code",
   "execution_count": 23,
   "id": "cfd913cb",
   "metadata": {},
   "outputs": [
    {
     "data": {
      "text/plain": [
       "Index(['Restaurant ID', 'City', 'Address', 'Locality', 'Locality Verbose',\n",
       "       'Cuisines', 'Average Cost for two', 'Currency', 'Has Table booking',\n",
       "       'Price range', 'Aggregate rating', 'Rating text', 'Votes'],\n",
       "      dtype='object')"
      ]
     },
     "execution_count": 23,
     "metadata": {},
     "output_type": "execute_result"
    }
   ],
   "source": [
    "df.columns"
   ]
  },
  {
   "cell_type": "code",
   "execution_count": 24,
   "id": "d4f9d28e",
   "metadata": {},
   "outputs": [
    {
     "data": {
      "text/plain": [
       "0       1100\n",
       "1       1200\n",
       "2       4000\n",
       "3       1500\n",
       "4       1500\n",
       "        ... \n",
       "9546      80\n",
       "9547     105\n",
       "9548     170\n",
       "9549     120\n",
       "9550      55\n",
       "Name: Average Cost for two, Length: 9551, dtype: int64"
      ]
     },
     "execution_count": 24,
     "metadata": {},
     "output_type": "execute_result"
    }
   ],
   "source": [
    "df['Average Cost for two']"
   ]
  },
  {
   "cell_type": "code",
   "execution_count": 25,
   "id": "c57d17da",
   "metadata": {},
   "outputs": [
    {
     "data": {
      "text/plain": [
       "0            Makati City\n",
       "1            Makati City\n",
       "2       Mandaluyong City\n",
       "3       Mandaluyong City\n",
       "4       Mandaluyong City\n",
       "              ...       \n",
       "9546           ÛÁstanbul\n",
       "9547           ÛÁstanbul\n",
       "9548           ÛÁstanbul\n",
       "9549           ÛÁstanbul\n",
       "9550           ÛÁstanbul\n",
       "Name: City, Length: 9551, dtype: object"
      ]
     },
     "execution_count": 25,
     "metadata": {},
     "output_type": "execute_result"
    }
   ],
   "source": [
    "df['City']"
   ]
  },
  {
   "cell_type": "code",
   "execution_count": 26,
   "id": "dbb1d562",
   "metadata": {
    "scrolled": true
   },
   "outputs": [
    {
     "data": {
      "text/plain": [
       "array(['Botswana Pula(P)', 'Brazilian Real(R$)', 'Dollar($)',\n",
       "       'Emirati Diram(AED)', 'Indian Rupees(Rs.)',\n",
       "       'Indonesian Rupiah(IDR)', 'NewZealand($)', 'Pounds(\\x8c£)',\n",
       "       'Qatari Rial(QR)', 'Rand(R)', 'Sri Lankan Rupee(LKR)',\n",
       "       'Turkish Lira(TL)'], dtype=object)"
      ]
     },
     "execution_count": 26,
     "metadata": {},
     "output_type": "execute_result"
    }
   ],
   "source": [
    "df['Currency'].unique()"
   ]
  },
  {
   "cell_type": "code",
   "execution_count": 27,
   "id": "7c1f4b46",
   "metadata": {},
   "outputs": [],
   "source": [
    "currencies = {\n",
    "    \"Botswana Pula(P)\": 0.012,\n",
    "    \"Brazilian Real(R$)\": 0.18,\n",
    "    \"Canadian Dollar($)\": 1.25,  # Assuming Canadian Dollar\n",
    "    \"Emirati Diram(AED)\": 0.27,\n",
    "    \"Indian Rupees(Rs.)\": 0.013,\n",
    "    \"Indonesian Rupiah(IDR)\": 0.000070,\n",
    "    \"NewZealand($)\": 0.64,\n",
    "    \"Pounds(\\x8c£)\": 1.31,  # Assuming British Pound\n",
    "    \"Qatari Rial(QR)\": 0.27,\n",
    "    \"Rand(R)\": 0.070,\n",
    "    \"Sri Lankan Rupee(LKR)\": 0.0045,\n",
    "    \"Turkish Lira(TL)\": 0.059,\n",
    "    'Dollar($)':1.0\n",
    "}\n"
   ]
  },
  {
   "cell_type": "code",
   "execution_count": 28,
   "id": "86c445cd",
   "metadata": {},
   "outputs": [],
   "source": [
    "df['Unified_avg_cost_per_two'] = df['Average Cost for two'] * df['Currency'].apply(lambda x : currencies[x])"
   ]
  },
  {
   "cell_type": "code",
   "execution_count": 29,
   "id": "6c5fea1b",
   "metadata": {},
   "outputs": [
    {
     "data": {
      "text/plain": [
       "0       13.200\n",
       "1       14.400\n",
       "2       48.000\n",
       "3       18.000\n",
       "4       18.000\n",
       "         ...  \n",
       "9546     4.720\n",
       "9547     6.195\n",
       "9548    10.030\n",
       "9549     7.080\n",
       "9550     3.245\n",
       "Name: Unified_avg_cost_per_two, Length: 9551, dtype: float64"
      ]
     },
     "execution_count": 29,
     "metadata": {},
     "output_type": "execute_result"
    }
   ],
   "source": [
    "df['Unified_avg_cost_per_two']"
   ]
  },
  {
   "cell_type": "code",
   "execution_count": 30,
   "id": "1acf86aa",
   "metadata": {},
   "outputs": [],
   "source": [
    "df.drop(columns=['Average Cost for two'],inplace=True)"
   ]
  },
  {
   "cell_type": "code",
   "execution_count": 31,
   "id": "dbb24ad7",
   "metadata": {},
   "outputs": [
    {
     "data": {
      "text/plain": [
       "City\n",
       "New Delhi           5473\n",
       "Gurgaon             1118\n",
       "Noida               1080\n",
       "Faridabad            251\n",
       "Ghaziabad             25\n",
       "                    ... \n",
       "Panchkula              1\n",
       "Mc Millan              1\n",
       "Mayfield               1\n",
       "Macedon                1\n",
       "Vineland Station       1\n",
       "Name: count, Length: 141, dtype: int64"
      ]
     },
     "execution_count": 31,
     "metadata": {},
     "output_type": "execute_result"
    }
   ],
   "source": [
    "df['City'].value_counts()"
   ]
  },
  {
   "cell_type": "code",
   "execution_count": 32,
   "id": "50e0619a",
   "metadata": {},
   "outputs": [
    {
     "data": {
      "text/plain": [
       "Index(['Restaurant ID', 'City', 'Address', 'Locality', 'Locality Verbose',\n",
       "       'Cuisines', 'Currency', 'Has Table booking', 'Price range',\n",
       "       'Aggregate rating', 'Rating text', 'Votes', 'Unified_avg_cost_per_two'],\n",
       "      dtype='object')"
      ]
     },
     "execution_count": 32,
     "metadata": {},
     "output_type": "execute_result"
    }
   ],
   "source": [
    "df.columns"
   ]
  },
  {
   "cell_type": "code",
   "execution_count": null,
   "id": "6782bd49",
   "metadata": {},
   "outputs": [],
   "source": []
  },
  {
   "cell_type": "code",
   "execution_count": 33,
   "id": "838b2733",
   "metadata": {},
   "outputs": [
    {
     "data": {
      "text/html": [
       "<div>\n",
       "<style scoped>\n",
       "    .dataframe tbody tr th:only-of-type {\n",
       "        vertical-align: middle;\n",
       "    }\n",
       "\n",
       "    .dataframe tbody tr th {\n",
       "        vertical-align: top;\n",
       "    }\n",
       "\n",
       "    .dataframe thead th {\n",
       "        text-align: right;\n",
       "    }\n",
       "</style>\n",
       "<table border=\"1\" class=\"dataframe\">\n",
       "  <thead>\n",
       "    <tr style=\"text-align: right;\">\n",
       "      <th></th>\n",
       "      <th>Restaurant ID</th>\n",
       "      <th>City</th>\n",
       "      <th>Address</th>\n",
       "      <th>Locality</th>\n",
       "      <th>Locality Verbose</th>\n",
       "      <th>Cuisines</th>\n",
       "      <th>Currency</th>\n",
       "      <th>Has Table booking</th>\n",
       "      <th>Price range</th>\n",
       "      <th>Aggregate rating</th>\n",
       "      <th>Rating text</th>\n",
       "      <th>Votes</th>\n",
       "      <th>Unified_avg_cost_per_two</th>\n",
       "    </tr>\n",
       "  </thead>\n",
       "  <tbody>\n",
       "    <tr>\n",
       "      <th>0</th>\n",
       "      <td>6317637</td>\n",
       "      <td>Makati City</td>\n",
       "      <td>Third Floor, Century City Mall, Kalayaan Avenu...</td>\n",
       "      <td>Century City Mall, Poblacion, Makati City</td>\n",
       "      <td>Century City Mall, Poblacion, Makati City, Mak...</td>\n",
       "      <td>French, Japanese, Desserts</td>\n",
       "      <td>Botswana Pula(P)</td>\n",
       "      <td>Yes</td>\n",
       "      <td>3</td>\n",
       "      <td>4.8</td>\n",
       "      <td>Excellent</td>\n",
       "      <td>314</td>\n",
       "      <td>13.200</td>\n",
       "    </tr>\n",
       "    <tr>\n",
       "      <th>1</th>\n",
       "      <td>6304287</td>\n",
       "      <td>Makati City</td>\n",
       "      <td>Little Tokyo, 2277 Chino Roces Avenue, Legaspi...</td>\n",
       "      <td>Little Tokyo, Legaspi Village, Makati City</td>\n",
       "      <td>Little Tokyo, Legaspi Village, Makati City, Ma...</td>\n",
       "      <td>Japanese</td>\n",
       "      <td>Botswana Pula(P)</td>\n",
       "      <td>Yes</td>\n",
       "      <td>3</td>\n",
       "      <td>4.5</td>\n",
       "      <td>Excellent</td>\n",
       "      <td>591</td>\n",
       "      <td>14.400</td>\n",
       "    </tr>\n",
       "    <tr>\n",
       "      <th>2</th>\n",
       "      <td>6300002</td>\n",
       "      <td>Mandaluyong City</td>\n",
       "      <td>Edsa Shangri-La, 1 Garden Way, Ortigas, Mandal...</td>\n",
       "      <td>Edsa Shangri-La, Ortigas, Mandaluyong City</td>\n",
       "      <td>Edsa Shangri-La, Ortigas, Mandaluyong City, Ma...</td>\n",
       "      <td>Seafood, Asian, Filipino, Indian</td>\n",
       "      <td>Botswana Pula(P)</td>\n",
       "      <td>Yes</td>\n",
       "      <td>4</td>\n",
       "      <td>4.4</td>\n",
       "      <td>Very Good</td>\n",
       "      <td>270</td>\n",
       "      <td>48.000</td>\n",
       "    </tr>\n",
       "    <tr>\n",
       "      <th>3</th>\n",
       "      <td>6318506</td>\n",
       "      <td>Mandaluyong City</td>\n",
       "      <td>Third Floor, Mega Fashion Hall, SM Megamall, O...</td>\n",
       "      <td>SM Megamall, Ortigas, Mandaluyong City</td>\n",
       "      <td>SM Megamall, Ortigas, Mandaluyong City, Mandal...</td>\n",
       "      <td>Japanese, Sushi</td>\n",
       "      <td>Botswana Pula(P)</td>\n",
       "      <td>No</td>\n",
       "      <td>4</td>\n",
       "      <td>4.9</td>\n",
       "      <td>Excellent</td>\n",
       "      <td>365</td>\n",
       "      <td>18.000</td>\n",
       "    </tr>\n",
       "    <tr>\n",
       "      <th>4</th>\n",
       "      <td>6314302</td>\n",
       "      <td>Mandaluyong City</td>\n",
       "      <td>Third Floor, Mega Atrium, SM Megamall, Ortigas...</td>\n",
       "      <td>SM Megamall, Ortigas, Mandaluyong City</td>\n",
       "      <td>SM Megamall, Ortigas, Mandaluyong City, Mandal...</td>\n",
       "      <td>Japanese, Korean</td>\n",
       "      <td>Botswana Pula(P)</td>\n",
       "      <td>Yes</td>\n",
       "      <td>4</td>\n",
       "      <td>4.8</td>\n",
       "      <td>Excellent</td>\n",
       "      <td>229</td>\n",
       "      <td>18.000</td>\n",
       "    </tr>\n",
       "    <tr>\n",
       "      <th>...</th>\n",
       "      <td>...</td>\n",
       "      <td>...</td>\n",
       "      <td>...</td>\n",
       "      <td>...</td>\n",
       "      <td>...</td>\n",
       "      <td>...</td>\n",
       "      <td>...</td>\n",
       "      <td>...</td>\n",
       "      <td>...</td>\n",
       "      <td>...</td>\n",
       "      <td>...</td>\n",
       "      <td>...</td>\n",
       "      <td>...</td>\n",
       "    </tr>\n",
       "    <tr>\n",
       "      <th>9546</th>\n",
       "      <td>5915730</td>\n",
       "      <td>ÛÁstanbul</td>\n",
       "      <td>Kemankeô Karamustafa Paôa Mahallesi, RÛ±htÛ±...</td>\n",
       "      <td>Karakí_y</td>\n",
       "      <td>Karakí_y, ÛÁstanbul</td>\n",
       "      <td>Turkish</td>\n",
       "      <td>Turkish Lira(TL)</td>\n",
       "      <td>No</td>\n",
       "      <td>3</td>\n",
       "      <td>4.1</td>\n",
       "      <td>Very Good</td>\n",
       "      <td>788</td>\n",
       "      <td>4.720</td>\n",
       "    </tr>\n",
       "    <tr>\n",
       "      <th>9547</th>\n",
       "      <td>5908749</td>\n",
       "      <td>ÛÁstanbul</td>\n",
       "      <td>Koôuyolu Mahallesi, Muhittin íìstí_ndaÛô Cadd...</td>\n",
       "      <td>Koôuyolu</td>\n",
       "      <td>Koôuyolu, ÛÁstanbul</td>\n",
       "      <td>World Cuisine, Patisserie, Cafe</td>\n",
       "      <td>Turkish Lira(TL)</td>\n",
       "      <td>No</td>\n",
       "      <td>3</td>\n",
       "      <td>4.2</td>\n",
       "      <td>Very Good</td>\n",
       "      <td>1034</td>\n",
       "      <td>6.195</td>\n",
       "    </tr>\n",
       "    <tr>\n",
       "      <th>9548</th>\n",
       "      <td>5915807</td>\n",
       "      <td>ÛÁstanbul</td>\n",
       "      <td>Kuruí_eôme Mahallesi, Muallim Naci Caddesi, N...</td>\n",
       "      <td>Kuruí_eôme</td>\n",
       "      <td>Kuruí_eôme, ÛÁstanbul</td>\n",
       "      <td>Italian, World Cuisine</td>\n",
       "      <td>Turkish Lira(TL)</td>\n",
       "      <td>No</td>\n",
       "      <td>4</td>\n",
       "      <td>3.7</td>\n",
       "      <td>Good</td>\n",
       "      <td>661</td>\n",
       "      <td>10.030</td>\n",
       "    </tr>\n",
       "    <tr>\n",
       "      <th>9549</th>\n",
       "      <td>5916112</td>\n",
       "      <td>ÛÁstanbul</td>\n",
       "      <td>Kuruí_eôme Mahallesi, Muallim Naci Caddesi, N...</td>\n",
       "      <td>Kuruí_eôme</td>\n",
       "      <td>Kuruí_eôme, ÛÁstanbul</td>\n",
       "      <td>Restaurant Cafe</td>\n",
       "      <td>Turkish Lira(TL)</td>\n",
       "      <td>No</td>\n",
       "      <td>4</td>\n",
       "      <td>4.0</td>\n",
       "      <td>Very Good</td>\n",
       "      <td>901</td>\n",
       "      <td>7.080</td>\n",
       "    </tr>\n",
       "    <tr>\n",
       "      <th>9550</th>\n",
       "      <td>5927402</td>\n",
       "      <td>ÛÁstanbul</td>\n",
       "      <td>CafeaÛôa Mahallesi, BademaltÛ± Sokak, No 21/B,...</td>\n",
       "      <td>Moda</td>\n",
       "      <td>Moda, ÛÁstanbul</td>\n",
       "      <td>Cafe</td>\n",
       "      <td>Turkish Lira(TL)</td>\n",
       "      <td>No</td>\n",
       "      <td>2</td>\n",
       "      <td>4.0</td>\n",
       "      <td>Very Good</td>\n",
       "      <td>591</td>\n",
       "      <td>3.245</td>\n",
       "    </tr>\n",
       "  </tbody>\n",
       "</table>\n",
       "<p>9551 rows × 13 columns</p>\n",
       "</div>"
      ],
      "text/plain": [
       "      Restaurant ID              City  \\\n",
       "0           6317637       Makati City   \n",
       "1           6304287       Makati City   \n",
       "2           6300002  Mandaluyong City   \n",
       "3           6318506  Mandaluyong City   \n",
       "4           6314302  Mandaluyong City   \n",
       "...             ...               ...   \n",
       "9546        5915730         ÛÁstanbul   \n",
       "9547        5908749         ÛÁstanbul   \n",
       "9548        5915807         ÛÁstanbul   \n",
       "9549        5916112         ÛÁstanbul   \n",
       "9550        5927402         ÛÁstanbul   \n",
       "\n",
       "                                                Address  \\\n",
       "0     Third Floor, Century City Mall, Kalayaan Avenu...   \n",
       "1     Little Tokyo, 2277 Chino Roces Avenue, Legaspi...   \n",
       "2     Edsa Shangri-La, 1 Garden Way, Ortigas, Mandal...   \n",
       "3     Third Floor, Mega Fashion Hall, SM Megamall, O...   \n",
       "4     Third Floor, Mega Atrium, SM Megamall, Ortigas...   \n",
       "...                                                 ...   \n",
       "9546  Kemankeô Karamustafa Paôa Mahallesi, RÛ±htÛ±...   \n",
       "9547  Koôuyolu Mahallesi, Muhittin íìstí_ndaÛô Cadd...   \n",
       "9548  Kuruí_eôme Mahallesi, Muallim Naci Caddesi, N...   \n",
       "9549  Kuruí_eôme Mahallesi, Muallim Naci Caddesi, N...   \n",
       "9550  CafeaÛôa Mahallesi, BademaltÛ± Sokak, No 21/B,...   \n",
       "\n",
       "                                        Locality  \\\n",
       "0      Century City Mall, Poblacion, Makati City   \n",
       "1     Little Tokyo, Legaspi Village, Makati City   \n",
       "2     Edsa Shangri-La, Ortigas, Mandaluyong City   \n",
       "3         SM Megamall, Ortigas, Mandaluyong City   \n",
       "4         SM Megamall, Ortigas, Mandaluyong City   \n",
       "...                                          ...   \n",
       "9546                                    Karakí_y   \n",
       "9547                                   Koôuyolu   \n",
       "9548                                 Kuruí_eôme   \n",
       "9549                                 Kuruí_eôme   \n",
       "9550                                        Moda   \n",
       "\n",
       "                                       Locality Verbose  \\\n",
       "0     Century City Mall, Poblacion, Makati City, Mak...   \n",
       "1     Little Tokyo, Legaspi Village, Makati City, Ma...   \n",
       "2     Edsa Shangri-La, Ortigas, Mandaluyong City, Ma...   \n",
       "3     SM Megamall, Ortigas, Mandaluyong City, Mandal...   \n",
       "4     SM Megamall, Ortigas, Mandaluyong City, Mandal...   \n",
       "...                                                 ...   \n",
       "9546                                Karakí_y, ÛÁstanbul   \n",
       "9547                               Koôuyolu, ÛÁstanbul   \n",
       "9548                             Kuruí_eôme, ÛÁstanbul   \n",
       "9549                             Kuruí_eôme, ÛÁstanbul   \n",
       "9550                                    Moda, ÛÁstanbul   \n",
       "\n",
       "                              Cuisines          Currency Has Table booking  \\\n",
       "0           French, Japanese, Desserts  Botswana Pula(P)               Yes   \n",
       "1                             Japanese  Botswana Pula(P)               Yes   \n",
       "2     Seafood, Asian, Filipino, Indian  Botswana Pula(P)               Yes   \n",
       "3                      Japanese, Sushi  Botswana Pula(P)                No   \n",
       "4                     Japanese, Korean  Botswana Pula(P)               Yes   \n",
       "...                                ...               ...               ...   \n",
       "9546                           Turkish  Turkish Lira(TL)                No   \n",
       "9547   World Cuisine, Patisserie, Cafe  Turkish Lira(TL)                No   \n",
       "9548            Italian, World Cuisine  Turkish Lira(TL)                No   \n",
       "9549                   Restaurant Cafe  Turkish Lira(TL)                No   \n",
       "9550                              Cafe  Turkish Lira(TL)                No   \n",
       "\n",
       "      Price range  Aggregate rating Rating text  Votes  \\\n",
       "0               3               4.8   Excellent    314   \n",
       "1               3               4.5   Excellent    591   \n",
       "2               4               4.4   Very Good    270   \n",
       "3               4               4.9   Excellent    365   \n",
       "4               4               4.8   Excellent    229   \n",
       "...           ...               ...         ...    ...   \n",
       "9546            3               4.1   Very Good    788   \n",
       "9547            3               4.2   Very Good   1034   \n",
       "9548            4               3.7        Good    661   \n",
       "9549            4               4.0   Very Good    901   \n",
       "9550            2               4.0   Very Good    591   \n",
       "\n",
       "      Unified_avg_cost_per_two  \n",
       "0                       13.200  \n",
       "1                       14.400  \n",
       "2                       48.000  \n",
       "3                       18.000  \n",
       "4                       18.000  \n",
       "...                        ...  \n",
       "9546                     4.720  \n",
       "9547                     6.195  \n",
       "9548                    10.030  \n",
       "9549                     7.080  \n",
       "9550                     3.245  \n",
       "\n",
       "[9551 rows x 13 columns]"
      ]
     },
     "execution_count": 33,
     "metadata": {},
     "output_type": "execute_result"
    }
   ],
   "source": [
    "df"
   ]
  },
  {
   "cell_type": "code",
   "execution_count": 34,
   "id": "cb0bf3d9",
   "metadata": {},
   "outputs": [],
   "source": [
    "target = 'Average Cost for two'\n",
    "targetp = 'Price range'"
   ]
  },
  {
   "cell_type": "code",
   "execution_count": 37,
   "id": "11048a78",
   "metadata": {},
   "outputs": [
    {
     "data": {
      "text/html": [
       "<div>\n",
       "<style scoped>\n",
       "    .dataframe tbody tr th:only-of-type {\n",
       "        vertical-align: middle;\n",
       "    }\n",
       "\n",
       "    .dataframe tbody tr th {\n",
       "        vertical-align: top;\n",
       "    }\n",
       "\n",
       "    .dataframe thead th {\n",
       "        text-align: right;\n",
       "    }\n",
       "</style>\n",
       "<table border=\"1\" class=\"dataframe\">\n",
       "  <thead>\n",
       "    <tr style=\"text-align: right;\">\n",
       "      <th></th>\n",
       "      <th>Restaurant ID</th>\n",
       "      <th>City</th>\n",
       "      <th>Address</th>\n",
       "      <th>Locality</th>\n",
       "      <th>Locality Verbose</th>\n",
       "      <th>Cuisines</th>\n",
       "      <th>Currency</th>\n",
       "      <th>Has Table booking</th>\n",
       "      <th>Price range</th>\n",
       "      <th>Aggregate rating</th>\n",
       "      <th>Rating text</th>\n",
       "      <th>Votes</th>\n",
       "      <th>Unified_avg_cost_per_two</th>\n",
       "    </tr>\n",
       "  </thead>\n",
       "  <tbody>\n",
       "    <tr>\n",
       "      <th>0</th>\n",
       "      <td>6317637</td>\n",
       "      <td>Makati City</td>\n",
       "      <td>Third Floor, Century City Mall, Kalayaan Avenu...</td>\n",
       "      <td>Century City Mall, Poblacion, Makati City</td>\n",
       "      <td>Century City Mall, Poblacion, Makati City, Mak...</td>\n",
       "      <td>French, Japanese, Desserts</td>\n",
       "      <td>Botswana Pula(P)</td>\n",
       "      <td>Yes</td>\n",
       "      <td>3</td>\n",
       "      <td>4.8</td>\n",
       "      <td>Excellent</td>\n",
       "      <td>314</td>\n",
       "      <td>13.200</td>\n",
       "    </tr>\n",
       "    <tr>\n",
       "      <th>1</th>\n",
       "      <td>6304287</td>\n",
       "      <td>Makati City</td>\n",
       "      <td>Little Tokyo, 2277 Chino Roces Avenue, Legaspi...</td>\n",
       "      <td>Little Tokyo, Legaspi Village, Makati City</td>\n",
       "      <td>Little Tokyo, Legaspi Village, Makati City, Ma...</td>\n",
       "      <td>Japanese</td>\n",
       "      <td>Botswana Pula(P)</td>\n",
       "      <td>Yes</td>\n",
       "      <td>3</td>\n",
       "      <td>4.5</td>\n",
       "      <td>Excellent</td>\n",
       "      <td>591</td>\n",
       "      <td>14.400</td>\n",
       "    </tr>\n",
       "    <tr>\n",
       "      <th>2</th>\n",
       "      <td>6300002</td>\n",
       "      <td>Mandaluyong City</td>\n",
       "      <td>Edsa Shangri-La, 1 Garden Way, Ortigas, Mandal...</td>\n",
       "      <td>Edsa Shangri-La, Ortigas, Mandaluyong City</td>\n",
       "      <td>Edsa Shangri-La, Ortigas, Mandaluyong City, Ma...</td>\n",
       "      <td>Seafood, Asian, Filipino, Indian</td>\n",
       "      <td>Botswana Pula(P)</td>\n",
       "      <td>Yes</td>\n",
       "      <td>4</td>\n",
       "      <td>4.4</td>\n",
       "      <td>Very Good</td>\n",
       "      <td>270</td>\n",
       "      <td>48.000</td>\n",
       "    </tr>\n",
       "    <tr>\n",
       "      <th>3</th>\n",
       "      <td>6318506</td>\n",
       "      <td>Mandaluyong City</td>\n",
       "      <td>Third Floor, Mega Fashion Hall, SM Megamall, O...</td>\n",
       "      <td>SM Megamall, Ortigas, Mandaluyong City</td>\n",
       "      <td>SM Megamall, Ortigas, Mandaluyong City, Mandal...</td>\n",
       "      <td>Japanese, Sushi</td>\n",
       "      <td>Botswana Pula(P)</td>\n",
       "      <td>No</td>\n",
       "      <td>4</td>\n",
       "      <td>4.9</td>\n",
       "      <td>Excellent</td>\n",
       "      <td>365</td>\n",
       "      <td>18.000</td>\n",
       "    </tr>\n",
       "    <tr>\n",
       "      <th>4</th>\n",
       "      <td>6314302</td>\n",
       "      <td>Mandaluyong City</td>\n",
       "      <td>Third Floor, Mega Atrium, SM Megamall, Ortigas...</td>\n",
       "      <td>SM Megamall, Ortigas, Mandaluyong City</td>\n",
       "      <td>SM Megamall, Ortigas, Mandaluyong City, Mandal...</td>\n",
       "      <td>Japanese, Korean</td>\n",
       "      <td>Botswana Pula(P)</td>\n",
       "      <td>Yes</td>\n",
       "      <td>4</td>\n",
       "      <td>4.8</td>\n",
       "      <td>Excellent</td>\n",
       "      <td>229</td>\n",
       "      <td>18.000</td>\n",
       "    </tr>\n",
       "    <tr>\n",
       "      <th>...</th>\n",
       "      <td>...</td>\n",
       "      <td>...</td>\n",
       "      <td>...</td>\n",
       "      <td>...</td>\n",
       "      <td>...</td>\n",
       "      <td>...</td>\n",
       "      <td>...</td>\n",
       "      <td>...</td>\n",
       "      <td>...</td>\n",
       "      <td>...</td>\n",
       "      <td>...</td>\n",
       "      <td>...</td>\n",
       "      <td>...</td>\n",
       "    </tr>\n",
       "    <tr>\n",
       "      <th>9546</th>\n",
       "      <td>5915730</td>\n",
       "      <td>ÛÁstanbul</td>\n",
       "      <td>Kemankeô Karamustafa Paôa Mahallesi, RÛ±htÛ±...</td>\n",
       "      <td>Karakí_y</td>\n",
       "      <td>Karakí_y, ÛÁstanbul</td>\n",
       "      <td>Turkish</td>\n",
       "      <td>Turkish Lira(TL)</td>\n",
       "      <td>No</td>\n",
       "      <td>3</td>\n",
       "      <td>4.1</td>\n",
       "      <td>Very Good</td>\n",
       "      <td>788</td>\n",
       "      <td>4.720</td>\n",
       "    </tr>\n",
       "    <tr>\n",
       "      <th>9547</th>\n",
       "      <td>5908749</td>\n",
       "      <td>ÛÁstanbul</td>\n",
       "      <td>Koôuyolu Mahallesi, Muhittin íìstí_ndaÛô Cadd...</td>\n",
       "      <td>Koôuyolu</td>\n",
       "      <td>Koôuyolu, ÛÁstanbul</td>\n",
       "      <td>World Cuisine, Patisserie, Cafe</td>\n",
       "      <td>Turkish Lira(TL)</td>\n",
       "      <td>No</td>\n",
       "      <td>3</td>\n",
       "      <td>4.2</td>\n",
       "      <td>Very Good</td>\n",
       "      <td>1034</td>\n",
       "      <td>6.195</td>\n",
       "    </tr>\n",
       "    <tr>\n",
       "      <th>9548</th>\n",
       "      <td>5915807</td>\n",
       "      <td>ÛÁstanbul</td>\n",
       "      <td>Kuruí_eôme Mahallesi, Muallim Naci Caddesi, N...</td>\n",
       "      <td>Kuruí_eôme</td>\n",
       "      <td>Kuruí_eôme, ÛÁstanbul</td>\n",
       "      <td>Italian, World Cuisine</td>\n",
       "      <td>Turkish Lira(TL)</td>\n",
       "      <td>No</td>\n",
       "      <td>4</td>\n",
       "      <td>3.7</td>\n",
       "      <td>Good</td>\n",
       "      <td>661</td>\n",
       "      <td>10.030</td>\n",
       "    </tr>\n",
       "    <tr>\n",
       "      <th>9549</th>\n",
       "      <td>5916112</td>\n",
       "      <td>ÛÁstanbul</td>\n",
       "      <td>Kuruí_eôme Mahallesi, Muallim Naci Caddesi, N...</td>\n",
       "      <td>Kuruí_eôme</td>\n",
       "      <td>Kuruí_eôme, ÛÁstanbul</td>\n",
       "      <td>Restaurant Cafe</td>\n",
       "      <td>Turkish Lira(TL)</td>\n",
       "      <td>No</td>\n",
       "      <td>4</td>\n",
       "      <td>4.0</td>\n",
       "      <td>Very Good</td>\n",
       "      <td>901</td>\n",
       "      <td>7.080</td>\n",
       "    </tr>\n",
       "    <tr>\n",
       "      <th>9550</th>\n",
       "      <td>5927402</td>\n",
       "      <td>ÛÁstanbul</td>\n",
       "      <td>CafeaÛôa Mahallesi, BademaltÛ± Sokak, No 21/B,...</td>\n",
       "      <td>Moda</td>\n",
       "      <td>Moda, ÛÁstanbul</td>\n",
       "      <td>Cafe</td>\n",
       "      <td>Turkish Lira(TL)</td>\n",
       "      <td>No</td>\n",
       "      <td>2</td>\n",
       "      <td>4.0</td>\n",
       "      <td>Very Good</td>\n",
       "      <td>591</td>\n",
       "      <td>3.245</td>\n",
       "    </tr>\n",
       "  </tbody>\n",
       "</table>\n",
       "<p>9551 rows × 13 columns</p>\n",
       "</div>"
      ],
      "text/plain": [
       "      Restaurant ID              City  \\\n",
       "0           6317637       Makati City   \n",
       "1           6304287       Makati City   \n",
       "2           6300002  Mandaluyong City   \n",
       "3           6318506  Mandaluyong City   \n",
       "4           6314302  Mandaluyong City   \n",
       "...             ...               ...   \n",
       "9546        5915730         ÛÁstanbul   \n",
       "9547        5908749         ÛÁstanbul   \n",
       "9548        5915807         ÛÁstanbul   \n",
       "9549        5916112         ÛÁstanbul   \n",
       "9550        5927402         ÛÁstanbul   \n",
       "\n",
       "                                                Address  \\\n",
       "0     Third Floor, Century City Mall, Kalayaan Avenu...   \n",
       "1     Little Tokyo, 2277 Chino Roces Avenue, Legaspi...   \n",
       "2     Edsa Shangri-La, 1 Garden Way, Ortigas, Mandal...   \n",
       "3     Third Floor, Mega Fashion Hall, SM Megamall, O...   \n",
       "4     Third Floor, Mega Atrium, SM Megamall, Ortigas...   \n",
       "...                                                 ...   \n",
       "9546  Kemankeô Karamustafa Paôa Mahallesi, RÛ±htÛ±...   \n",
       "9547  Koôuyolu Mahallesi, Muhittin íìstí_ndaÛô Cadd...   \n",
       "9548  Kuruí_eôme Mahallesi, Muallim Naci Caddesi, N...   \n",
       "9549  Kuruí_eôme Mahallesi, Muallim Naci Caddesi, N...   \n",
       "9550  CafeaÛôa Mahallesi, BademaltÛ± Sokak, No 21/B,...   \n",
       "\n",
       "                                        Locality  \\\n",
       "0      Century City Mall, Poblacion, Makati City   \n",
       "1     Little Tokyo, Legaspi Village, Makati City   \n",
       "2     Edsa Shangri-La, Ortigas, Mandaluyong City   \n",
       "3         SM Megamall, Ortigas, Mandaluyong City   \n",
       "4         SM Megamall, Ortigas, Mandaluyong City   \n",
       "...                                          ...   \n",
       "9546                                    Karakí_y   \n",
       "9547                                   Koôuyolu   \n",
       "9548                                 Kuruí_eôme   \n",
       "9549                                 Kuruí_eôme   \n",
       "9550                                        Moda   \n",
       "\n",
       "                                       Locality Verbose  \\\n",
       "0     Century City Mall, Poblacion, Makati City, Mak...   \n",
       "1     Little Tokyo, Legaspi Village, Makati City, Ma...   \n",
       "2     Edsa Shangri-La, Ortigas, Mandaluyong City, Ma...   \n",
       "3     SM Megamall, Ortigas, Mandaluyong City, Mandal...   \n",
       "4     SM Megamall, Ortigas, Mandaluyong City, Mandal...   \n",
       "...                                                 ...   \n",
       "9546                                Karakí_y, ÛÁstanbul   \n",
       "9547                               Koôuyolu, ÛÁstanbul   \n",
       "9548                             Kuruí_eôme, ÛÁstanbul   \n",
       "9549                             Kuruí_eôme, ÛÁstanbul   \n",
       "9550                                    Moda, ÛÁstanbul   \n",
       "\n",
       "                              Cuisines          Currency Has Table booking  \\\n",
       "0           French, Japanese, Desserts  Botswana Pula(P)               Yes   \n",
       "1                             Japanese  Botswana Pula(P)               Yes   \n",
       "2     Seafood, Asian, Filipino, Indian  Botswana Pula(P)               Yes   \n",
       "3                      Japanese, Sushi  Botswana Pula(P)                No   \n",
       "4                     Japanese, Korean  Botswana Pula(P)               Yes   \n",
       "...                                ...               ...               ...   \n",
       "9546                           Turkish  Turkish Lira(TL)                No   \n",
       "9547   World Cuisine, Patisserie, Cafe  Turkish Lira(TL)                No   \n",
       "9548            Italian, World Cuisine  Turkish Lira(TL)                No   \n",
       "9549                   Restaurant Cafe  Turkish Lira(TL)                No   \n",
       "9550                              Cafe  Turkish Lira(TL)                No   \n",
       "\n",
       "      Price range  Aggregate rating Rating text  Votes  \\\n",
       "0               3               4.8   Excellent    314   \n",
       "1               3               4.5   Excellent    591   \n",
       "2               4               4.4   Very Good    270   \n",
       "3               4               4.9   Excellent    365   \n",
       "4               4               4.8   Excellent    229   \n",
       "...           ...               ...         ...    ...   \n",
       "9546            3               4.1   Very Good    788   \n",
       "9547            3               4.2   Very Good   1034   \n",
       "9548            4               3.7        Good    661   \n",
       "9549            4               4.0   Very Good    901   \n",
       "9550            2               4.0   Very Good    591   \n",
       "\n",
       "      Unified_avg_cost_per_two  \n",
       "0                       13.200  \n",
       "1                       14.400  \n",
       "2                       48.000  \n",
       "3                       18.000  \n",
       "4                       18.000  \n",
       "...                        ...  \n",
       "9546                     4.720  \n",
       "9547                     6.195  \n",
       "9548                    10.030  \n",
       "9549                     7.080  \n",
       "9550                     3.245  \n",
       "\n",
       "[9551 rows x 13 columns]"
      ]
     },
     "execution_count": 37,
     "metadata": {},
     "output_type": "execute_result"
    }
   ],
   "source": [
    "enc = Encoder(df)\n",
    "enc.df"
   ]
  },
  {
   "cell_type": "code",
   "execution_count": 38,
   "id": "daeebb88",
   "metadata": {},
   "outputs": [
    {
     "data": {
      "text/plain": [
       "Index(['Restaurant ID', 'City', 'Address', 'Locality', 'Locality Verbose',\n",
       "       'Cuisines', 'Currency', 'Has Table booking', 'Price range',\n",
       "       'Aggregate rating', 'Rating text', 'Votes', 'Unified_avg_cost_per_two'],\n",
       "      dtype='object')"
      ]
     },
     "execution_count": 38,
     "metadata": {},
     "output_type": "execute_result"
    }
   ],
   "source": [
    "df.columns"
   ]
  },
  {
   "cell_type": "code",
   "execution_count": 39,
   "id": "60e8b3fa",
   "metadata": {},
   "outputs": [
    {
     "data": {
      "text/html": [
       "<div>\n",
       "<style scoped>\n",
       "    .dataframe tbody tr th:only-of-type {\n",
       "        vertical-align: middle;\n",
       "    }\n",
       "\n",
       "    .dataframe tbody tr th {\n",
       "        vertical-align: top;\n",
       "    }\n",
       "\n",
       "    .dataframe thead th {\n",
       "        text-align: right;\n",
       "    }\n",
       "</style>\n",
       "<table border=\"1\" class=\"dataframe\">\n",
       "  <thead>\n",
       "    <tr style=\"text-align: right;\">\n",
       "      <th></th>\n",
       "      <th>Restaurant ID</th>\n",
       "      <th>City</th>\n",
       "      <th>Address</th>\n",
       "      <th>Locality</th>\n",
       "      <th>Locality Verbose</th>\n",
       "      <th>Cuisines</th>\n",
       "      <th>Currency</th>\n",
       "      <th>Has Table booking</th>\n",
       "      <th>Price range</th>\n",
       "      <th>Aggregate rating</th>\n",
       "      <th>Rating text</th>\n",
       "      <th>Votes</th>\n",
       "      <th>Unified_avg_cost_per_two</th>\n",
       "    </tr>\n",
       "  </thead>\n",
       "  <tbody>\n",
       "    <tr>\n",
       "      <th>0</th>\n",
       "      <td>6317637</td>\n",
       "      <td>Makati City</td>\n",
       "      <td>Third Floor, Century City Mall, Kalayaan Avenu...</td>\n",
       "      <td>Century City Mall, Poblacion, Makati City</td>\n",
       "      <td>Century City Mall, Poblacion, Makati City, Mak...</td>\n",
       "      <td>French, Japanese, Desserts</td>\n",
       "      <td>Botswana Pula(P)</td>\n",
       "      <td>Yes</td>\n",
       "      <td>3</td>\n",
       "      <td>4.8</td>\n",
       "      <td>Excellent</td>\n",
       "      <td>314</td>\n",
       "      <td>13.2</td>\n",
       "    </tr>\n",
       "    <tr>\n",
       "      <th>1</th>\n",
       "      <td>6304287</td>\n",
       "      <td>Makati City</td>\n",
       "      <td>Little Tokyo, 2277 Chino Roces Avenue, Legaspi...</td>\n",
       "      <td>Little Tokyo, Legaspi Village, Makati City</td>\n",
       "      <td>Little Tokyo, Legaspi Village, Makati City, Ma...</td>\n",
       "      <td>Japanese</td>\n",
       "      <td>Botswana Pula(P)</td>\n",
       "      <td>Yes</td>\n",
       "      <td>3</td>\n",
       "      <td>4.5</td>\n",
       "      <td>Excellent</td>\n",
       "      <td>591</td>\n",
       "      <td>14.4</td>\n",
       "    </tr>\n",
       "    <tr>\n",
       "      <th>2</th>\n",
       "      <td>6300002</td>\n",
       "      <td>Mandaluyong City</td>\n",
       "      <td>Edsa Shangri-La, 1 Garden Way, Ortigas, Mandal...</td>\n",
       "      <td>Edsa Shangri-La, Ortigas, Mandaluyong City</td>\n",
       "      <td>Edsa Shangri-La, Ortigas, Mandaluyong City, Ma...</td>\n",
       "      <td>Seafood, Asian, Filipino, Indian</td>\n",
       "      <td>Botswana Pula(P)</td>\n",
       "      <td>Yes</td>\n",
       "      <td>4</td>\n",
       "      <td>4.4</td>\n",
       "      <td>Very Good</td>\n",
       "      <td>270</td>\n",
       "      <td>48.0</td>\n",
       "    </tr>\n",
       "    <tr>\n",
       "      <th>3</th>\n",
       "      <td>6318506</td>\n",
       "      <td>Mandaluyong City</td>\n",
       "      <td>Third Floor, Mega Fashion Hall, SM Megamall, O...</td>\n",
       "      <td>SM Megamall, Ortigas, Mandaluyong City</td>\n",
       "      <td>SM Megamall, Ortigas, Mandaluyong City, Mandal...</td>\n",
       "      <td>Japanese, Sushi</td>\n",
       "      <td>Botswana Pula(P)</td>\n",
       "      <td>No</td>\n",
       "      <td>4</td>\n",
       "      <td>4.9</td>\n",
       "      <td>Excellent</td>\n",
       "      <td>365</td>\n",
       "      <td>18.0</td>\n",
       "    </tr>\n",
       "    <tr>\n",
       "      <th>4</th>\n",
       "      <td>6314302</td>\n",
       "      <td>Mandaluyong City</td>\n",
       "      <td>Third Floor, Mega Atrium, SM Megamall, Ortigas...</td>\n",
       "      <td>SM Megamall, Ortigas, Mandaluyong City</td>\n",
       "      <td>SM Megamall, Ortigas, Mandaluyong City, Mandal...</td>\n",
       "      <td>Japanese, Korean</td>\n",
       "      <td>Botswana Pula(P)</td>\n",
       "      <td>Yes</td>\n",
       "      <td>4</td>\n",
       "      <td>4.8</td>\n",
       "      <td>Excellent</td>\n",
       "      <td>229</td>\n",
       "      <td>18.0</td>\n",
       "    </tr>\n",
       "  </tbody>\n",
       "</table>\n",
       "</div>"
      ],
      "text/plain": [
       "   Restaurant ID              City  \\\n",
       "0        6317637       Makati City   \n",
       "1        6304287       Makati City   \n",
       "2        6300002  Mandaluyong City   \n",
       "3        6318506  Mandaluyong City   \n",
       "4        6314302  Mandaluyong City   \n",
       "\n",
       "                                             Address  \\\n",
       "0  Third Floor, Century City Mall, Kalayaan Avenu...   \n",
       "1  Little Tokyo, 2277 Chino Roces Avenue, Legaspi...   \n",
       "2  Edsa Shangri-La, 1 Garden Way, Ortigas, Mandal...   \n",
       "3  Third Floor, Mega Fashion Hall, SM Megamall, O...   \n",
       "4  Third Floor, Mega Atrium, SM Megamall, Ortigas...   \n",
       "\n",
       "                                     Locality  \\\n",
       "0   Century City Mall, Poblacion, Makati City   \n",
       "1  Little Tokyo, Legaspi Village, Makati City   \n",
       "2  Edsa Shangri-La, Ortigas, Mandaluyong City   \n",
       "3      SM Megamall, Ortigas, Mandaluyong City   \n",
       "4      SM Megamall, Ortigas, Mandaluyong City   \n",
       "\n",
       "                                    Locality Verbose  \\\n",
       "0  Century City Mall, Poblacion, Makati City, Mak...   \n",
       "1  Little Tokyo, Legaspi Village, Makati City, Ma...   \n",
       "2  Edsa Shangri-La, Ortigas, Mandaluyong City, Ma...   \n",
       "3  SM Megamall, Ortigas, Mandaluyong City, Mandal...   \n",
       "4  SM Megamall, Ortigas, Mandaluyong City, Mandal...   \n",
       "\n",
       "                           Cuisines          Currency Has Table booking  \\\n",
       "0        French, Japanese, Desserts  Botswana Pula(P)               Yes   \n",
       "1                          Japanese  Botswana Pula(P)               Yes   \n",
       "2  Seafood, Asian, Filipino, Indian  Botswana Pula(P)               Yes   \n",
       "3                   Japanese, Sushi  Botswana Pula(P)                No   \n",
       "4                  Japanese, Korean  Botswana Pula(P)               Yes   \n",
       "\n",
       "   Price range  Aggregate rating Rating text  Votes  Unified_avg_cost_per_two  \n",
       "0            3               4.8   Excellent    314                      13.2  \n",
       "1            3               4.5   Excellent    591                      14.4  \n",
       "2            4               4.4   Very Good    270                      48.0  \n",
       "3            4               4.9   Excellent    365                      18.0  \n",
       "4            4               4.8   Excellent    229                      18.0  "
      ]
     },
     "execution_count": 39,
     "metadata": {},
     "output_type": "execute_result"
    }
   ],
   "source": [
    "df.head()"
   ]
  },
  {
   "cell_type": "code",
   "execution_count": 52,
   "id": "47e58a80",
   "metadata": {},
   "outputs": [],
   "source": [
    "df.drop(columns=['Address','Locality','Locality Verbose','Restaurant ID','Currency'],inplace=True)b"
   ]
  },
  {
   "cell_type": "code",
   "execution_count": 56,
   "id": "57fe93d0",
   "metadata": {},
   "outputs": [
    {
     "data": {
      "text/plain": [
       "Index(['City', 'Cuisines', 'Has Table booking', 'Price range',\n",
       "       'Aggregate rating', 'Rating text', 'Votes', 'Unified_avg_cost_per_two'],\n",
       "      dtype='object')"
      ]
     },
     "execution_count": 56,
     "metadata": {},
     "output_type": "execute_result"
    }
   ],
   "source": [
    "df.columns"
   ]
  },
  {
   "cell_type": "code",
   "execution_count": 53,
   "id": "de411edd",
   "metadata": {},
   "outputs": [
    {
     "data": {
      "text/html": [
       "<div>\n",
       "<style scoped>\n",
       "    .dataframe tbody tr th:only-of-type {\n",
       "        vertical-align: middle;\n",
       "    }\n",
       "\n",
       "    .dataframe tbody tr th {\n",
       "        vertical-align: top;\n",
       "    }\n",
       "\n",
       "    .dataframe thead th {\n",
       "        text-align: right;\n",
       "    }\n",
       "</style>\n",
       "<table border=\"1\" class=\"dataframe\">\n",
       "  <thead>\n",
       "    <tr style=\"text-align: right;\">\n",
       "      <th></th>\n",
       "      <th>Aggregate rating</th>\n",
       "      <th>Unified_avg_cost_per_two</th>\n",
       "    </tr>\n",
       "  </thead>\n",
       "  <tbody>\n",
       "    <tr>\n",
       "      <th>Aggregate rating</th>\n",
       "      <td>1.000000</td>\n",
       "      <td>0.297657</td>\n",
       "    </tr>\n",
       "    <tr>\n",
       "      <th>Unified_avg_cost_per_two</th>\n",
       "      <td>0.297657</td>\n",
       "      <td>1.000000</td>\n",
       "    </tr>\n",
       "  </tbody>\n",
       "</table>\n",
       "</div>"
      ],
      "text/plain": [
       "                          Aggregate rating  Unified_avg_cost_per_two\n",
       "Aggregate rating                  1.000000                  0.297657\n",
       "Unified_avg_cost_per_two          0.297657                  1.000000"
      ]
     },
     "execution_count": 53,
     "metadata": {},
     "output_type": "execute_result"
    }
   ],
   "source": [
    "df[['Aggregate rating','Unified_avg_cost_per_two']].corr()"
   ]
  },
  {
   "cell_type": "code",
   "execution_count": 54,
   "id": "e34ab124",
   "metadata": {},
   "outputs": [
    {
     "data": {
      "text/plain": [
       "<Axes: xlabel='Aggregate rating', ylabel='Unified_avg_cost_per_two'>"
      ]
     },
     "execution_count": 54,
     "metadata": {},
     "output_type": "execute_result"
    },
    {
     "data": {
      "image/png": "[encoded data removed]",
      "text/plain": [
       "<Figure size 640x480 with 1 Axes>"
      ]
     },
     "metadata": {},
     "output_type": "display_data"
    }
   ],
   "source": [
    "sns.scatterplot(x='Aggregate rating',y='Unified_avg_cost_per_two',data=df)"
   ]
  },
  {
   "cell_type": "code",
   "execution_count": 61,
   "id": "bf989044",
   "metadata": {},
   "outputs": [
    {
     "data": {
      "text/plain": [
       "<Axes: xlabel='Votes', ylabel='Unified_avg_cost_per_two'>"
      ]
     },
     "execution_count": 61,
     "metadata": {},
     "output_type": "execute_result"
    },
    {
     "data": {
      "image/png": "[encoded data removed]",
      "text/plain": [
       "<Figure size 640x480 with 1 Axes>"
      ]
     },
     "metadata": {},
     "output_type": "display_data"
    }
   ],
   "source": [
    "sns.scatterplot(x='Votes',y='Unified_avg_cost_per_two',data=df)"
   ]
  },
  {
   "cell_type": "markdown",
   "id": "f882c760",
   "metadata": {},
   "source": [
    "This says that restaurants with more votes not always more expensive"
   ]
  },
  {
   "cell_type": "code",
   "execution_count": null,
   "id": "3c2602de",
   "metadata": {},
   "outputs": [],
   "source": []
  },
  {
   "cell_type": "code",
   "execution_count": 63,
   "id": "6e9fda11",
   "metadata": {},
   "outputs": [
    {
     "data": {
      "text/plain": [
       "<Axes: xlabel='Price range', ylabel='Unified_avg_cost_per_two'>"
      ]
     },
     "execution_count": 63,
     "metadata": {},
     "output_type": "execute_result"
    },
    {
     "data": {
      "image/png": "[encoded data removed]",
      "text/plain": [
       "<Figure size 640x480 with 1 Axes>"
      ]
     },
     "metadata": {},
     "output_type": "display_data"
    }
   ],
   "source": [
    "sns.scatterplot(x='Price range',y='Unified_avg_cost_per_two',data=df)"
   ]
  },
  {
   "cell_type": "code",
   "execution_count": 66,
   "id": "3b07f766",
   "metadata": {},
   "outputs": [
    {
     "data": {
      "text/plain": [
       "<Axes: xlabel='City', ylabel='Unified_avg_cost_per_two'>"
      ]
     },
     "execution_count": 66,
     "metadata": {},
     "output_type": "execute_result"
    },
    {
     "data": {
      "image/png": "[encoded data removed]",
      "text/plain": [
       "<Figure size 640x480 with 1 Axes>"
      ]
     },
     "metadata": {},
     "output_type": "display_data"
    }
   ],
   "source": [
    "sns.scatterplot(x='City',y='Unified_avg_cost_per_two',data=df)"
   ]
  },
  {
   "cell_type": "code",
   "execution_count": 64,
   "id": "92e9bab4",
   "metadata": {
    "scrolled": false
   },
   "outputs": [
    {
     "name": "stdout",
     "output_type": "stream",
     "text": [
      "<class 'pandas.core.frame.DataFrame'>\n",
      "RangeIndex: 9551 entries, 0 to 9550\n",
      "Data columns (total 8 columns):\n",
      " #   Column                    Non-Null Count  Dtype  \n",
      "---  ------                    --------------  -----  \n",
      " 0   City                      9551 non-null   object \n",
      " 1   Cuisines                  9542 non-null   object \n",
      " 2   Has Table booking         9551 non-null   object \n",
      " 3   Price range               9551 non-null   int64  \n",
      " 4   Aggregate rating          9551 non-null   float64\n",
      " 5   Rating text               9551 non-null   object \n",
      " 6   Votes                     9551 non-null   int64  \n",
      " 7   Unified_avg_cost_per_two  9551 non-null   float64\n",
      "dtypes: float64(2), int64(2), object(4)\n",
      "memory usage: 597.1+ KB\n"
     ]
    }
   ],
   "source": [
    "df.info()"
   ]
  },
  {
   "cell_type": "code",
   "execution_count": 72,
   "id": "b32ff86d",
   "metadata": {},
   "outputs": [],
   "source": []
  },
  {
   "cell_type": "code",
   "execution_count": null,
   "id": "1f3fb41f",
   "metadata": {},
   "outputs": [],
   "source": []
  },
  {
   "cell_type": "code",
   "execution_count": 112,
   "id": "a6b811fa",
   "metadata": {
    "scrolled": true
   },
   "outputs": [
    {
     "data": {
      "text/plain": [
       "<Axes: >"
      ]
     },
     "execution_count": 112,
     "metadata": {},
     "output_type": "execute_result"
    },
    {
     "data": {
      "image/png": "[encoded data removed]",
      "text/plain": [
       "<Figure size 640x480 with 1 Axes>"
      ]
     },
     "metadata": {},
     "output_type": "display_data"
    }
   ],
   "source": [
    "sns.boxplot(df['Unified_avg_cost_per_two'])"
   ]
  },
  {
   "cell_type": "markdown",
   "id": "c8897248",
   "metadata": {},
   "source": [
    "we can see that there are some restaurants which cost a lot. We can see that there are lot of outliers"
   ]
  },
  {
   "cell_type": "code",
   "execution_count": null,
   "id": "fb7345ed",
   "metadata": {},
   "outputs": [],
   "source": [
    "enc = Encoder(df)\n",
    "df = enc.label(cols=[col for col in df.columns if df[col].dtype == 'object'])"
   ]
  },
  {
   "cell_type": "code",
   "execution_count": 76,
   "id": "61a352fd",
   "metadata": {},
   "outputs": [
    {
     "data": {
      "text/html": [
       "<div>\n",
       "<style scoped>\n",
       "    .dataframe tbody tr th:only-of-type {\n",
       "        vertical-align: middle;\n",
       "    }\n",
       "\n",
       "    .dataframe tbody tr th {\n",
       "        vertical-align: top;\n",
       "    }\n",
       "\n",
       "    .dataframe thead th {\n",
       "        text-align: right;\n",
       "    }\n",
       "</style>\n",
       "<table border=\"1\" class=\"dataframe\">\n",
       "  <thead>\n",
       "    <tr style=\"text-align: right;\">\n",
       "      <th></th>\n",
       "      <th>City</th>\n",
       "      <th>Cuisines</th>\n",
       "      <th>Has Table booking</th>\n",
       "      <th>Price range</th>\n",
       "      <th>Aggregate rating</th>\n",
       "      <th>Rating text</th>\n",
       "      <th>Votes</th>\n",
       "      <th>Unified_avg_cost_per_two</th>\n",
       "    </tr>\n",
       "  </thead>\n",
       "  <tbody>\n",
       "    <tr>\n",
       "      <th>0</th>\n",
       "      <td>73</td>\n",
       "      <td>920</td>\n",
       "      <td>1</td>\n",
       "      <td>3</td>\n",
       "      <td>4.8</td>\n",
       "      <td>1</td>\n",
       "      <td>314</td>\n",
       "      <td>13.200</td>\n",
       "    </tr>\n",
       "    <tr>\n",
       "      <th>1</th>\n",
       "      <td>73</td>\n",
       "      <td>1111</td>\n",
       "      <td>1</td>\n",
       "      <td>3</td>\n",
       "      <td>4.5</td>\n",
       "      <td>1</td>\n",
       "      <td>591</td>\n",
       "      <td>14.400</td>\n",
       "    </tr>\n",
       "    <tr>\n",
       "      <th>2</th>\n",
       "      <td>75</td>\n",
       "      <td>1671</td>\n",
       "      <td>1</td>\n",
       "      <td>4</td>\n",
       "      <td>4.4</td>\n",
       "      <td>5</td>\n",
       "      <td>270</td>\n",
       "      <td>48.000</td>\n",
       "    </tr>\n",
       "    <tr>\n",
       "      <th>3</th>\n",
       "      <td>75</td>\n",
       "      <td>1126</td>\n",
       "      <td>0</td>\n",
       "      <td>4</td>\n",
       "      <td>4.9</td>\n",
       "      <td>1</td>\n",
       "      <td>365</td>\n",
       "      <td>18.000</td>\n",
       "    </tr>\n",
       "    <tr>\n",
       "      <th>4</th>\n",
       "      <td>75</td>\n",
       "      <td>1122</td>\n",
       "      <td>1</td>\n",
       "      <td>4</td>\n",
       "      <td>4.8</td>\n",
       "      <td>1</td>\n",
       "      <td>229</td>\n",
       "      <td>18.000</td>\n",
       "    </tr>\n",
       "    <tr>\n",
       "      <th>...</th>\n",
       "      <td>...</td>\n",
       "      <td>...</td>\n",
       "      <td>...</td>\n",
       "      <td>...</td>\n",
       "      <td>...</td>\n",
       "      <td>...</td>\n",
       "      <td>...</td>\n",
       "      <td>...</td>\n",
       "    </tr>\n",
       "    <tr>\n",
       "      <th>9546</th>\n",
       "      <td>140</td>\n",
       "      <td>1813</td>\n",
       "      <td>0</td>\n",
       "      <td>3</td>\n",
       "      <td>4.1</td>\n",
       "      <td>5</td>\n",
       "      <td>788</td>\n",
       "      <td>4.720</td>\n",
       "    </tr>\n",
       "    <tr>\n",
       "      <th>9547</th>\n",
       "      <td>140</td>\n",
       "      <td>1824</td>\n",
       "      <td>0</td>\n",
       "      <td>3</td>\n",
       "      <td>4.2</td>\n",
       "      <td>5</td>\n",
       "      <td>1034</td>\n",
       "      <td>6.195</td>\n",
       "    </tr>\n",
       "    <tr>\n",
       "      <th>9548</th>\n",
       "      <td>140</td>\n",
       "      <td>1110</td>\n",
       "      <td>0</td>\n",
       "      <td>4</td>\n",
       "      <td>3.7</td>\n",
       "      <td>2</td>\n",
       "      <td>661</td>\n",
       "      <td>10.030</td>\n",
       "    </tr>\n",
       "    <tr>\n",
       "      <th>9549</th>\n",
       "      <td>140</td>\n",
       "      <td>1657</td>\n",
       "      <td>0</td>\n",
       "      <td>4</td>\n",
       "      <td>4.0</td>\n",
       "      <td>5</td>\n",
       "      <td>901</td>\n",
       "      <td>7.080</td>\n",
       "    </tr>\n",
       "    <tr>\n",
       "      <th>9550</th>\n",
       "      <td>140</td>\n",
       "      <td>331</td>\n",
       "      <td>0</td>\n",
       "      <td>2</td>\n",
       "      <td>4.0</td>\n",
       "      <td>5</td>\n",
       "      <td>591</td>\n",
       "      <td>3.245</td>\n",
       "    </tr>\n",
       "  </tbody>\n",
       "</table>\n",
       "<p>9551 rows × 8 columns</p>\n",
       "</div>"
      ],
      "text/plain": [
       "      City  Cuisines  Has Table booking  Price range  Aggregate rating  \\\n",
       "0       73       920                  1            3               4.8   \n",
       "1       73      1111                  1            3               4.5   \n",
       "2       75      1671                  1            4               4.4   \n",
       "3       75      1126                  0            4               4.9   \n",
       "4       75      1122                  1            4               4.8   \n",
       "...    ...       ...                ...          ...               ...   \n",
       "9546   140      1813                  0            3               4.1   \n",
       "9547   140      1824                  0            3               4.2   \n",
       "9548   140      1110                  0            4               3.7   \n",
       "9549   140      1657                  0            4               4.0   \n",
       "9550   140       331                  0            2               4.0   \n",
       "\n",
       "      Rating text  Votes  Unified_avg_cost_per_two  \n",
       "0               1    314                    13.200  \n",
       "1               1    591                    14.400  \n",
       "2               5    270                    48.000  \n",
       "3               1    365                    18.000  \n",
       "4               1    229                    18.000  \n",
       "...           ...    ...                       ...  \n",
       "9546            5    788                     4.720  \n",
       "9547            5   1034                     6.195  \n",
       "9548            2    661                    10.030  \n",
       "9549            5    901                     7.080  \n",
       "9550            5    591                     3.245  \n",
       "\n",
       "[9551 rows x 8 columns]"
      ]
     },
     "execution_count": 76,
     "metadata": {},
     "output_type": "execute_result"
    }
   ],
   "source": [
    "df"
   ]
  },
  {
   "cell_type": "code",
   "execution_count": 74,
   "id": "7957d250",
   "metadata": {},
   "outputs": [
    {
     "data": {
      "text/plain": [
       "City                        0\n",
       "Cuisines                    0\n",
       "Has Table booking           0\n",
       "Price range                 0\n",
       "Aggregate rating            0\n",
       "Rating text                 0\n",
       "Votes                       0\n",
       "Unified_avg_cost_per_two    0\n",
       "dtype: int64"
      ]
     },
     "execution_count": 74,
     "metadata": {},
     "output_type": "execute_result"
    }
   ],
   "source": [
    "df.isnull().sum()"
   ]
  },
  {
   "cell_type": "code",
   "execution_count": 77,
   "id": "5def0478",
   "metadata": {},
   "outputs": [
    {
     "data": {
      "text/plain": [
       "City                          int32\n",
       "Cuisines                      int32\n",
       "Has Table booking             int32\n",
       "Price range                   int64\n",
       "Aggregate rating            float64\n",
       "Rating text                   int32\n",
       "Votes                         int64\n",
       "Unified_avg_cost_per_two    float64\n",
       "dtype: object"
      ]
     },
     "execution_count": 77,
     "metadata": {},
     "output_type": "execute_result"
    }
   ],
   "source": [
    "df.dtypes"
   ]
  },
  {
   "cell_type": "code",
   "execution_count": 81,
   "id": "2a92dc0b",
   "metadata": {},
   "outputs": [],
   "source": [
    "X,y = df.drop(columns=['Unified_avg_cost_per_two','Price range']),df[['Unified_avg_cost_per_two','Price range']]"
   ]
  },
  {
   "cell_type": "code",
   "execution_count": 85,
   "id": "26f0b123",
   "metadata": {},
   "outputs": [
    {
     "name": "stdout",
     "output_type": "stream",
     "text": [
      "City                -0.203048\n",
      "Cuisines            -0.305484\n",
      "Has Table booking    2.321100\n",
      "Aggregate rating    -0.513251\n",
      "Rating text          0.431408\n",
      "Votes               -0.004029\n",
      "dtype: float64\n"
     ]
    }
   ],
   "source": [
    "eda = EDA()\n",
    "eda.df = X\n",
    "eda.check_skew()"
   ]
  },
  {
   "cell_type": "markdown",
   "id": "b7f0915a",
   "metadata": {},
   "source": [
    "we don't have much skewness in X"
   ]
  },
  {
   "cell_type": "code",
   "execution_count": 86,
   "id": "80753ad9",
   "metadata": {},
   "outputs": [
    {
     "name": "stdout",
     "output_type": "stream",
     "text": [
      "      values           features\n",
      "0   3.893027               City\n",
      "1   3.401562           Cuisines\n",
      "2   1.244628  Has Table booking\n",
      "3  14.401357   Aggregate rating\n",
      "4   1.958922        Rating text\n",
      "5  15.718970              Votes\n"
     ]
    },
    {
     "data": {
      "text/html": [
       "<div>\n",
       "<style scoped>\n",
       "    .dataframe tbody tr th:only-of-type {\n",
       "        vertical-align: middle;\n",
       "    }\n",
       "\n",
       "    .dataframe tbody tr th {\n",
       "        vertical-align: top;\n",
       "    }\n",
       "\n",
       "    .dataframe thead th {\n",
       "        text-align: right;\n",
       "    }\n",
       "</style>\n",
       "<table border=\"1\" class=\"dataframe\">\n",
       "  <thead>\n",
       "    <tr style=\"text-align: right;\">\n",
       "      <th></th>\n",
       "      <th>values</th>\n",
       "      <th>features</th>\n",
       "    </tr>\n",
       "  </thead>\n",
       "  <tbody>\n",
       "    <tr>\n",
       "      <th>0</th>\n",
       "      <td>3.893027</td>\n",
       "      <td>City</td>\n",
       "    </tr>\n",
       "    <tr>\n",
       "      <th>1</th>\n",
       "      <td>3.401562</td>\n",
       "      <td>Cuisines</td>\n",
       "    </tr>\n",
       "    <tr>\n",
       "      <th>2</th>\n",
       "      <td>1.244628</td>\n",
       "      <td>Has Table booking</td>\n",
       "    </tr>\n",
       "    <tr>\n",
       "      <th>3</th>\n",
       "      <td>14.401357</td>\n",
       "      <td>Aggregate rating</td>\n",
       "    </tr>\n",
       "    <tr>\n",
       "      <th>4</th>\n",
       "      <td>1.958922</td>\n",
       "      <td>Rating text</td>\n",
       "    </tr>\n",
       "    <tr>\n",
       "      <th>5</th>\n",
       "      <td>15.718970</td>\n",
       "      <td>Votes</td>\n",
       "    </tr>\n",
       "  </tbody>\n",
       "</table>\n",
       "</div>"
      ],
      "text/plain": [
       "      values           features\n",
       "0   3.893027               City\n",
       "1   3.401562           Cuisines\n",
       "2   1.244628  Has Table booking\n",
       "3  14.401357   Aggregate rating\n",
       "4   1.958922        Rating text\n",
       "5  15.718970              Votes"
      ]
     },
     "execution_count": 86,
     "metadata": {},
     "output_type": "execute_result"
    }
   ],
   "source": [
    "eda.get_vif(X)"
   ]
  },
  {
   "cell_type": "code",
   "execution_count": null,
   "id": "dcfeb431",
   "metadata": {},
   "outputs": [],
   "source": []
  },
  {
   "cell_type": "markdown",
   "id": "eda6cef2",
   "metadata": {},
   "source": [
    "We have significant outlier influence. Need to use techniques like PCA since we can't drop those columns as they are important for prediction"
   ]
  },
  {
   "cell_type": "code",
   "execution_count": null,
   "id": "b1fee5bb",
   "metadata": {},
   "outputs": [],
   "source": []
  },
  {
   "cell_type": "code",
   "execution_count": 88,
   "id": "08f11edf",
   "metadata": {},
   "outputs": [
    {
     "data": {
      "text/plain": [
       "(9551, 6)"
      ]
     },
     "execution_count": 88,
     "metadata": {},
     "output_type": "execute_result"
    }
   ],
   "source": [
    "X.shape"
   ]
  },
  {
   "cell_type": "code",
   "execution_count": 89,
   "id": "fefd786e",
   "metadata": {},
   "outputs": [
    {
     "data": {
      "text/plain": [
       "(9551, 2)"
      ]
     },
     "execution_count": 89,
     "metadata": {},
     "output_type": "execute_result"
    }
   ],
   "source": [
    "y.shape"
   ]
  },
  {
   "cell_type": "code",
   "execution_count": 92,
   "id": "5acd49ff",
   "metadata": {},
   "outputs": [],
   "source": [
    "yc,yp = y['Unified_avg_cost_per_two'],y['Price range']"
   ]
  },
  {
   "cell_type": "code",
   "execution_count": 94,
   "id": "09146b2e",
   "metadata": {},
   "outputs": [
    {
     "data": {
      "text/plain": [
       "Unified_avg_cost_per_two\n",
       "6.500     893\n",
       "3.900     885\n",
       "5.200     849\n",
       "2.600     677\n",
       "7.800     650\n",
       "         ... \n",
       "62.100      1\n",
       "94.500      1\n",
       "28.800      1\n",
       "89.100      1\n",
       "3.245       1\n",
       "Name: count, Length: 255, dtype: int64"
      ]
     },
     "execution_count": 94,
     "metadata": {},
     "output_type": "execute_result"
    }
   ],
   "source": [
    "yc.value_counts()"
   ]
  },
  {
   "cell_type": "code",
   "execution_count": 95,
   "id": "3c6cb2d9",
   "metadata": {},
   "outputs": [
    {
     "data": {
      "text/plain": [
       "Price range\n",
       "1    4444\n",
       "2    3113\n",
       "3    1408\n",
       "4     586\n",
       "Name: count, dtype: int64"
      ]
     },
     "execution_count": 95,
     "metadata": {},
     "output_type": "execute_result"
    }
   ],
   "source": [
    "yp.value_counts()"
   ]
  },
  {
   "cell_type": "code",
   "execution_count": null,
   "id": "9c0b0443",
   "metadata": {},
   "outputs": [],
   "source": []
  },
  {
   "cell_type": "markdown",
   "id": "1c75ffeb",
   "metadata": {},
   "source": [
    "UpSampling"
   ]
  },
  {
   "cell_type": "code",
   "execution_count": 96,
   "id": "23b7cfa9",
   "metadata": {},
   "outputs": [],
   "source": [
    "X = enc.standard_scaler(X)"
   ]
  },
  {
   "cell_type": "code",
   "execution_count": 97,
   "id": "f0cd8536",
   "metadata": {},
   "outputs": [
    {
     "data": {
      "text/plain": [
       "(9551, 6)"
      ]
     },
     "execution_count": 97,
     "metadata": {},
     "output_type": "execute_result"
    }
   ],
   "source": [
    "X.shape"
   ]
  },
  {
   "cell_type": "code",
   "execution_count": 98,
   "id": "3f160e74",
   "metadata": {},
   "outputs": [],
   "source": [
    "y = yc"
   ]
  },
  {
   "cell_type": "code",
   "execution_count": 99,
   "id": "74d74516",
   "metadata": {},
   "outputs": [
    {
     "data": {
      "text/plain": [
       "(9551,)"
      ]
     },
     "execution_count": 99,
     "metadata": {},
     "output_type": "execute_result"
    }
   ],
   "source": [
    "y.shape"
   ]
  },
  {
   "cell_type": "code",
   "execution_count": 100,
   "id": "2397e2bd",
   "metadata": {
    "scrolled": false
   },
   "outputs": [
    {
     "data": {
      "text/html": [
       "<div>\n",
       "<style scoped>\n",
       "    .dataframe tbody tr th:only-of-type {\n",
       "        vertical-align: middle;\n",
       "    }\n",
       "\n",
       "    .dataframe tbody tr th {\n",
       "        vertical-align: top;\n",
       "    }\n",
       "\n",
       "    .dataframe thead th {\n",
       "        text-align: right;\n",
       "    }\n",
       "</style>\n",
       "<table border=\"1\" class=\"dataframe\">\n",
       "  <thead>\n",
       "    <tr style=\"text-align: right;\">\n",
       "      <th></th>\n",
       "      <th>City</th>\n",
       "      <th>Cuisines</th>\n",
       "      <th>Has Table booking</th>\n",
       "      <th>Aggregate rating</th>\n",
       "      <th>Rating text</th>\n",
       "      <th>Votes</th>\n",
       "    </tr>\n",
       "  </thead>\n",
       "  <tbody>\n",
       "    <tr>\n",
       "      <th>City</th>\n",
       "      <td>1.000000</td>\n",
       "      <td>0.015100</td>\n",
       "      <td>-0.020934</td>\n",
       "      <td>-0.094769</td>\n",
       "      <td>-0.062609</td>\n",
       "      <td>-0.078578</td>\n",
       "    </tr>\n",
       "    <tr>\n",
       "      <th>Cuisines</th>\n",
       "      <td>0.015100</td>\n",
       "      <td>1.000000</td>\n",
       "      <td>0.050232</td>\n",
       "      <td>-0.096837</td>\n",
       "      <td>-0.080025</td>\n",
       "      <td>-0.064814</td>\n",
       "    </tr>\n",
       "    <tr>\n",
       "      <th>Has Table booking</th>\n",
       "      <td>-0.020934</td>\n",
       "      <td>0.050232</td>\n",
       "      <td>1.000000</td>\n",
       "      <td>0.194977</td>\n",
       "      <td>0.044043</td>\n",
       "      <td>0.276031</td>\n",
       "    </tr>\n",
       "    <tr>\n",
       "      <th>Aggregate rating</th>\n",
       "      <td>-0.094769</td>\n",
       "      <td>-0.096837</td>\n",
       "      <td>0.194977</td>\n",
       "      <td>1.000000</td>\n",
       "      <td>-0.063615</td>\n",
       "      <td>0.863328</td>\n",
       "    </tr>\n",
       "    <tr>\n",
       "      <th>Rating text</th>\n",
       "      <td>-0.062609</td>\n",
       "      <td>-0.080025</td>\n",
       "      <td>0.044043</td>\n",
       "      <td>-0.063615</td>\n",
       "      <td>1.000000</td>\n",
       "      <td>0.054782</td>\n",
       "    </tr>\n",
       "    <tr>\n",
       "      <th>Votes</th>\n",
       "      <td>-0.078578</td>\n",
       "      <td>-0.064814</td>\n",
       "      <td>0.276031</td>\n",
       "      <td>0.863328</td>\n",
       "      <td>0.054782</td>\n",
       "      <td>1.000000</td>\n",
       "    </tr>\n",
       "  </tbody>\n",
       "</table>\n",
       "</div>"
      ],
      "text/plain": [
       "                       City  Cuisines  Has Table booking  Aggregate rating  \\\n",
       "City               1.000000  0.015100          -0.020934         -0.094769   \n",
       "Cuisines           0.015100  1.000000           0.050232         -0.096837   \n",
       "Has Table booking -0.020934  0.050232           1.000000          0.194977   \n",
       "Aggregate rating  -0.094769 -0.096837           0.194977          1.000000   \n",
       "Rating text       -0.062609 -0.080025           0.044043         -0.063615   \n",
       "Votes             -0.078578 -0.064814           0.276031          0.863328   \n",
       "\n",
       "                   Rating text     Votes  \n",
       "City                 -0.062609 -0.078578  \n",
       "Cuisines             -0.080025 -0.064814  \n",
       "Has Table booking     0.044043  0.276031  \n",
       "Aggregate rating     -0.063615  0.863328  \n",
       "Rating text           1.000000  0.054782  \n",
       "Votes                 0.054782  1.000000  "
      ]
     },
     "execution_count": 100,
     "metadata": {},
     "output_type": "execute_result"
    }
   ],
   "source": [
    "X.corr()"
   ]
  },
  {
   "cell_type": "code",
   "execution_count": 101,
   "id": "6d281fd3",
   "metadata": {},
   "outputs": [
    {
     "data": {
      "image/png": "[encoded data removed]",
      "text/plain": [
       "<Figure size 2500x2500 with 2 Axes>"
      ]
     },
     "metadata": {},
     "output_type": "display_data"
    }
   ],
   "source": [
    "eda.corr_plot(X)"
   ]
  },
  {
   "cell_type": "markdown",
   "id": "cb95f54c",
   "metadata": {},
   "source": [
    "We have high multicollinearity. We must use PCA to reduce it's effect on regression or we can just drop the columns. We are using PCA here"
   ]
  },
  {
   "cell_type": "markdown",
   "id": "ba020a41",
   "metadata": {},
   "source": [
    "# Training"
   ]
  },
  {
   "cell_type": "code",
   "execution_count": 102,
   "id": "397e18bc",
   "metadata": {},
   "outputs": [],
   "source": [
    "# from sklearn.decomposition import PCA\n",
    "# pca = PCA(0.95)\n",
    "# X_pca = pca.fit_transform(X)"
   ]
  },
  {
   "cell_type": "markdown",
   "id": "f2631e7c",
   "metadata": {},
   "source": [
    "#### Regressors"
   ]
  },
  {
   "cell_type": "code",
   "execution_count": 112,
   "id": "38e74803",
   "metadata": {},
   "outputs": [],
   "source": [
    "from sklearn.ensemble import GradientBoostingRegressor\n",
    "from sklearn.svm import SVR\n",
    "from sklearn.model_selection import GridSearchCV\n",
    "from sklearn.neighbors import KNeighborsRegressor\n",
    "from sklearn.tree import DecisionTreeRegressor\n",
    "from sklearn.linear_model import LogisticRegression\n",
    "from sklearn.linear_model import Ridge\n",
    "from sklearn.linear_model import LinearRegression\n",
    "from sklearn.ensemble import RandomForestRegressor\n",
    "\n",
    "regressors = {\n",
    "    'LinearRegression': (LinearRegression(),{'fit_intercept':[True,False]}),\n",
    "    'Ridge': (Ridge(),{'alpha':[0.5,1.0],'fit_intercept':[True,False]}),\n",
    "    'RandomForest': (RandomForestRegressor(), {'n_estimators': [100, 200], 'max_depth': [None, 10, 20]}),\n",
    "    'GradientBoosting': (GradientBoostingRegressor(), {'n_estimators': [50, 100], 'learning_rate': [0.1, 0.01]}),\n",
    "    'SVM': (SVR(), {'C': [1, 10], 'kernel': ['linear', 'rbf']}),\n",
    "    'KNN': (KNeighborsRegressor(), {'n_neighbors':[5,10]}),\n",
    "    'DecisionTree': (DecisionTreeRegressor(),{'max_depth':[100,200],'max_leaf_nodes':[50,100]})\n",
    "}"
   ]
  },
  {
   "cell_type": "code",
   "execution_count": null,
   "id": "6b8023a4",
   "metadata": {},
   "outputs": [],
   "source": []
  },
  {
   "cell_type": "code",
   "execution_count": 113,
   "id": "25658435",
   "metadata": {},
   "outputs": [
    {
     "name": "stdout",
     "output_type": "stream",
     "text": [
      "LinearRegression\n",
      "0.13586389510437638\n",
      "Ridge\n",
      "0.1359107947139907\n",
      "RandomForest\n",
      "0.09401557397509312\n",
      "GradientBoosting\n",
      "0.19195842225236528\n",
      "SVM\n",
      "0.2798663190864027\n",
      "KNN\n",
      "0.13558816263560536\n",
      "DecisionTree\n",
      "-0.3877805840458705\n"
     ]
    },
    {
     "ename": "NameError",
     "evalue": "name 'i' is not defined",
     "output_type": "error",
     "traceback": [
      "\u001b[1;31m---------------------------------------------------------------------------\u001b[0m",
      "\u001b[1;31mNameError\u001b[0m                                 Traceback (most recent call last)",
      "Cell \u001b[1;32mIn[113], line 15\u001b[0m\n\u001b[0;32m     13\u001b[0m         bmodel \u001b[38;5;241m=\u001b[39m grid_search\u001b[38;5;241m.\u001b[39mbest_estimator_\n\u001b[0;32m     14\u001b[0m         params \u001b[38;5;241m=\u001b[39m grid_search\u001b[38;5;241m.\u001b[39mbest_params_\n\u001b[1;32m---> 15\u001b[0m \u001b[38;5;28mprint\u001b[39m(\u001b[38;5;124mf\u001b[39m\u001b[38;5;124m\"\u001b[39m\u001b[38;5;124mBest model: \u001b[39m\u001b[38;5;132;01m{\u001b[39;00mbmodel\u001b[38;5;132;01m}\u001b[39;00m\u001b[38;5;124m with accuracy \u001b[39m\u001b[38;5;132;01m{\u001b[39;00mbscore\u001b[38;5;132;01m:\u001b[39;00m\u001b[38;5;124m.4f\u001b[39m\u001b[38;5;132;01m}\u001b[39;00m\u001b[38;5;124m when PCA comp is \u001b[39m\u001b[38;5;132;01m{\u001b[39;00mi\u001b[38;5;132;01m}\u001b[39;00m\u001b[38;5;124m\"\u001b[39m)\n\u001b[0;32m     16\u001b[0m b_models\u001b[38;5;241m.\u001b[39mappend([grid_search\u001b[38;5;241m.\u001b[39mbest_estimator_,i,grid_search\u001b[38;5;241m.\u001b[39mbest_params_,grid_search\u001b[38;5;241m.\u001b[39mbest_score_])\n",
      "\u001b[1;31mNameError\u001b[0m: name 'i' is not defined"
     ]
    }
   ],
   "source": [
    "bscore = 0\n",
    "bmodel = ''\n",
    "b_models = []\n",
    "\n",
    "for cl, (clas, param_grid) in regressors.items():\n",
    "    \n",
    "    print(cl)\n",
    "    grid_search = GridSearchCV(clas, param_grid=param_grid, cv=5, scoring='r2')\n",
    "    grid_search.fit(X, yc)\n",
    "    print(grid_search.best_score_)\n",
    "    if grid_search.best_score_ > bscore:\n",
    "        bscore = grid_search.best_score_\n",
    "        bmodel = grid_search.best_estimator_\n",
    "        params = grid_search.best_params_\n",
    "print(f\"Best model: {bmodel} with accuracy {bscore:.4f} when PCA comp is {i}\")\n",
    "b_models.append([grid_search.best_estimator_,grid_search.best_params_,grid_search.best_score_])"
   ]
  },
  {
   "cell_type": "code",
   "execution_count": 115,
   "id": "05a8509c",
   "metadata": {},
   "outputs": [
    {
     "data": {
      "text/plain": [
       "[[DecisionTreeRegressor(max_depth=200, max_leaf_nodes=50),\n",
       "  {'max_depth': 200, 'max_leaf_nodes': 50},\n",
       "  -0.3877805840458705]]"
      ]
     },
     "execution_count": 115,
     "metadata": {},
     "output_type": "execute_result"
    }
   ],
   "source": [
    "b_models"
   ]
  },
  {
   "cell_type": "markdown",
   "id": "bbc83011",
   "metadata": {},
   "source": [
    "### Classifiers"
   ]
  },
  {
   "cell_type": "code",
   "execution_count": 116,
   "id": "afbacc02",
   "metadata": {},
   "outputs": [],
   "source": [
    "from sklearn.ensemble import RandomForestClassifier\n",
    "from sklearn.ensemble import GradientBoostingClassifier\n",
    "from sklearn.svm import SVC\n",
    "from sklearn.neighbors import KNeighborsClassifier\n",
    "from sklearn.tree import DecisionTreeClassifier\n",
    "\n",
    "\n",
    "classifiers = {\n",
    "    'RandomForest' : (RandomForestClassifier(), {'n_estimators':[100,200,300,400,500], 'max_depth':[None, 10,20,30, 40, 50]}),\n",
    "    'GradientBoost': (GradientBoostingClassifier(),{'n_estimators':[50,100,150,200,250],'learning_rate':[0.05,0.1]}),\n",
    "    'SVC' : (SVC(),{'C':[1,5,10],'kernel':['linear','rbf']}),\n",
    "    'KNN': (KNeighborsClassifier(),{'n_neighbors':[5,10,15,20,25]}),\n",
    "    'DecisionTree': (DecisionTreeClassifier(),{'max_depth':[100,150,200,250],'max_leaf_nodes':[50,100]})\n",
    "}"
   ]
  },
  {
   "cell_type": "code",
   "execution_count": null,
   "id": "8291777b",
   "metadata": {},
   "outputs": [],
   "source": []
  },
  {
   "cell_type": "code",
   "execution_count": 118,
   "id": "7525bbf7",
   "metadata": {
    "scrolled": true
   },
   "outputs": [
    {
     "name": "stdout",
     "output_type": "stream",
     "text": [
      "0.5700179999506851\n",
      "0.5802826293626593\n",
      "0.556193654263961\n",
      "0.5626866227763759\n",
      "0.569496357544226\n",
      "Best model: GradientBoostingClassifier(n_estimators=250) with accuracy 0.5803\n",
      "681.35342669487\n"
     ]
    }
   ],
   "source": [
    "start = time.time()\n",
    "bscore = 0\n",
    "bmodel = ''\n",
    "\n",
    "for cl, (clas, param_grid) in classifiers.items():\n",
    "    \n",
    "    grid_search = GridSearchCV(clas, param_grid=param_grid, cv=5, scoring='accuracy')\n",
    "    grid_search.fit(X,yp)\n",
    "    print(grid_search.best_score_)\n",
    "    if grid_search.best_score_ > bscore:\n",
    "        bscore = grid_search.best_score_\n",
    "        bmodel = grid_search.best_estimator_\n",
    "        params = grid_search.best_params_\n",
    "print(f\"Best model: {bmodel} with accuracy {bscore:.4f}\")\n",
    "print(time.time() - start)"
   ]
  },
  {
   "cell_type": "code",
   "execution_count": 119,
   "id": "4f7396df",
   "metadata": {},
   "outputs": [
    {
     "data": {
      "text/html": [
       "<style>#sk-container-id-1 {color: black;background-color: white;}#sk-container-id-1 pre{padding: 0;}#sk-container-id-1 div.sk-toggleable {background-color: white;}#sk-container-id-1 label.sk-toggleable__label {cursor: pointer;display: block;width: 100%;margin-bottom: 0;padding: 0.3em;box-sizing: border-box;text-align: center;}#sk-container-id-1 label.sk-toggleable__label-arrow:before {content: \"▸\";float: left;margin-right: 0.25em;color: #696969;}#sk-container-id-1 label.sk-toggleable__label-arrow:hover:before {color: black;}#sk-container-id-1 div.sk-estimator:hover label.sk-toggleable__label-arrow:before {color: black;}#sk-container-id-1 div.sk-toggleable__content {max-height: 0;max-width: 0;overflow: hidden;text-align: left;background-color: #f0f8ff;}#sk-container-id-1 div.sk-toggleable__content pre {margin: 0.2em;color: black;border-radius: 0.25em;background-color: #f0f8ff;}#sk-container-id-1 input.sk-toggleable__control:checked~div.sk-toggleable__content {max-height: 200px;max-width: 100%;overflow: auto;}#sk-container-id-1 input.sk-toggleable__control:checked~label.sk-toggleable__label-arrow:before {content: \"▾\";}#sk-container-id-1 div.sk-estimator input.sk-toggleable__control:checked~label.sk-toggleable__label {background-color: #d4ebff;}#sk-container-id-1 div.sk-label input.sk-toggleable__control:checked~label.sk-toggleable__label {background-color: #d4ebff;}#sk-container-id-1 input.sk-hidden--visually {border: 0;clip: rect(1px 1px 1px 1px);clip: rect(1px, 1px, 1px, 1px);height: 1px;margin: -1px;overflow: hidden;padding: 0;position: absolute;width: 1px;}#sk-container-id-1 div.sk-estimator {font-family: monospace;background-color: #f0f8ff;border: 1px dotted black;border-radius: 0.25em;box-sizing: border-box;margin-bottom: 0.5em;}#sk-container-id-1 div.sk-estimator:hover {background-color: #d4ebff;}#sk-container-id-1 div.sk-parallel-item::after {content: \"\";width: 100%;border-bottom: 1px solid gray;flex-grow: 1;}#sk-container-id-1 div.sk-label:hover label.sk-toggleable__label {background-color: #d4ebff;}#sk-container-id-1 div.sk-serial::before {content: \"\";position: absolute;border-left: 1px solid gray;box-sizing: border-box;top: 0;bottom: 0;left: 50%;z-index: 0;}#sk-container-id-1 div.sk-serial {display: flex;flex-direction: column;align-items: center;background-color: white;padding-right: 0.2em;padding-left: 0.2em;position: relative;}#sk-container-id-1 div.sk-item {position: relative;z-index: 1;}#sk-container-id-1 div.sk-parallel {display: flex;align-items: stretch;justify-content: center;background-color: white;position: relative;}#sk-container-id-1 div.sk-item::before, #sk-container-id-1 div.sk-parallel-item::before {content: \"\";position: absolute;border-left: 1px solid gray;box-sizing: border-box;top: 0;bottom: 0;left: 50%;z-index: -1;}#sk-container-id-1 div.sk-parallel-item {display: flex;flex-direction: column;z-index: 1;position: relative;background-color: white;}#sk-container-id-1 div.sk-parallel-item:first-child::after {align-self: flex-end;width: 50%;}#sk-container-id-1 div.sk-parallel-item:last-child::after {align-self: flex-start;width: 50%;}#sk-container-id-1 div.sk-parallel-item:only-child::after {width: 0;}#sk-container-id-1 div.sk-dashed-wrapped {border: 1px dashed gray;margin: 0 0.4em 0.5em 0.4em;box-sizing: border-box;padding-bottom: 0.4em;background-color: white;}#sk-container-id-1 div.sk-label label {font-family: monospace;font-weight: bold;display: inline-block;line-height: 1.2em;}#sk-container-id-1 div.sk-label-container {text-align: center;}#sk-container-id-1 div.sk-container {/* jupyter's `normalize.less` sets `[hidden] { display: none; }` but bootstrap.min.css set `[hidden] { display: none !important; }` so we also need the `!important` here to be able to override the default hidden behavior on the sphinx rendered scikit-learn.org. See: https://github.com/scikit-learn/scikit-learn/issues/21755 */display: inline-block !important;position: relative;}#sk-container-id-1 div.sk-text-repr-fallback {display: none;}</style><div id=\"sk-container-id-1\" class=\"sk-top-container\"><div class=\"sk-text-repr-fallback\"><pre>GradientBoostingClassifier(n_estimators=250)</pre><b>In a Jupyter environment, please rerun this cell to show the HTML representation or trust the notebook. <br />On GitHub, the HTML representation is unable to render, please try loading this page with nbviewer.org.</b></div><div class=\"sk-container\" hidden><div class=\"sk-item\"><div class=\"sk-estimator sk-toggleable\"><input class=\"sk-toggleable__control sk-hidden--visually\" id=\"sk-estimator-id-1\" type=\"checkbox\" checked><label for=\"sk-estimator-id-1\" class=\"sk-toggleable__label sk-toggleable__label-arrow\">GradientBoostingClassifier</label><div class=\"sk-toggleable__content\"><pre>GradientBoostingClassifier(n_estimators=250)</pre></div></div></div></div></div>"
      ],
      "text/plain": [
       "GradientBoostingClassifier(n_estimators=250)"
      ]
     },
     "execution_count": 119,
     "metadata": {},
     "output_type": "execute_result"
    }
   ],
   "source": [
    "bmodel"
   ]
  },
  {
   "cell_type": "code",
   "execution_count": 121,
   "id": "ed93f8d0",
   "metadata": {},
   "outputs": [
    {
     "data": {
      "text/plain": [
       "{'learning_rate': 0.1, 'n_estimators': 250}"
      ]
     },
     "execution_count": 121,
     "metadata": {},
     "output_type": "execute_result"
    }
   ],
   "source": [
    "params"
   ]
  },
  {
   "cell_type": "code",
   "execution_count": 122,
   "id": "054cc779",
   "metadata": {},
   "outputs": [],
   "source": [
    "from sklearn.model_selection import learning_curve, validation_curve"
   ]
  },
  {
   "cell_type": "code",
   "execution_count": 124,
   "id": "ae77f20b",
   "metadata": {},
   "outputs": [
    {
     "data": {
      "image/png": "[encoded data removed]",
      "text/plain": [
       "<Figure size 640x480 with 1 Axes>"
      ]
     },
     "metadata": {},
     "output_type": "display_data"
    }
   ],
   "source": [
    "lc = learning_curve(bmodel, X,yp,cv=5)\n",
    "plt.plot(lc[0],lc[1],label='Training score')\n",
    "plt.plot(lc[0],lc[2],label='cross-validation-score')\n",
    "plt.legend()\n",
    "plt.show()"
   ]
  },
  {
   "cell_type": "markdown",
   "id": "40b5cea9",
   "metadata": {},
   "source": [
    "We can see that we got around 0.6 accuracy. and the best model is Gradient boosting algorithm"
   ]
  },
  {
   "cell_type": "code",
   "execution_count": 134,
   "id": "457402b6",
   "metadata": {},
   "outputs": [],
   "source": [
    "classifiers = {\n",
    "    'GradientBoost': (GradientBoostingClassifier(),{'n_estimators':[250,300,350,400,500],'learning_rate':[0.05,0.1,0.15,0.2,0.25]}),\n",
    "}\n"
   ]
  },
  {
   "cell_type": "code",
   "execution_count": 135,
   "id": "877ed1e1",
   "metadata": {},
   "outputs": [],
   "source": [
    "grid_search = GridSearchCV(GradientBoostingClassifier(), param_grid=param_grid, cv=5, scoring='accuracy')"
   ]
  },
  {
   "cell_type": "code",
   "execution_count": null,
   "id": "7fdd4989",
   "metadata": {},
   "outputs": [],
   "source": [
    "grid_search.fit(X,yp)"
   ]
  },
  {
   "cell_type": "code",
   "execution_count": null,
   "id": "4b3649d3",
   "metadata": {},
   "outputs": [],
   "source": [
    "grid_search.best_params_"
   ]
  },
  {
   "cell_type": "code",
   "execution_count": null,
   "id": "eca911e9",
   "metadata": {},
   "outputs": [],
   "source": [
    "grid_search.best_score_"
   ]
  },
  {
   "cell_type": "code",
   "execution_count": 181,
   "id": "03ad84c0",
   "metadata": {},
   "outputs": [],
   "source": [
    "import joblib\n",
    "\n",
    "joblib.dump(bmodel, 'model_pred.joblib')\n",
    "model = joblib.load('model_pred.joblib')"
   ]
  },
  {
   "cell_type": "code",
   "execution_count": 203,
   "id": "16794339",
   "metadata": {
    "scrolled": true
   },
   "outputs": [],
   "source": [
    "new_data = X.iloc[0]\n",
    "pca.fit(new_data.values.reshape(-1,1))\n",
    "new_data_pca = pca.transform(new_data_pca)"
   ]
  },
  {
   "cell_type": "code",
   "execution_count": 205,
   "id": "75175d94",
   "metadata": {},
   "outputs": [
    {
     "data": {
      "text/plain": [
       "(1, 1)"
      ]
     },
     "execution_count": 205,
     "metadata": {},
     "output_type": "execute_result"
    }
   ],
   "source": [
    "new_data_pca.shape"
   ]
  },
  {
   "cell_type": "code",
   "execution_count": 325,
   "id": "3b620fd1",
   "metadata": {},
   "outputs": [
    {
     "data": {
      "text/plain": [
       "' <=50K'"
      ]
     },
     "execution_count": 325,
     "metadata": {},
     "output_type": "execute_result"
    }
   ],
   "source": [
    "y.iloc[0]"
   ]
  },
  {
   "cell_type": "code",
   "execution_count": null,
   "id": "cab03f3c",
   "metadata": {},
   "outputs": [],
   "source": [
    "y_pred = lr_gs.best_estimator_.predict(X)\n",
    "from sklearn.metrics import confusion_matrix\n",
    "print confusion_matrix(y, y_pred)"
   ]
  },
  {
   "cell_type": "markdown",
   "id": "e61cc891",
   "metadata": {},
   "source": [
    "We got really good accuracy. Hence we can finalize our model as DecisionTree with max_depth=150, max_leaf_nodes=100."
   ]
  }
 ],
 "metadata": {
  "kernelspec": {
   "display_name": "Python 3 (ipykernel)",
   "language": "python",
   "name": "python3"
  },
  "language_info": {
   "codemirror_mode": {
    "name": "ipython",
    "version": 3
   },
   "file_extension": ".py",
   "mimetype": "text/x-python",
   "name": "python",
   "nbconvert_exporter": "python",
   "pygments_lexer": "ipython3",
   "version": "3.11.5"
  }
 },
 "nbformat": 4,
 "nbformat_minor": 5
}
