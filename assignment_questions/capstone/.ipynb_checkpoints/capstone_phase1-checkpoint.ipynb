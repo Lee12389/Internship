{
 "cells": [
  {
   "cell_type": "code",
   "execution_count": 1,
   "id": "34fba782",
   "metadata": {},
   "outputs": [],
   "source": [
    "import pandas as pd\n",
    "import os\n",
    "os.chdir('India_Crime -Zip')"
   ]
  },
  {
   "cell_type": "code",
   "execution_count": 9,
   "id": "f030df0b",
   "metadata": {
    "scrolled": true
   },
   "outputs": [
    {
     "data": {
      "text/plain": [
       "\"df0 = pd.read_csv('01_District_wise_crimes_committed_IPC_2001_2012.csv');all_dfs.append(df0)\""
      ]
     },
     "execution_count": 9,
     "metadata": {},
     "output_type": "execute_result"
    }
   ],
   "source": [
    "f\"df{i} = pd.read_csv('{name}');all_dfs.append(df{i})\""
   ]
  },
  {
   "cell_type": "code",
   "execution_count": 15,
   "id": "a1d2306d",
   "metadata": {},
   "outputs": [],
   "source": [
    "all_dfs = {}\n",
    "for i, name in enumerate(os.listdir()):\n",
    "    all_dfs[f\"df{i}\"] = pd.read_csv(name)\n",
    "    "
   ]
  },
  {
   "cell_type": "code",
   "execution_count": 18,
   "id": "ca2001fe",
   "metadata": {},
   "outputs": [
    {
     "data": {
      "text/plain": [
       "['01_District_wise_crimes_committed_IPC_2001_2012.csv',\n",
       " '02_01_District_wise_crimes_committed_against_SC_2001_2012.csv',\n",
       " '02_District_wise_crimes_committed_against_ST_2001_2012.csv',\n",
       " '03_District_wise_crimes_committed_against_children_2001_2012.csv',\n",
       " '08_01_Juvenile_apprehended_state_IPC_2001_2010.csv',\n",
       " '11_Property_stolen_and_recovered_nature_of_property_2001_2010.csv',\n",
       " '13_Police_killed_or_injured_on_duty2001_2010.csv',\n",
       " '17_Case_reported_and_value_of_property_taken_away_by_place_of_occurrence_2001_2012.csv',\n",
       " '17_Crime_by_place_of_occurrence_2001_2012.csv',\n",
       " '35_Human_rights_violation_by_police_2001_2010.csv',\n",
       " '42_District_wise_crimes_committed_against_women_2001_2012.csv']"
      ]
     },
     "execution_count": 18,
     "metadata": {},
     "output_type": "execute_result"
    }
   ],
   "source": [
    "os.listdir()"
   ]
  },
  {
   "cell_type": "code",
   "execution_count": 17,
   "id": "baba9218",
   "metadata": {},
   "outputs": [
    {
     "name": "stdout",
     "output_type": "stream",
     "text": [
      "====================================================================================================\n",
      "df0\n",
      "Index(['STATE/UT', 'DISTRICT', 'YEAR', 'MURDER', 'ATTEMPT TO MURDER',\n",
      "       'CULPABLE HOMICIDE NOT AMOUNTING TO MURDER', 'RAPE', 'CUSTODIAL RAPE',\n",
      "       'OTHER RAPE', 'KIDNAPPING & ABDUCTION',\n",
      "       'KIDNAPPING AND ABDUCTION OF WOMEN AND GIRLS',\n",
      "       'KIDNAPPING AND ABDUCTION OF OTHERS', 'DACOITY',\n",
      "       'PREPARATION AND ASSEMBLY FOR DACOITY', 'ROBBERY', 'BURGLARY', 'THEFT',\n",
      "       'AUTO THEFT', 'OTHER THEFT', 'RIOTS', 'CRIMINAL BREACH OF TRUST',\n",
      "       'CHEATING', 'COUNTERFIETING', 'ARSON', 'HURT/GREVIOUS HURT',\n",
      "       'DOWRY DEATHS', 'ASSAULT ON WOMEN WITH INTENT TO OUTRAGE HER MODESTY',\n",
      "       'INSULT TO MODESTY OF WOMEN', 'CRUELTY BY HUSBAND OR HIS RELATIVES',\n",
      "       'IMPORTATION OF GIRLS FROM FOREIGN COUNTRIES',\n",
      "       'CAUSING DEATH BY NEGLIGENCE', 'OTHER IPC CRIMES', 'TOTAL IPC CRIMES'],\n",
      "      dtype='object')\n",
      "====================================================================================================\n",
      "df1\n",
      "Index(['STATE/UT', 'DISTRICT', 'Year', 'Murder', 'Rape',\n",
      "       'Kidnapping and Abduction', 'Dacoity', 'Robbery', 'Arson', 'Hurt',\n",
      "       'Prevention of atrocities (POA) Act',\n",
      "       'Protection of Civil Rights (PCR) Act', 'Other Crimes Against SCs'],\n",
      "      dtype='object')\n",
      "====================================================================================================\n",
      "df2\n",
      "Index(['STATE/UT', 'DISTRICT', 'Year', 'Murder', 'Rape',\n",
      "       'Kidnapping Abduction', 'Dacoity', 'Robbery', 'Arson', 'Hurt',\n",
      "       'Protection of Civil Rights (PCR) Act',\n",
      "       'Prevention of atrocities (POA) Act', 'Other Crimes Against STs'],\n",
      "      dtype='object')\n",
      "====================================================================================================\n",
      "df3\n",
      "Index(['STATE/UT', 'DISTRICT', 'Year', 'Murder', 'Rape',\n",
      "       'Kidnapping and Abduction', 'Foeticide', 'Abetment of suicide',\n",
      "       'Exposure and abandonment', 'Procuration of minor girls',\n",
      "       'Buying of girls for prostitution', 'Selling of girls for prostitution',\n",
      "       'Prohibition of child marriage act', 'Other Crimes', 'Total'],\n",
      "      dtype='object')\n",
      "====================================================================================================\n",
      "df4\n",
      "Index(['STATE/UT', 'Year', 'CRIME', 'Boys 7-12 Years', 'Girls 7-12 Years',\n",
      "       'Boys 12-16 Years', 'Girls 12-16 Years', 'Boys 16-18 Years',\n",
      "       'Girls 16-18 Years', 'Total for boys all Age Groups',\n",
      "       'Total for girls all Age Groups', 'Grand total'],\n",
      "      dtype='object')\n",
      "====================================================================================================\n",
      "df5\n",
      "Index(['Area_Name', 'Year', 'Group_Name', 'Sub_Group_Name',\n",
      "       'Cases_Property_Recovered', 'Cases_Property_Stolen',\n",
      "       'Value_of_Property_Recovered', 'Value_of_Property_Stolen'],\n",
      "      dtype='object')\n",
      "====================================================================================================\n",
      "df6\n",
      "Index(['Area_Name', 'Year', 'Group_Name', 'Sub_Group_Name',\n",
      "       'Police_Injured_By_Criminals', 'Police_Injured_By_Riotous_Mobs',\n",
      "       'Police_Injured_In_Accidents',\n",
      "       'Police_Injured_In_Dacoity_OperationsOther_raids',\n",
      "       'Police_Injured_In_TerroristsExtremists_Operations',\n",
      "       'Police_Injured_On_Border_Duties', 'Police_Injured_Total_Policemen',\n",
      "       'Police_Killed_By_Criminals', 'Police_Killed_By_Riotous_Mobs',\n",
      "       'Police_Killed_In_Accidents',\n",
      "       'Police_Killed_In_Dacoity_OperationsOther_raids',\n",
      "       'Police_Killed_In_TerroristsExtremists_Operations',\n",
      "       'Police_Killed_On_Border_Duties', 'Police_Killed_Total_Policemen'],\n",
      "      dtype='object')\n",
      "====================================================================================================\n",
      "df7\n",
      "Index(['STATE/UT', 'YEAR', 'Place Of Occurrence',\n",
      "       'Dacoity (Section 395-398 IPC) - Number of cases registered',\n",
      "       'Dacoity (Section 395-398 IPC) - Value Of Property Stolen (in rupees)',\n",
      "       'Robbery(Section 392-394, 397, 398 IPC) - Number of cases registered',\n",
      "       'Robbery(Section 392-394, 397, 398 IPC) - Value Of Property Stolen (in rupees)',\n",
      "       'Burglary(Section 449-452, 454, 455, 457-460 IPC) - Number of cases registered',\n",
      "       'Burglary(Section 449-452, 454, 455, 457-460 IPC) - Value Of Property Stolen (in rupees)',\n",
      "       'Theft (Section 379-382 IPC) - Number of cases registered',\n",
      "       'Theft (Section 379-382 IPC) - Value Of Property Stolen (in rupees)'],\n",
      "      dtype='object')\n",
      "====================================================================================================\n",
      "df8\n",
      "Index(['STATE/UT', 'YEAR', 'RESIDENTIAL PREMISES - Dacoity',\n",
      "       'RESIDENTIAL PREMISES - Robbery', 'RESIDENTIAL PREMISES - Burglary',\n",
      "       'RESIDENTIAL PREMISES - Theft', 'HIGHWAYS - Dacoity',\n",
      "       'HIGHWAYS - Robbery', 'HIGHWAYS - Burglary', 'HIGHWAYS - Theft',\n",
      "       'RIVER and SEA - Dacoity', 'RIVER and SEA - Robbery',\n",
      "       'RIVER and SEA - Burglary', 'RIVER and SEA - Theft',\n",
      "       'RAILWAYS - Dacoity', 'RAILWAYS - Robbery', 'RAILWAYS - Burglary',\n",
      "       'RAILWAYS - Theft', 'BANKS - Dacoity', 'BANKS - Robbery',\n",
      "       'BANKS - Burglary', 'BANKS - Theft',\n",
      "       'COMMERCIAL ESTABLISHMENTS - Dacoity',\n",
      "       'COMMERCIAL ESTABLISHMENTS - Robbery',\n",
      "       'COMMERCIAL ESTABLISHMENTS - Burglary',\n",
      "       'COMMERCIAL ESTABLISHMENTS - Theft', 'OTHER PLACES - Dacoity',\n",
      "       'OTHER PLACES - Robbery', 'OTHER PLACES - Burglary',\n",
      "       'OTHER PLACES - Theft', 'TOTAL - Dacoity', 'TOTAL - Robbery',\n",
      "       'TOTAL - Burglary', 'TOTAL - Theft'],\n",
      "      dtype='object')\n",
      "====================================================================================================\n",
      "df9\n",
      "Index(['Area_Name', 'Year', 'Group_Name', 'Sub_Group_Name',\n",
      "       'Cases_Registered_under_Human_Rights_Violations',\n",
      "       'Policemen_Chargesheeted', 'Policemen_Convicted'],\n",
      "      dtype='object')\n",
      "====================================================================================================\n",
      "df10\n",
      "Index(['STATE/UT', 'DISTRICT', 'Year', 'Rape', 'Kidnapping and Abduction',\n",
      "       'Dowry Deaths', 'Assault on women with intent to outrage her modesty',\n",
      "       'Insult to modesty of Women', 'Cruelty by Husband or his Relatives',\n",
      "       'Importation of Girls'],\n",
      "      dtype='object')\n"
     ]
    }
   ],
   "source": [
    "for key, value in all_dfs.items():\n",
    "    print('='*100)\n",
    "    print(key)\n",
    "    print(value.columns)"
   ]
  }
 ],
 "metadata": {
  "kernelspec": {
   "display_name": "Python 3 (ipykernel)",
   "language": "python",
   "name": "python3"
  },
  "language_info": {
   "codemirror_mode": {
    "name": "ipython",
    "version": 3
   },
   "file_extension": ".py",
   "mimetype": "text/x-python",
   "name": "python",
   "nbconvert_exporter": "python",
   "pygments_lexer": "ipython3",
   "version": "3.11.5"
  }
 },
 "nbformat": 4,
 "nbformat_minor": 5
}
